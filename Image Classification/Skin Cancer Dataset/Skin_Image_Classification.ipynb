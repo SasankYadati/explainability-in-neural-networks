{
  "nbformat": 4,
  "nbformat_minor": 0,
  "metadata": {
    "colab": {
      "name": "Skin Image Classification",
      "version": "0.3.2",
      "provenance": []
    },
    "kernelspec": {
      "name": "python3",
      "display_name": "Python 3"
    },
    "accelerator": "GPU"
  },
  "cells": [
    {
      "metadata": {
        "id": "lGh4uM16M47X",
        "colab_type": "code",
        "colab": {}
      },
      "cell_type": "code",
      "source": [
        "#Dataset Output Classes\n",
        "\n",
        "# 0 ->Actinic Keratoses (Solar Keratoses) and Intraepithelial Carcinoma\n",
        "# 1 ->Basal cell carcinoma\n",
        "# 2 ->Benign keratosis\n",
        "# 3 ->Dermatofibroma\n",
        "# 4 ->Melanocytic nevi\n",
        "# 5 ->Vascular skin lesions\n",
        "# 6 ->Melanoma"
      ],
      "execution_count": 0,
      "outputs": []
    },
    {
      "metadata": {
        "id": "Dh4TY_BrOJ9k",
        "colab_type": "code",
        "colab": {
          "base_uri": "https://localhost:8080/",
          "height": 121
        },
        "outputId": "97d93cde-ba2e-4001-8ca3-5cd4d93a405d"
      },
      "cell_type": "code",
      "source": [
        "from google.colab import drive\n",
        "drive.mount(\"/content/gdrive\")"
      ],
      "execution_count": 2,
      "outputs": [
        {
          "output_type": "stream",
          "text": [
            "Go to this URL in a browser: https://accounts.google.com/o/oauth2/auth?client_id=947318989803-6bn6qk8qdgf4n4g3pfee6491hc0brc4i.apps.googleusercontent.com&redirect_uri=urn%3Aietf%3Awg%3Aoauth%3A2.0%3Aoob&scope=email%20https%3A%2F%2Fwww.googleapis.com%2Fauth%2Fdocs.test%20https%3A%2F%2Fwww.googleapis.com%2Fauth%2Fdrive%20https%3A%2F%2Fwww.googleapis.com%2Fauth%2Fdrive.photos.readonly%20https%3A%2F%2Fwww.googleapis.com%2Fauth%2Fpeopleapi.readonly&response_type=code\n",
            "\n",
            "Enter your authorization code:\n",
            "··········\n",
            "Mounted at /content/gdrive\n"
          ],
          "name": "stdout"
        }
      ]
    },
    {
      "metadata": {
        "id": "d_XsaNPEOaRn",
        "colab_type": "code",
        "colab": {}
      },
      "cell_type": "code",
      "source": [
        "import pandas as pd"
      ],
      "execution_count": 0,
      "outputs": []
    },
    {
      "metadata": {
        "id": "uUd0i36IOw65",
        "colab_type": "code",
        "colab": {}
      },
      "cell_type": "code",
      "source": [
        "df = pd.read_csv(\"/content/gdrive/My Drive/8th Semester Project/hmnist_28_28_RGB.csv\")"
      ],
      "execution_count": 0,
      "outputs": []
    },
    {
      "metadata": {
        "id": "HpsvBt8hPZJN",
        "colab_type": "code",
        "colab": {
          "base_uri": "https://localhost:8080/",
          "height": 168
        },
        "outputId": "eef52c9d-5552-4df7-e6c1-71940eeeb1a6"
      },
      "cell_type": "code",
      "source": [
        "df.groupby('label').size()"
      ],
      "execution_count": 5,
      "outputs": [
        {
          "output_type": "execute_result",
          "data": {
            "text/plain": [
              "label\n",
              "0     327\n",
              "1     514\n",
              "2    1099\n",
              "3     115\n",
              "4    6705\n",
              "5     142\n",
              "6    1113\n",
              "dtype: int64"
            ]
          },
          "metadata": {
            "tags": []
          },
          "execution_count": 5
        }
      ]
    },
    {
      "metadata": {
        "id": "VuHrRwJqQgwi",
        "colab_type": "code",
        "colab": {}
      },
      "cell_type": "code",
      "source": [
        "labels = df['label']"
      ],
      "execution_count": 0,
      "outputs": []
    },
    {
      "metadata": {
        "id": "8PQmfxLOQk4R",
        "colab_type": "code",
        "colab": {}
      },
      "cell_type": "code",
      "source": [
        "df = df.drop('label',axis = 1)"
      ],
      "execution_count": 0,
      "outputs": []
    },
    {
      "metadata": {
        "id": "5YujmALJPo0p",
        "colab_type": "code",
        "colab": {}
      },
      "cell_type": "code",
      "source": [
        "data = df.values"
      ],
      "execution_count": 0,
      "outputs": []
    },
    {
      "metadata": {
        "id": "owLrJ82HQPqr",
        "colab_type": "code",
        "colab": {
          "base_uri": "https://localhost:8080/",
          "height": 34
        },
        "outputId": "b9cf02eb-f0f6-414c-abb0-9f65fc100bfb"
      },
      "cell_type": "code",
      "source": [
        "data.shape"
      ],
      "execution_count": 9,
      "outputs": [
        {
          "output_type": "execute_result",
          "data": {
            "text/plain": [
              "(10015, 2352)"
            ]
          },
          "metadata": {
            "tags": []
          },
          "execution_count": 9
        }
      ]
    },
    {
      "metadata": {
        "id": "yHh2e5BsQQdo",
        "colab_type": "code",
        "colab": {}
      },
      "cell_type": "code",
      "source": [
        "data = data.reshape(-1,28,28,3)"
      ],
      "execution_count": 0,
      "outputs": []
    },
    {
      "metadata": {
        "id": "YA44rgPvQdUo",
        "colab_type": "code",
        "colab": {}
      },
      "cell_type": "code",
      "source": [
        "import numpy as np"
      ],
      "execution_count": 0,
      "outputs": []
    },
    {
      "metadata": {
        "id": "vbgVbsvhQuZx",
        "colab_type": "code",
        "colab": {}
      },
      "cell_type": "code",
      "source": [
        "labels = np.array(labels)"
      ],
      "execution_count": 0,
      "outputs": []
    },
    {
      "metadata": {
        "id": "fRrBrGjfQyyl",
        "colab_type": "code",
        "outputId": "b69636ce-48b7-4c9a-8ab6-e26c1bc626f1",
        "colab": {
          "base_uri": "https://localhost:8080/",
          "height": 34
        }
      },
      "cell_type": "code",
      "source": [
        "labels.shape"
      ],
      "execution_count": 13,
      "outputs": [
        {
          "output_type": "execute_result",
          "data": {
            "text/plain": [
              "(10015,)"
            ]
          },
          "metadata": {
            "tags": []
          },
          "execution_count": 13
        }
      ]
    },
    {
      "metadata": {
        "id": "R-PEbO0hfq_p",
        "colab_type": "code",
        "colab": {}
      },
      "cell_type": "code",
      "source": [
        "first_time = False"
      ],
      "execution_count": 0,
      "outputs": []
    },
    {
      "metadata": {
        "id": "zwA5ApLgUXGL",
        "colab_type": "code",
        "colab": {}
      },
      "cell_type": "code",
      "source": [
        "#Handling Skew in the data"
      ],
      "execution_count": 0,
      "outputs": []
    },
    {
      "metadata": {
        "id": "zaJP5NWYhI0g",
        "colab_type": "code",
        "colab": {}
      },
      "cell_type": "code",
      "source": [
        "data = list(data)"
      ],
      "execution_count": 0,
      "outputs": []
    },
    {
      "metadata": {
        "id": "U4_7aTvwhLC0",
        "colab_type": "code",
        "colab": {
          "base_uri": "https://localhost:8080/",
          "height": 34
        },
        "outputId": "86df8019-63d3-4c8a-a1e0-ccc7d0d77e2a"
      },
      "cell_type": "code",
      "source": [
        "data[0].shape"
      ],
      "execution_count": 17,
      "outputs": [
        {
          "output_type": "execute_result",
          "data": {
            "text/plain": [
              "(28, 28, 3)"
            ]
          },
          "metadata": {
            "tags": []
          },
          "execution_count": 17
        }
      ]
    },
    {
      "metadata": {
        "id": "h1ZVUvrchOgD",
        "colab_type": "code",
        "colab": {
          "base_uri": "https://localhost:8080/",
          "height": 34
        },
        "outputId": "54691303-1d87-4baa-f8a4-b5e5543c58a3"
      },
      "cell_type": "code",
      "source": [
        "len(data)"
      ],
      "execution_count": 18,
      "outputs": [
        {
          "output_type": "execute_result",
          "data": {
            "text/plain": [
              "10015"
            ]
          },
          "metadata": {
            "tags": []
          },
          "execution_count": 18
        }
      ]
    },
    {
      "metadata": {
        "id": "DObeVbf0hXHm",
        "colab_type": "code",
        "colab": {}
      },
      "cell_type": "code",
      "source": [
        "labels = list(labels)"
      ],
      "execution_count": 0,
      "outputs": []
    },
    {
      "metadata": {
        "id": "E_QDhxW_7rUN",
        "colab_type": "code",
        "colab": {}
      },
      "cell_type": "code",
      "source": [
        "if(first_time):\n",
        "  from keras.preprocessing.image import ImageDataGenerator"
      ],
      "execution_count": 0,
      "outputs": []
    },
    {
      "metadata": {
        "id": "ktVgkf1g7WRX",
        "colab_type": "code",
        "colab": {}
      },
      "cell_type": "code",
      "source": [
        "if(first_time):\n",
        "  datagen = ImageDataGenerator(\n",
        "      featurewise_center=True,\n",
        "      featurewise_std_normalization=True,\n",
        "      rotation_range=20,\n",
        "      width_shift_range=0.2,\n",
        "      height_shift_range=0.2,\n",
        "      horizontal_flip=True)"
      ],
      "execution_count": 0,
      "outputs": []
    },
    {
      "metadata": {
        "id": "72tKpso7Vj1l",
        "colab_type": "code",
        "colab": {}
      },
      "cell_type": "code",
      "source": [
        "if(first_time):\n",
        "  l = len(labels)"
      ],
      "execution_count": 0,
      "outputs": []
    },
    {
      "metadata": {
        "id": "Z_H6Iq2JUfz0",
        "colab_type": "code",
        "colab": {}
      },
      "cell_type": "code",
      "source": [
        "if(first_time):\n",
        "  for i in range(l):\n",
        "    label = labels[i]\n",
        "    num =0\n",
        "    if(label==0 or label ==3 or label==5):\n",
        "      num =3\n",
        "    elif(label==1):\n",
        "      num =2\n",
        "    for j in range(num):\n",
        "      image = datagen.random_transform(data[i])\n",
        "      data.append(image)\n",
        "      labels.append(label)\n",
        "    print(\"Done for \",i,'/',l)"
      ],
      "execution_count": 0,
      "outputs": []
    },
    {
      "metadata": {
        "id": "aFYD5yGaUgNk",
        "colab_type": "code",
        "colab": {}
      },
      "cell_type": "code",
      "source": [
        "if(first_time):\n",
        "  assert len(labels) == len(data)"
      ],
      "execution_count": 0,
      "outputs": []
    },
    {
      "metadata": {
        "id": "QTcjTuALeFNq",
        "colab_type": "code",
        "colab": {}
      },
      "cell_type": "code",
      "source": [
        "import pickle"
      ],
      "execution_count": 0,
      "outputs": []
    },
    {
      "metadata": {
        "id": "z6Mdzcl7eG2Q",
        "colab_type": "code",
        "colab": {}
      },
      "cell_type": "code",
      "source": [
        "if(first_time):\n",
        "  pickle.dump([data,labels],open(\"/content/gdrive/My Drive/8th Semester Project/skin_data.pickle\",\"wb\"))"
      ],
      "execution_count": 0,
      "outputs": []
    },
    {
      "metadata": {
        "id": "lPj2rwMriMpt",
        "colab_type": "code",
        "colab": {}
      },
      "cell_type": "code",
      "source": [
        "if(not first_time):\n",
        "  data,labels = pickle.load(open(\"/content/gdrive/My Drive/8th Semester Project/skin_data.pickle\",\"rb\"))"
      ],
      "execution_count": 0,
      "outputs": []
    },
    {
      "metadata": {
        "id": "kBkDn3cKiUjx",
        "colab_type": "code",
        "colab": {
          "base_uri": "https://localhost:8080/",
          "height": 34
        },
        "outputId": "5d11a534-76ce-4d3e-e1d5-9b4cd7da6573"
      },
      "cell_type": "code",
      "source": [
        "len(data)"
      ],
      "execution_count": 28,
      "outputs": [
        {
          "output_type": "execute_result",
          "data": {
            "text/plain": [
              "12795"
            ]
          },
          "metadata": {
            "tags": []
          },
          "execution_count": 28
        }
      ]
    },
    {
      "metadata": {
        "id": "x4FXGBLtiWZJ",
        "colab_type": "code",
        "colab": {
          "base_uri": "https://localhost:8080/",
          "height": 34
        },
        "outputId": "b17fa3ea-8afb-41f9-92b5-cf0f5dd67c74"
      },
      "cell_type": "code",
      "source": [
        "len(labels)"
      ],
      "execution_count": 29,
      "outputs": [
        {
          "output_type": "execute_result",
          "data": {
            "text/plain": [
              "12795"
            ]
          },
          "metadata": {
            "tags": []
          },
          "execution_count": 29
        }
      ]
    },
    {
      "metadata": {
        "id": "M5gvOLtdiXyI",
        "colab_type": "code",
        "colab": {
          "base_uri": "https://localhost:8080/",
          "height": 34
        },
        "outputId": "c06e1b81-a3be-43d2-be72-376e66c3dd2c"
      },
      "cell_type": "code",
      "source": [
        "data_dist = {}\n",
        "\n",
        "for i in range(7):\n",
        "  data_dist[i] = 0\n",
        "\n",
        "for i in labels:\n",
        "  data_dist[i]+=1\n",
        "\n",
        "data_dist"
      ],
      "execution_count": 30,
      "outputs": [
        {
          "output_type": "execute_result",
          "data": {
            "text/plain": [
              "{0: 1308, 1: 1542, 2: 1099, 3: 460, 4: 6705, 5: 568, 6: 1113}"
            ]
          },
          "metadata": {
            "tags": []
          },
          "execution_count": 30
        }
      ]
    },
    {
      "metadata": {
        "id": "0V6E_jvbidcL",
        "colab_type": "code",
        "colab": {
          "base_uri": "https://localhost:8080/",
          "height": 34
        },
        "outputId": "14f94e24-f757-4982-a4f0-e51cc31d1df9"
      },
      "cell_type": "code",
      "source": [
        "data = np.array(data)\n",
        "data.shape"
      ],
      "execution_count": 31,
      "outputs": [
        {
          "output_type": "execute_result",
          "data": {
            "text/plain": [
              "(12795, 28, 28, 3)"
            ]
          },
          "metadata": {
            "tags": []
          },
          "execution_count": 31
        }
      ]
    },
    {
      "metadata": {
        "id": "B51n0KLcihC3",
        "colab_type": "code",
        "colab": {}
      },
      "cell_type": "code",
      "source": [
        "labels = np.array(labels)"
      ],
      "execution_count": 0,
      "outputs": []
    },
    {
      "metadata": {
        "id": "226RArxiijLq",
        "colab_type": "code",
        "colab": {
          "base_uri": "https://localhost:8080/",
          "height": 34
        },
        "outputId": "22be2da8-9601-4cb2-f544-34706a3dd4bf"
      },
      "cell_type": "code",
      "source": [
        "labels.shape"
      ],
      "execution_count": 33,
      "outputs": [
        {
          "output_type": "execute_result",
          "data": {
            "text/plain": [
              "(12795,)"
            ]
          },
          "metadata": {
            "tags": []
          },
          "execution_count": 33
        }
      ]
    },
    {
      "metadata": {
        "id": "hMs8euXLR0Fe",
        "colab_type": "code",
        "colab": {}
      },
      "cell_type": "code",
      "source": [
        "#Visualize Data"
      ],
      "execution_count": 0,
      "outputs": []
    },
    {
      "metadata": {
        "id": "aiMzV2NER1uJ",
        "colab_type": "code",
        "colab": {}
      },
      "cell_type": "code",
      "source": [
        "import matplotlib.pyplot as plt"
      ],
      "execution_count": 0,
      "outputs": []
    },
    {
      "metadata": {
        "id": "s9Ffsm6fR4VR",
        "colab_type": "code",
        "colab": {
          "base_uri": "https://localhost:8080/",
          "height": 364
        },
        "outputId": "3d8a4d44-6bfe-43ac-b1f9-4cb7cb5f85d7"
      },
      "cell_type": "code",
      "source": [
        "plt.imshow(data[8])"
      ],
      "execution_count": 36,
      "outputs": [
        {
          "output_type": "execute_result",
          "data": {
            "text/plain": [
              "<matplotlib.image.AxesImage at 0x7fe256ddc6a0>"
            ]
          },
          "metadata": {
            "tags": []
          },
          "execution_count": 36
        },
        {
          "output_type": "display_data",
          "data": {
            "image/png": "[encoded data removed]",
            "text/plain": [
              "<Figure size 576x396 with 1 Axes>"
            ]
          },
          "metadata": {
            "tags": []
          }
        }
      ]
    },
    {
      "metadata": {
        "id": "7WFnjwC0Q0Yx",
        "colab_type": "code",
        "colab": {
          "base_uri": "https://localhost:8080/",
          "height": 34
        },
        "outputId": "c6a0237b-4ec4-4a5e-c32b-eab711b103e6"
      },
      "cell_type": "code",
      "source": [
        "import keras"
      ],
      "execution_count": 37,
      "outputs": [
        {
          "output_type": "stream",
          "text": [
            "Using TensorFlow backend.\n"
          ],
          "name": "stderr"
        }
      ]
    },
    {
      "metadata": {
        "id": "6LxQFHDDRaot",
        "colab_type": "code",
        "colab": {}
      },
      "cell_type": "code",
      "source": [
        "labels = keras.utils.to_categorical(labels, num_classes=7, dtype='float32')"
      ],
      "execution_count": 0,
      "outputs": []
    },
    {
      "metadata": {
        "id": "2oVmUPusRdaU",
        "colab_type": "code",
        "colab": {}
      },
      "cell_type": "code",
      "source": [
        "import sklearn"
      ],
      "execution_count": 0,
      "outputs": []
    },
    {
      "metadata": {
        "id": "_lDfcn-TRs9S",
        "colab_type": "code",
        "colab": {}
      },
      "cell_type": "code",
      "source": [
        "from sklearn.model_selection import train_test_split"
      ],
      "execution_count": 0,
      "outputs": []
    },
    {
      "metadata": {
        "id": "MAultA9VRgHk",
        "colab_type": "code",
        "colab": {}
      },
      "cell_type": "code",
      "source": [
        "x_train, x_test, y_train, y_test = train_test_split(data, labels, test_size=0.2, random_state=42)"
      ],
      "execution_count": 0,
      "outputs": []
    },
    {
      "metadata": {
        "id": "7WfMl433RpL6",
        "colab_type": "code",
        "colab": {}
      },
      "cell_type": "code",
      "source": [
        "#CNN Model"
      ],
      "execution_count": 0,
      "outputs": []
    },
    {
      "metadata": {
        "id": "v3wbuAttRx1i",
        "colab_type": "code",
        "colab": {}
      },
      "cell_type": "code",
      "source": [
        "from keras.models import Sequential"
      ],
      "execution_count": 0,
      "outputs": []
    },
    {
      "metadata": {
        "id": "74Ui6ffiSGEw",
        "colab_type": "code",
        "colab": {}
      },
      "cell_type": "code",
      "source": [
        "from keras import regularizers"
      ],
      "execution_count": 0,
      "outputs": []
    },
    {
      "metadata": {
        "id": "r0inlTE3SIN1",
        "colab_type": "code",
        "colab": {}
      },
      "cell_type": "code",
      "source": [
        "from keras.layers import Conv2D\n",
        "from keras.layers import MaxPooling2D\n",
        "from keras.layers import Dense, Dropout, Flatten"
      ],
      "execution_count": 0,
      "outputs": []
    },
    {
      "metadata": {
        "id": "Q_i_v_xOSLC6",
        "colab_type": "code",
        "colab": {}
      },
      "cell_type": "code",
      "source": [
        "batch_size = 256\n",
        "num_classes = 7\n",
        "number_of_epochs = 50"
      ],
      "execution_count": 0,
      "outputs": []
    },
    {
      "metadata": {
        "id": "p_kqi5y4SP-e",
        "colab_type": "code",
        "colab": {}
      },
      "cell_type": "code",
      "source": [
        "model = Sequential()\n",
        "\n",
        "model.add(Conv2D(32, (3, 3), input_shape=(28,28,3), padding='same',activation='relu'))\n",
        "model.add(Conv2D(32, (3, 3), activation='relu', padding='same'))\n",
        "model.add(MaxPooling2D(pool_size=(2, 2), strides=(2, 2)))\n",
        "\n",
        "model.add(Conv2D(64, (3, 3), activation='relu', padding='same'))\n",
        "model.add(Conv2D(64, (3, 3), activation='relu', padding='same'))\n",
        "model.add(MaxPooling2D(pool_size=(2, 2), strides=(2, 2)))\n",
        "\n",
        "model.add(Conv2D(32, (3, 3), activation='relu', padding='same'))\n",
        "model.add(Conv2D(32, (3, 3), activation='relu', padding='same'))\n",
        "\n",
        "model.add(Flatten())\n",
        "\n",
        "model.add(Dense(512, activation='relu', kernel_regularizer=regularizers.l2(0.1)))\n",
        "model.add(Dropout(0.4))\n",
        "\n",
        "model.add(Dense(256, activation='relu', kernel_regularizer=regularizers.l2(0.1)))\n",
        "model.add(Dropout(0.3))\n",
        "\n",
        "model.add(Dense(7, activation='softmax' ))\n",
        "\n",
        "model.compile(loss=keras.losses.categorical_crossentropy,optimizer=keras.optimizers.Adam(lr=0.001),metrics=['accuracy'])"
      ],
      "execution_count": 0,
      "outputs": []
    },
    {
      "metadata": {
        "id": "RQga8lplSb1I",
        "colab_type": "code",
        "colab": {
          "base_uri": "https://localhost:8080/",
          "height": 605
        },
        "outputId": "c485e077-899e-4560-9513-82f6de276bd6"
      },
      "cell_type": "code",
      "source": [
        "model.summary()"
      ],
      "execution_count": 196,
      "outputs": [
        {
          "output_type": "stream",
          "text": [
            "_________________________________________________________________\n",
            "Layer (type)                 Output Shape              Param #   \n",
            "=================================================================\n",
            "conv2d_114 (Conv2D)          (None, 28, 28, 32)        896       \n",
            "_________________________________________________________________\n",
            "conv2d_115 (Conv2D)          (None, 28, 28, 32)        9248      \n",
            "_________________________________________________________________\n",
            "max_pooling2d_36 (MaxPooling (None, 14, 14, 32)        0         \n",
            "_________________________________________________________________\n",
            "conv2d_116 (Conv2D)          (None, 14, 14, 64)        18496     \n",
            "_________________________________________________________________\n",
            "conv2d_117 (Conv2D)          (None, 14, 14, 64)        36928     \n",
            "_________________________________________________________________\n",
            "max_pooling2d_37 (MaxPooling (None, 7, 7, 64)          0         \n",
            "_________________________________________________________________\n",
            "conv2d_118 (Conv2D)          (None, 7, 7, 32)          18464     \n",
            "_________________________________________________________________\n",
            "conv2d_119 (Conv2D)          (None, 7, 7, 32)          9248      \n",
            "_________________________________________________________________\n",
            "flatten_13 (Flatten)         (None, 1568)              0         \n",
            "_________________________________________________________________\n",
            "dense_37 (Dense)             (None, 512)               803328    \n",
            "_________________________________________________________________\n",
            "dropout_25 (Dropout)         (None, 512)               0         \n",
            "_________________________________________________________________\n",
            "dense_38 (Dense)             (None, 256)               131328    \n",
            "_________________________________________________________________\n",
            "dropout_26 (Dropout)         (None, 256)               0         \n",
            "_________________________________________________________________\n",
            "dense_39 (Dense)             (None, 7)                 1799      \n",
            "=================================================================\n",
            "Total params: 1,029,735\n",
            "Trainable params: 1,029,735\n",
            "Non-trainable params: 0\n",
            "_________________________________________________________________\n"
          ],
          "name": "stdout"
        }
      ]
    },
    {
      "metadata": {
        "id": "o-rSR5PtjLwc",
        "colab_type": "code",
        "colab": {}
      },
      "cell_type": "code",
      "source": [
        "early_stopping = keras.callbacks.EarlyStopping(monitor='val_loss',\n",
        "                              min_delta=0,\n",
        "                              patience=5,\n",
        "                              verbose=0, mode='auto',restore_best_weights=True)"
      ],
      "execution_count": 0,
      "outputs": []
    },
    {
      "metadata": {
        "id": "s9bCXTTESdYc",
        "colab_type": "code",
        "colab": {
          "base_uri": "https://localhost:8080/",
          "height": 1730
        },
        "outputId": "f3d6cf19-4ae0-4aeb-a187-f8f2fc392c16"
      },
      "cell_type": "code",
      "source": [
        "model.fit(x_train, y_train,batch_size=batch_size,epochs=number_of_epochs,verbose=1,validation_data=(x_test, y_test))"
      ],
      "execution_count": 198,
      "outputs": [
        {
          "output_type": "stream",
          "text": [
            "Train on 10236 samples, validate on 2559 samples\n",
            "Epoch 1/50\n",
            "10236/10236 [==============================] - 4s 370us/step - loss: 61.0741 - acc: 0.5039 - val_loss: 24.2110 - val_acc: 0.5322\n",
            "Epoch 2/50\n",
            "10236/10236 [==============================] - 2s 174us/step - loss: 13.6814 - acc: 0.5721 - val_loss: 7.2669 - val_acc: 0.5869\n",
            "Epoch 3/50\n",
            "10236/10236 [==============================] - 2s 175us/step - loss: 4.9853 - acc: 0.5877 - val_loss: 3.3446 - val_acc: 0.6030\n",
            "Epoch 4/50\n",
            "10236/10236 [==============================] - 2s 175us/step - loss: 2.6374 - acc: 0.5940 - val_loss: 2.0642 - val_acc: 0.6069\n",
            "Epoch 5/50\n",
            "10236/10236 [==============================] - 2s 174us/step - loss: 1.8069 - acc: 0.6020 - val_loss: 1.5777 - val_acc: 0.5991\n",
            "Epoch 6/50\n",
            "10236/10236 [==============================] - 2s 175us/step - loss: 1.4466 - acc: 0.6044 - val_loss: 1.3982 - val_acc: 0.5889\n",
            "Epoch 7/50\n",
            "10236/10236 [==============================] - 2s 175us/step - loss: 1.2797 - acc: 0.6151 - val_loss: 1.1619 - val_acc: 0.6335\n",
            "Epoch 8/50\n",
            "10236/10236 [==============================] - 2s 175us/step - loss: 1.1594 - acc: 0.6377 - val_loss: 1.1175 - val_acc: 0.6573\n",
            "Epoch 9/50\n",
            "10236/10236 [==============================] - 2s 175us/step - loss: 1.0989 - acc: 0.6499 - val_loss: 1.0910 - val_acc: 0.6483\n",
            "Epoch 10/50\n",
            "10236/10236 [==============================] - 2s 175us/step - loss: 1.0681 - acc: 0.6577 - val_loss: 1.0140 - val_acc: 0.6643\n",
            "Epoch 11/50\n",
            "10236/10236 [==============================] - 2s 173us/step - loss: 1.0506 - acc: 0.6535 - val_loss: 1.0170 - val_acc: 0.6589\n",
            "Epoch 12/50\n",
            "10236/10236 [==============================] - 2s 174us/step - loss: 1.0389 - acc: 0.6585 - val_loss: 1.1287 - val_acc: 0.6553\n",
            "Epoch 13/50\n",
            "10236/10236 [==============================] - 2s 175us/step - loss: 1.0455 - acc: 0.6642 - val_loss: 0.9547 - val_acc: 0.6889\n",
            "Epoch 14/50\n",
            "10236/10236 [==============================] - 2s 175us/step - loss: 0.9862 - acc: 0.6803 - val_loss: 1.0590 - val_acc: 0.6420\n",
            "Epoch 15/50\n",
            "10236/10236 [==============================] - 2s 175us/step - loss: 0.9823 - acc: 0.6807 - val_loss: 0.9377 - val_acc: 0.6889\n",
            "Epoch 16/50\n",
            "10236/10236 [==============================] - 2s 175us/step - loss: 0.9571 - acc: 0.6903 - val_loss: 0.9430 - val_acc: 0.6913\n",
            "Epoch 17/50\n",
            "10236/10236 [==============================] - 2s 176us/step - loss: 0.9521 - acc: 0.6964 - val_loss: 0.8997 - val_acc: 0.7120\n",
            "Epoch 18/50\n",
            "10236/10236 [==============================] - 2s 175us/step - loss: 0.9394 - acc: 0.7026 - val_loss: 0.9292 - val_acc: 0.7046\n",
            "Epoch 19/50\n",
            "10236/10236 [==============================] - 2s 175us/step - loss: 0.9381 - acc: 0.7038 - val_loss: 0.9042 - val_acc: 0.7124\n",
            "Epoch 20/50\n",
            "10236/10236 [==============================] - 2s 175us/step - loss: 0.9047 - acc: 0.7142 - val_loss: 0.9180 - val_acc: 0.7077\n",
            "Epoch 21/50\n",
            "10236/10236 [==============================] - 2s 176us/step - loss: 0.9215 - acc: 0.7119 - val_loss: 0.9222 - val_acc: 0.7050\n",
            "Epoch 22/50\n",
            "10236/10236 [==============================] - 2s 174us/step - loss: 0.8922 - acc: 0.7255 - val_loss: 0.9013 - val_acc: 0.7085\n",
            "Epoch 23/50\n",
            "10236/10236 [==============================] - 2s 175us/step - loss: 0.8756 - acc: 0.7275 - val_loss: 0.8825 - val_acc: 0.7206\n",
            "Epoch 24/50\n",
            "10236/10236 [==============================] - 2s 176us/step - loss: 0.8876 - acc: 0.7220 - val_loss: 0.9113 - val_acc: 0.6991\n",
            "Epoch 25/50\n",
            "10236/10236 [==============================] - 2s 174us/step - loss: 0.8949 - acc: 0.7282 - val_loss: 0.9105 - val_acc: 0.7069\n",
            "Epoch 26/50\n",
            "10236/10236 [==============================] - 2s 174us/step - loss: 0.8808 - acc: 0.7307 - val_loss: 0.9536 - val_acc: 0.6983\n",
            "Epoch 27/50\n",
            "10236/10236 [==============================] - 2s 175us/step - loss: 0.8557 - acc: 0.7364 - val_loss: 0.9039 - val_acc: 0.7171\n",
            "Epoch 28/50\n",
            "10236/10236 [==============================] - 2s 175us/step - loss: 0.8527 - acc: 0.7390 - val_loss: 0.9525 - val_acc: 0.7124\n",
            "Epoch 29/50\n",
            "10236/10236 [==============================] - 2s 176us/step - loss: 0.8291 - acc: 0.7479 - val_loss: 0.9129 - val_acc: 0.7140\n",
            "Epoch 30/50\n",
            "10236/10236 [==============================] - 2s 175us/step - loss: 0.8311 - acc: 0.7503 - val_loss: 0.8836 - val_acc: 0.7397\n",
            "Epoch 31/50\n",
            "10236/10236 [==============================] - 2s 175us/step - loss: 0.8374 - acc: 0.7489 - val_loss: 0.9187 - val_acc: 0.7175\n",
            "Epoch 32/50\n",
            "10236/10236 [==============================] - 2s 175us/step - loss: 0.8105 - acc: 0.7550 - val_loss: 0.8960 - val_acc: 0.7210\n",
            "Epoch 33/50\n",
            "10236/10236 [==============================] - 2s 175us/step - loss: 0.8317 - acc: 0.7489 - val_loss: 0.9068 - val_acc: 0.7163\n",
            "Epoch 34/50\n",
            "10236/10236 [==============================] - 2s 176us/step - loss: 0.7980 - acc: 0.7632 - val_loss: 0.9132 - val_acc: 0.7225\n",
            "Epoch 35/50\n",
            "10236/10236 [==============================] - 2s 175us/step - loss: 0.8182 - acc: 0.7559 - val_loss: 0.9723 - val_acc: 0.7077\n",
            "Epoch 36/50\n",
            "10236/10236 [==============================] - 2s 175us/step - loss: 0.7824 - acc: 0.7712 - val_loss: 0.9093 - val_acc: 0.7175\n",
            "Epoch 37/50\n",
            "10236/10236 [==============================] - 2s 176us/step - loss: 0.7763 - acc: 0.7753 - val_loss: 0.9741 - val_acc: 0.7108\n",
            "Epoch 38/50\n",
            "10236/10236 [==============================] - 2s 175us/step - loss: 0.7549 - acc: 0.7813 - val_loss: 0.9127 - val_acc: 0.7268\n",
            "Epoch 39/50\n",
            "10236/10236 [==============================] - 2s 176us/step - loss: 0.7304 - acc: 0.7931 - val_loss: 0.9743 - val_acc: 0.6964\n",
            "Epoch 40/50\n",
            "10236/10236 [==============================] - 2s 176us/step - loss: 0.7270 - acc: 0.7926 - val_loss: 0.9127 - val_acc: 0.7272\n",
            "Epoch 41/50\n",
            "10236/10236 [==============================] - 2s 176us/step - loss: 0.6845 - acc: 0.8044 - val_loss: 0.9552 - val_acc: 0.7276\n",
            "Epoch 42/50\n",
            "10236/10236 [==============================] - 2s 176us/step - loss: 0.7292 - acc: 0.7967 - val_loss: 0.8959 - val_acc: 0.7382\n",
            "Epoch 43/50\n",
            "10236/10236 [==============================] - 2s 175us/step - loss: 0.6992 - acc: 0.8037 - val_loss: 0.9565 - val_acc: 0.7315\n",
            "Epoch 44/50\n",
            "10236/10236 [==============================] - 2s 175us/step - loss: 0.6898 - acc: 0.8084 - val_loss: 0.9034 - val_acc: 0.7394\n",
            "Epoch 45/50\n",
            "10236/10236 [==============================] - 2s 175us/step - loss: 0.6812 - acc: 0.8137 - val_loss: 0.9742 - val_acc: 0.7155\n",
            "Epoch 46/50\n",
            "10236/10236 [==============================] - 2s 174us/step - loss: 0.6546 - acc: 0.8261 - val_loss: 0.9759 - val_acc: 0.7265\n",
            "Epoch 47/50\n",
            "10236/10236 [==============================] - 2s 176us/step - loss: 0.6432 - acc: 0.8350 - val_loss: 0.9996 - val_acc: 0.7042\n",
            "Epoch 48/50\n",
            "10236/10236 [==============================] - 2s 175us/step - loss: 0.6818 - acc: 0.8248 - val_loss: 1.0110 - val_acc: 0.7175\n",
            "Epoch 49/50\n",
            "10236/10236 [==============================] - 2s 176us/step - loss: 0.6406 - acc: 0.8357 - val_loss: 1.0454 - val_acc: 0.7343\n",
            "Epoch 50/50\n",
            "10236/10236 [==============================] - 2s 175us/step - loss: 0.6015 - acc: 0.8494 - val_loss: 0.9919 - val_acc: 0.7265\n"
          ],
          "name": "stdout"
        },
        {
          "output_type": "execute_result",
          "data": {
            "text/plain": [
              "<keras.callbacks.History at 0x7fe1e6d79e10>"
            ]
          },
          "metadata": {
            "tags": []
          },
          "execution_count": 198
        }
      ]
    },
    {
      "metadata": {
        "id": "dAFJG9yljKsB",
        "colab_type": "code",
        "colab": {}
      },
      "cell_type": "code",
      "source": [
        "model.save('/content/gdrive/My Drive/8th Semester Project/skin_cancer_classification__model3_0.7265_.h5')"
      ],
      "execution_count": 0,
      "outputs": []
    },
    {
      "metadata": {
        "id": "UTYe-D0alRXi",
        "colab_type": "code",
        "colab": {}
      },
      "cell_type": "code",
      "source": [
        "#Performance Metrics"
      ],
      "execution_count": 0,
      "outputs": []
    },
    {
      "metadata": {
        "id": "6rpqAOJxlkVf",
        "colab_type": "code",
        "colab": {}
      },
      "cell_type": "code",
      "source": [
        "actual_output = []\n",
        "obtained_output = []"
      ],
      "execution_count": 0,
      "outputs": []
    },
    {
      "metadata": {
        "id": "QMeGehihlTJv",
        "colab_type": "code",
        "colab": {}
      },
      "cell_type": "code",
      "source": [
        "#Make predictions\n",
        "obtained_output = model.predict(x_test)\n",
        "actual_output = y_test"
      ],
      "execution_count": 0,
      "outputs": []
    },
    {
      "metadata": {
        "id": "8EAHxkcrlTOo",
        "colab_type": "code",
        "colab": {}
      },
      "cell_type": "code",
      "source": [
        "obtained_output = [np.argmax(i) for i in obtained_output]\n",
        "actual_output = [np.argmax(i) for i in y_test]"
      ],
      "execution_count": 0,
      "outputs": []
    },
    {
      "metadata": {
        "id": "yqtpsd-slTVJ",
        "colab_type": "code",
        "colab": {}
      },
      "cell_type": "code",
      "source": [
        "assert len(list(obtained_output)) == len(list(actual_output))"
      ],
      "execution_count": 0,
      "outputs": []
    },
    {
      "metadata": {
        "id": "RCgUxUyAZasG",
        "colab_type": "code",
        "colab": {
          "base_uri": "https://localhost:8080/",
          "height": 34
        },
        "outputId": "629c7d1d-6ad1-4bbf-86d2-6bc50b4b9f56"
      },
      "cell_type": "code",
      "source": [
        "count =0\n",
        "for i in obtained_output:\n",
        "  if(i==4):\n",
        "    count+=1\n",
        "print(count/len(obtained_output))"
      ],
      "execution_count": 205,
      "outputs": [
        {
          "output_type": "stream",
          "text": [
            "0.5935912465806956\n"
          ],
          "name": "stdout"
        }
      ]
    },
    {
      "metadata": {
        "id": "7oskXnDrZlyd",
        "colab_type": "code",
        "colab": {
          "base_uri": "https://localhost:8080/",
          "height": 34
        },
        "outputId": "03d06122-e6df-49c8-c9e0-2b3227943aa6"
      },
      "cell_type": "code",
      "source": [
        "count =0\n",
        "for i in actual_output:\n",
        "  if(i==4):\n",
        "    count+=1\n",
        "print(count/len(obtained_output))"
      ],
      "execution_count": 206,
      "outputs": [
        {
          "output_type": "stream",
          "text": [
            "0.523642047674873\n"
          ],
          "name": "stdout"
        }
      ]
    },
    {
      "metadata": {
        "id": "hcfMvFdrlTSl",
        "colab_type": "code",
        "colab": {
          "base_uri": "https://localhost:8080/",
          "height": 34
        },
        "outputId": "dafb4451-e64a-4d3e-ee50-a2bf0dc8cef3"
      },
      "cell_type": "code",
      "source": [
        "number_correct = 0\n",
        "for i in range(len(obtained_output)):\n",
        "  if(obtained_output[i]==actual_output[i]):\n",
        "    number_correct +=1\n",
        "print(\"Accurcay is : \",number_correct/len(obtained_output))"
      ],
      "execution_count": 207,
      "outputs": [
        {
          "output_type": "stream",
          "text": [
            "Accurcay is :  0.7264556467370067\n"
          ],
          "name": "stdout"
        }
      ]
    },
    {
      "metadata": {
        "id": "rDbP24R0nWph",
        "colab_type": "code",
        "colab": {}
      },
      "cell_type": "code",
      "source": [
        "from sklearn.metrics import f1_score"
      ],
      "execution_count": 0,
      "outputs": []
    },
    {
      "metadata": {
        "id": "bFRUAD0mnXhw",
        "colab_type": "code",
        "colab": {
          "base_uri": "https://localhost:8080/",
          "height": 34
        },
        "outputId": "b8857294-4afe-46dc-9109-8d1d626dcf2c"
      },
      "cell_type": "code",
      "source": [
        "f1score = f1_score(actual_output,obtained_output,average='weighted')\n",
        "\n",
        "print(\"F1 Score is : \",f1score)"
      ],
      "execution_count": 209,
      "outputs": [
        {
          "output_type": "stream",
          "text": [
            "F1 Score is :  0.7092627613058269\n"
          ],
          "name": "stdout"
        }
      ]
    },
    {
      "metadata": {
        "id": "W-RG4yIonXke",
        "colab_type": "code",
        "colab": {}
      },
      "cell_type": "code",
      "source": [
        "from sklearn.metrics import recall_score"
      ],
      "execution_count": 0,
      "outputs": []
    },
    {
      "metadata": {
        "id": "9mTCajfpnXnF",
        "colab_type": "code",
        "colab": {
          "base_uri": "https://localhost:8080/",
          "height": 34
        },
        "outputId": "5202b297-26b1-4b0b-8079-92b56d35a5e8"
      },
      "cell_type": "code",
      "source": [
        "recall = recall_score(actual_output,obtained_output,average='weighted')\n",
        "\n",
        "print(\"Recall Score is : \",recall)"
      ],
      "execution_count": 211,
      "outputs": [
        {
          "output_type": "stream",
          "text": [
            "Recall Score is :  0.7264556467370067\n"
          ],
          "name": "stdout"
        }
      ]
    },
    {
      "metadata": {
        "id": "mvWgYJDGnXrz",
        "colab_type": "code",
        "colab": {}
      },
      "cell_type": "code",
      "source": [
        "from sklearn.metrics import precision_score"
      ],
      "execution_count": 0,
      "outputs": []
    },
    {
      "metadata": {
        "id": "Hi8Yu6r_nXp0",
        "colab_type": "code",
        "colab": {
          "base_uri": "https://localhost:8080/",
          "height": 34
        },
        "outputId": "2d69fb2f-4d49-4347-99f6-6ae9cd23041c"
      },
      "cell_type": "code",
      "source": [
        "precision = precision_score(actual_output,obtained_output,average = 'weighted')\n",
        "\n",
        "print(\"Precision Score is : \",precision)"
      ],
      "execution_count": 213,
      "outputs": [
        {
          "output_type": "stream",
          "text": [
            "Precision Score is :  0.7136241209318618\n"
          ],
          "name": "stdout"
        }
      ]
    },
    {
      "metadata": {
        "id": "RMPbDDI5kebK",
        "colab_type": "code",
        "colab": {}
      },
      "cell_type": "code",
      "source": [
        "#LIME Explanations"
      ],
      "execution_count": 0,
      "outputs": []
    },
    {
      "metadata": {
        "id": "9j5KJNqNkfc-",
        "colab_type": "code",
        "colab": {
          "base_uri": "https://localhost:8080/",
          "height": 457
        },
        "outputId": "e5b9f61d-df59-4219-d181-0e919cf6c907"
      },
      "cell_type": "code",
      "source": [
        "!pip install lime"
      ],
      "execution_count": 68,
      "outputs": [
        {
          "output_type": "stream",
          "text": [
            "Collecting lime\n",
            "\u001b[?25l  Downloading https://files.pythonhosted.org/packages/28/59/8342382ba3301ec02a9d1a30a6d9d9c19484344a9201c5c3d83295332d44/lime-0.1.1.32.tar.gz (266kB)\n",
            "\u001b[K    100% |████████████████████████████████| 276kB 7.6MB/s \n",
            "\u001b[?25hRequirement already satisfied: numpy in /usr/local/lib/python3.6/dist-packages (from lime) (1.14.6)\n",
            "Requirement already satisfied: scipy in /usr/local/lib/python3.6/dist-packages (from lime) (1.1.0)\n",
            "Requirement already satisfied: scikit-learn>=0.18 in /usr/local/lib/python3.6/dist-packages (from lime) (0.20.2)\n",
            "Requirement already satisfied: scikit-image>=0.12 in /usr/local/lib/python3.6/dist-packages (from lime) (0.13.1)\n",
            "Requirement already satisfied: pillow>=2.1.0 in /usr/local/lib/python3.6/dist-packages (from scikit-image>=0.12->lime) (4.0.0)\n",
            "Requirement already satisfied: PyWavelets>=0.4.0 in /usr/local/lib/python3.6/dist-packages (from scikit-image>=0.12->lime) (1.0.1)\n",
            "Requirement already satisfied: matplotlib>=1.3.1 in /usr/local/lib/python3.6/dist-packages (from scikit-image>=0.12->lime) (3.0.2)\n",
            "Requirement already satisfied: networkx>=1.8 in /usr/local/lib/python3.6/dist-packages (from scikit-image>=0.12->lime) (2.2)\n",
            "Requirement already satisfied: six>=1.7.3 in /usr/local/lib/python3.6/dist-packages (from scikit-image>=0.12->lime) (1.11.0)\n",
            "Requirement already satisfied: olefile in /usr/local/lib/python3.6/dist-packages (from pillow>=2.1.0->scikit-image>=0.12->lime) (0.46)\n",
            "Requirement already satisfied: cycler>=0.10 in /usr/local/lib/python3.6/dist-packages (from matplotlib>=1.3.1->scikit-image>=0.12->lime) (0.10.0)\n",
            "Requirement already satisfied: python-dateutil>=2.1 in /usr/local/lib/python3.6/dist-packages (from matplotlib>=1.3.1->scikit-image>=0.12->lime) (2.5.3)\n",
            "Requirement already satisfied: kiwisolver>=1.0.1 in /usr/local/lib/python3.6/dist-packages (from matplotlib>=1.3.1->scikit-image>=0.12->lime) (1.0.1)\n",
            "Requirement already satisfied: pyparsing!=2.0.4,!=2.1.2,!=2.1.6,>=2.0.1 in /usr/local/lib/python3.6/dist-packages (from matplotlib>=1.3.1->scikit-image>=0.12->lime) (2.3.1)\n",
            "Requirement already satisfied: decorator>=4.3.0 in /usr/local/lib/python3.6/dist-packages (from networkx>=1.8->scikit-image>=0.12->lime) (4.3.2)\n",
            "Requirement already satisfied: setuptools in /usr/local/lib/python3.6/dist-packages (from kiwisolver>=1.0.1->matplotlib>=1.3.1->scikit-image>=0.12->lime) (40.7.0)\n",
            "Building wheels for collected packages: lime\n",
            "  Building wheel for lime (setup.py) ... \u001b[?25ldone\n",
            "\u001b[?25h  Stored in directory: /root/.cache/pip/wheels/48/13/7c/20792e4efe5fd04237c0ac92bc8551acfe36392e09953ac8ea\n",
            "Successfully built lime\n",
            "Installing collected packages: lime\n",
            "Successfully installed lime-0.1.1.32\n"
          ],
          "name": "stdout"
        }
      ]
    },
    {
      "metadata": {
        "id": "5G6zjeqIkhFY",
        "colab_type": "code",
        "colab": {}
      },
      "cell_type": "code",
      "source": [
        "import lime\n",
        "from lime import lime_image"
      ],
      "execution_count": 0,
      "outputs": []
    },
    {
      "metadata": {
        "id": "b7I39pPxkqLa",
        "colab_type": "code",
        "colab": {}
      },
      "cell_type": "code",
      "source": [
        "def prediction_function(x):\n",
        "  result = model.predict(x.reshape(-1,28,28,3))\n",
        "  return result"
      ],
      "execution_count": 0,
      "outputs": []
    },
    {
      "metadata": {
        "id": "DikFnCqSlPxH",
        "colab_type": "code",
        "colab": {}
      },
      "cell_type": "code",
      "source": [
        "explainer = lime_image.LimeImageExplainer()"
      ],
      "execution_count": 0,
      "outputs": []
    },
    {
      "metadata": {
        "id": "uNyIuOD2ktG9",
        "colab_type": "code",
        "colab": {}
      },
      "cell_type": "code",
      "source": [
        "def add_noise(image):\n",
        "  row,col,ch = image.shape\n",
        "  s_vs_p = 0.5\n",
        "  amount = 0.005\n",
        "  out = np.copy(image)\n",
        "  # Salt mode\n",
        "  num_salt = np.ceil(amount * image.size * s_vs_p)\n",
        "  coords = [np.random.randint(0, i - 1, int(num_salt))\n",
        "          for i in image.shape]\n",
        "  out[coords] = 1\n",
        "\n",
        "  # Pepper mode\n",
        "  num_pepper = np.ceil(amount* image.size * (1. - s_vs_p))\n",
        "  coords = [np.random.randint(0, i - 1, int(num_pepper))\n",
        "          for i in image.shape]\n",
        "  out[coords] = 0\n",
        "  return out"
      ],
      "execution_count": 0,
      "outputs": []
    },
    {
      "metadata": {
        "id": "RyQApoBNkuo9",
        "colab_type": "code",
        "colab": {}
      },
      "cell_type": "code",
      "source": [
        "from skimage.measure import structural_similarity as ssim\n",
        "import cv2"
      ],
      "execution_count": 0,
      "outputs": []
    },
    {
      "metadata": {
        "id": "qVs3Gr5TkwRD",
        "colab_type": "code",
        "colab": {}
      },
      "cell_type": "code",
      "source": [
        "def mse(imageA, imageB):\n",
        "\t# the 'Mean Squared Error' between the two images is the\n",
        "\t# sum of the squared difference between the two images;\n",
        "\t# NOTE: the two images must have the same dimension\n",
        "\terr = np.sum((imageA.astype(\"float\") - imageB.astype(\"float\")) ** 2)\n",
        "\terr /= float(imageA.shape[0] * imageA.shape[1])\n",
        "\t\n",
        "\t# return the MSE, the lower the error, the more \"similar\"\n",
        "\t# the two images are\n",
        "\treturn err"
      ],
      "execution_count": 0,
      "outputs": []
    },
    {
      "metadata": {
        "id": "Qgyg4TECkxuf",
        "colab_type": "code",
        "colab": {}
      },
      "cell_type": "code",
      "source": [
        "def compare_images(imageA, imageB, title):\n",
        "  # compute the mean squared error and structural similarity\n",
        "  # index for the images\n",
        "  m = mse(imageA, imageB)\n",
        "  s = ssim(imageA, imageB,multichannel=True)\n",
        "\n",
        "  # setup the figure\n",
        "  fig = plt.figure(title)\n",
        "  plt.suptitle(\"MSE: %.2f, SSIM: %.2f\" % (m, s))\n",
        "\n",
        "  # show first image\n",
        "  ax = fig.add_subplot(1, 2, 1)\n",
        "  plt.imshow(imageA, cmap = plt.cm.gray)\n",
        "  plt.axis(\"off\")\n",
        "\n",
        "  # show the second image\n",
        "  ax = fig.add_subplot(1, 2, 2)\n",
        "  plt.imshow(imageB, cmap = plt.cm.gray)\n",
        "  plt.axis(\"off\")\n",
        "\n",
        "  # show the images\n",
        "  plt.show() \n",
        "  return m,s"
      ],
      "execution_count": 0,
      "outputs": []
    },
    {
      "metadata": {
        "id": "tjMJlLeCkzj6",
        "colab_type": "code",
        "colab": {}
      },
      "cell_type": "code",
      "source": [
        "from lime.wrappers.scikit_image import SegmentationAlgorithm"
      ],
      "execution_count": 0,
      "outputs": []
    },
    {
      "metadata": {
        "id": "7IBzFXNfpSIm",
        "colab_type": "code",
        "colab": {}
      },
      "cell_type": "code",
      "source": [
        "from skimage.color import gray2rgb, rgb2gray, label2rgb"
      ],
      "execution_count": 0,
      "outputs": []
    },
    {
      "metadata": {
        "id": "rQ_D-Hn3k1Ut",
        "colab_type": "code",
        "colab": {}
      },
      "cell_type": "code",
      "source": [
        "segmenter = SegmentationAlgorithm('quickshift', kernel_size=1, max_dist=200, ratio=0.2)"
      ],
      "execution_count": 0,
      "outputs": []
    },
    {
      "metadata": {
        "id": "cJVEkRvuk21s",
        "colab_type": "code",
        "colab": {}
      },
      "cell_type": "code",
      "source": [
        "def return_explanation_image(image,y,filename):\n",
        "  explanation = explainer.explain_instance(image,classifier_fn = prediction_function,top_labels=7, hide_color=0, num_samples=1000, segmentation_fn=segmenter)\n",
        "  output = np.argmax(y)\n",
        "  \n",
        "  temp, mask = explanation.get_image_and_mask(output, positive_only=True, num_features=10, hide_rest=False, min_weight = 0.01)\n",
        "  fig= plt.figure()\n",
        "  (ax1) = fig.add_subplot(2,1,1)\n",
        "  ax1.imshow(label2rgb(mask,temp, bg_label = 0), interpolation = 'nearest')\n",
        "  ax1.set_title('Positive Regions for {}'.format(output))\n",
        "  \n",
        "  \n",
        "  fig.savefig(filename)\n",
        "  img = cv2.imread(filename)\n",
        "  \n",
        "  return img"
      ],
      "execution_count": 0,
      "outputs": []
    },
    {
      "metadata": {
        "id": "lOaHvJEtnyd5",
        "colab_type": "code",
        "colab": {}
      },
      "cell_type": "code",
      "source": [
        "#Test Explanation "
      ],
      "execution_count": 0,
      "outputs": []
    },
    {
      "metadata": {
        "id": "pwDcIUGap-ts",
        "colab_type": "code",
        "colab": {
          "base_uri": "https://localhost:8080/",
          "height": 50
        },
        "outputId": "0c37a56e-417d-44d3-d75c-f9ab6e13fa5e"
      },
      "cell_type": "code",
      "source": [
        "explanation = explainer.explain_instance(x_test[8], \n",
        "                                         classifier_fn = prediction_function, \n",
        "                                         top_labels=7, hide_color=0, num_samples=1000, segmentation_fn=segmenter)"
      ],
      "execution_count": 226,
      "outputs": [
        {
          "output_type": "stream",
          "text": [
            "/usr/local/lib/python3.6/dist-packages/skimage/util/dtype.py:122: UserWarning: Possible precision loss when converting from int64 to float64\n",
            "  .format(dtypeobj_in, dtypeobj_out))\n"
          ],
          "name": "stderr"
        }
      ]
    },
    {
      "metadata": {
        "id": "1gKRyHRAqEPK",
        "colab_type": "code",
        "colab": {
          "base_uri": "https://localhost:8080/",
          "height": 34
        },
        "outputId": "a826c701-2879-4836-b1aa-edaba330fa19"
      },
      "cell_type": "code",
      "source": [
        "sample_test_input = x_test[8]\n",
        "sample_test_input.shape"
      ],
      "execution_count": 227,
      "outputs": [
        {
          "output_type": "execute_result",
          "data": {
            "text/plain": [
              "(28, 28, 3)"
            ]
          },
          "metadata": {
            "tags": []
          },
          "execution_count": 227
        }
      ]
    },
    {
      "metadata": {
        "id": "sLdnyqa9qJ3P",
        "colab_type": "code",
        "colab": {
          "base_uri": "https://localhost:8080/",
          "height": 364
        },
        "outputId": "65727295-6aab-4a9b-f771-46ef2aa09707"
      },
      "cell_type": "code",
      "source": [
        "plt.imshow(sample_test_input)"
      ],
      "execution_count": 228,
      "outputs": [
        {
          "output_type": "execute_result",
          "data": {
            "text/plain": [
              "<matplotlib.image.AxesImage at 0x7fe1e62a9550>"
            ]
          },
          "metadata": {
            "tags": []
          },
          "execution_count": 228
        },
        {
          "output_type": "display_data",
          "data": {
            "image/png": "[encoded data removed]",
            "text/plain": [
              "<Figure size 576x396 with 1 Axes>"
            ]
          },
          "metadata": {
            "tags": []
          }
        }
      ]
    },
    {
      "metadata": {
        "id": "wS537yBCqO-V",
        "colab_type": "code",
        "colab": {
          "base_uri": "https://localhost:8080/",
          "height": 34
        },
        "outputId": "9fd51ebc-c29a-4628-8df5-88f929d04234"
      },
      "cell_type": "code",
      "source": [
        "output = np.argmax(y_test[8])\n",
        "output"
      ],
      "execution_count": 229,
      "outputs": [
        {
          "output_type": "execute_result",
          "data": {
            "text/plain": [
              "4"
            ]
          },
          "metadata": {
            "tags": []
          },
          "execution_count": 229
        }
      ]
    },
    {
      "metadata": {
        "id": "NQEwKMwcqcpe",
        "colab_type": "code",
        "colab": {
          "base_uri": "https://localhost:8080/",
          "height": 34
        },
        "outputId": "a47a208a-9c92-4e1f-9dae-d8cc8ee7cf43"
      },
      "cell_type": "code",
      "source": [
        "np.argmax(prediction_function(x_test[8]))"
      ],
      "execution_count": 232,
      "outputs": [
        {
          "output_type": "execute_result",
          "data": {
            "text/plain": [
              "4"
            ]
          },
          "metadata": {
            "tags": []
          },
          "execution_count": 232
        }
      ]
    },
    {
      "metadata": {
        "id": "MEmPh6xhcyRh",
        "colab_type": "code",
        "colab": {
          "base_uri": "https://localhost:8080/",
          "height": 50
        },
        "outputId": "7272bcd0-7cb7-4383-a83f-965d342ca485"
      },
      "cell_type": "code",
      "source": [
        "print(prediction_function(x_test[8]))"
      ],
      "execution_count": 233,
      "outputs": [
        {
          "output_type": "stream",
          "text": [
            "[[5.0058813e-10 6.8714400e-08 9.7773889e-05 1.0089570e-07 9.9983788e-01\n",
            "  4.7813174e-08 6.4064960e-05]]\n"
          ],
          "name": "stdout"
        }
      ]
    },
    {
      "metadata": {
        "id": "gVjlUhf4cyag",
        "colab_type": "code",
        "colab": {}
      },
      "cell_type": "code",
      "source": [
        "explainer = lime_image.LimeImageExplainer()"
      ],
      "execution_count": 0,
      "outputs": []
    },
    {
      "metadata": {
        "id": "E7t--sV3cykR",
        "colab_type": "code",
        "colab": {
          "base_uri": "https://localhost:8080/",
          "height": 50
        },
        "outputId": "b6fc7dee-0721-48aa-8a89-4687b3eb5829"
      },
      "cell_type": "code",
      "source": [
        "explanation = explainer.explain_instance(x_test[8], prediction_function, top_labels=5, hide_color=0, num_samples=1000)"
      ],
      "execution_count": 169,
      "outputs": [
        {
          "output_type": "stream",
          "text": [
            "/usr/local/lib/python3.6/dist-packages/skimage/util/dtype.py:122: UserWarning: Possible precision loss when converting from int64 to float64\n",
            "  .format(dtypeobj_in, dtypeobj_out))\n"
          ],
          "name": "stderr"
        }
      ]
    },
    {
      "metadata": {
        "id": "vSjY_BlVcyo_",
        "colab_type": "code",
        "colab": {}
      },
      "cell_type": "code",
      "source": [
        "from skimage.segmentation import mark_boundaries"
      ],
      "execution_count": 0,
      "outputs": []
    },
    {
      "metadata": {
        "id": "b3SJMLDCcyYh",
        "colab_type": "code",
        "colab": {
          "base_uri": "https://localhost:8080/",
          "height": 398
        },
        "outputId": "0819ecab-0d5f-4fac-d8d6-37ffea999d99"
      },
      "cell_type": "code",
      "source": [
        "temp, mask = explanation.get_image_and_mask(4, positive_only=True, num_features=1, hide_rest=False)\n",
        "plt.imshow(mark_boundaries(temp, mask))"
      ],
      "execution_count": 265,
      "outputs": [
        {
          "output_type": "stream",
          "text": [
            "/usr/local/lib/python3.6/dist-packages/skimage/util/dtype.py:122: UserWarning: Possible precision loss when converting from int64 to float64\n",
            "  .format(dtypeobj_in, dtypeobj_out))\n"
          ],
          "name": "stderr"
        },
        {
          "output_type": "execute_result",
          "data": {
            "text/plain": [
              "<matplotlib.image.AxesImage at 0x7fe1e5c7a358>"
            ]
          },
          "metadata": {
            "tags": []
          },
          "execution_count": 265
        },
        {
          "output_type": "display_data",
          "data": {
            "image/png": "[encoded data removed]",
            "text/plain": [
              "<Figure size 576x396 with 1 Axes>"
            ]
          },
          "metadata": {
            "tags": []
          }
        }
      ]
    },
    {
      "metadata": {
        "id": "KwVAJ5R6qWnC",
        "colab_type": "code",
        "colab": {
          "base_uri": "https://localhost:8080/",
          "height": 250
        },
        "outputId": "8db13168-ff1d-43f5-b23a-af526ae2ddc6"
      },
      "cell_type": "code",
      "source": [
        "temp, mask = explanation.get_image_and_mask(output, positive_only=True, num_features=1, hide_rest=False, min_weight = 0.01)\n",
        "fig= plt.figure()\n",
        "(ax1) = fig.add_subplot(2,1,1)\n",
        "ax1.imshow(label2rgb(mask,temp, bg_label = 0), interpolation = 'nearest')\n",
        "ax1.set_title('Positive Regions for {}'.format(output))"
      ],
      "execution_count": 244,
      "outputs": [
        {
          "output_type": "stream",
          "text": [
            "/usr/local/lib/python3.6/dist-packages/skimage/util/dtype.py:122: UserWarning: Possible precision loss when converting from int64 to float64\n",
            "  .format(dtypeobj_in, dtypeobj_out))\n"
          ],
          "name": "stderr"
        },
        {
          "output_type": "execute_result",
          "data": {
            "text/plain": [
              "Text(0.5, 1.0, 'Positive Regions for 4')"
            ]
          },
          "metadata": {
            "tags": []
          },
          "execution_count": 244
        },
        {
          "output_type": "display_data",
          "data": {
            "image/png": "[encoded data removed]",
            "text/plain": [
              "<Figure size 576x396 with 1 Axes>"
            ]
          },
          "metadata": {
            "tags": []
          }
        }
      ]
    },
    {
      "metadata": {
        "id": "9y3yk-xlr3RQ",
        "colab_type": "code",
        "colab": {}
      },
      "cell_type": "code",
      "source": [
        "fig.savefig(\"sample_input_explanation.jpeg\")"
      ],
      "execution_count": 0,
      "outputs": []
    },
    {
      "metadata": {
        "id": "41dH1bDKq4Xb",
        "colab_type": "code",
        "colab": {}
      },
      "cell_type": "code",
      "source": [
        "noisy_input = add_noise(sample_test_input)"
      ],
      "execution_count": 0,
      "outputs": []
    },
    {
      "metadata": {
        "id": "j0nxYP1zq7Gb",
        "colab_type": "code",
        "colab": {
          "base_uri": "https://localhost:8080/",
          "height": 34
        },
        "outputId": "f3eca496-2889-4c36-de0b-e7a884b537e9"
      },
      "cell_type": "code",
      "source": [
        "noisy_input.shape"
      ],
      "execution_count": 250,
      "outputs": [
        {
          "output_type": "execute_result",
          "data": {
            "text/plain": [
              "(28, 28, 3)"
            ]
          },
          "metadata": {
            "tags": []
          },
          "execution_count": 250
        }
      ]
    },
    {
      "metadata": {
        "id": "joFcuNrRq7JC",
        "colab_type": "code",
        "colab": {
          "base_uri": "https://localhost:8080/",
          "height": 364
        },
        "outputId": "863dec3a-4b89-40c7-dda8-75794c2762ed"
      },
      "cell_type": "code",
      "source": [
        "plt.imshow(noisy_input)"
      ],
      "execution_count": 251,
      "outputs": [
        {
          "output_type": "execute_result",
          "data": {
            "text/plain": [
              "<matplotlib.image.AxesImage at 0x7fe1e5f48b70>"
            ]
          },
          "metadata": {
            "tags": []
          },
          "execution_count": 251
        },
        {
          "output_type": "display_data",
          "data": {
            "image/png": "[encoded data removed]",
            "text/plain": [
              "<Figure size 576x396 with 1 Axes>"
            ]
          },
          "metadata": {
            "tags": []
          }
        }
      ]
    },
    {
      "metadata": {
        "id": "3r0kT25Dq7Lv",
        "colab_type": "code",
        "colab": {
          "base_uri": "https://localhost:8080/",
          "height": 391
        },
        "outputId": "8c8fe0ec-03ca-4899-c1f6-1da93b355997"
      },
      "cell_type": "code",
      "source": [
        "mse1,s1 = compare_images(sample_test_input,noisy_input,\"Image Difference\")"
      ],
      "execution_count": 252,
      "outputs": [
        {
          "output_type": "stream",
          "text": [
            "/usr/local/lib/python3.6/dist-packages/skimage/measure/_structural_similarity.py:234: skimage_deprecation: Function ``structural_similarity`` is deprecated and will be removed in version 0.14. Use ``compare_ssim`` instead.\n",
            "  def structural_similarity(X, Y, win_size=None, gradient=False,\n"
          ],
          "name": "stderr"
        },
        {
          "output_type": "display_data",
          "data": {
            "image/png": "[encoded data removed]",
            "text/plain": [
              "<Figure size 576x396 with 2 Axes>"
            ]
          },
          "metadata": {
            "tags": []
          }
        }
      ]
    },
    {
      "metadata": {
        "id": "gB5Ly1ttq7Od",
        "colab_type": "code",
        "colab": {
          "base_uri": "https://localhost:8080/",
          "height": 50
        },
        "outputId": "1ac007fe-baa9-43ce-c9b4-30c7282a7290"
      },
      "cell_type": "code",
      "source": [
        "explanation = explainer.explain_instance(noisy_input, \n",
        "                                         classifier_fn = prediction_function, \n",
        "                                         top_labels=1, hide_color=0, num_samples=1000, segmentation_fn=segmenter)"
      ],
      "execution_count": 253,
      "outputs": [
        {
          "output_type": "stream",
          "text": [
            "/usr/local/lib/python3.6/dist-packages/skimage/util/dtype.py:122: UserWarning: Possible precision loss when converting from int64 to float64\n",
            "  .format(dtypeobj_in, dtypeobj_out))\n"
          ],
          "name": "stderr"
        }
      ]
    },
    {
      "metadata": {
        "id": "jSwrhoOIragG",
        "colab_type": "code",
        "colab": {
          "base_uri": "https://localhost:8080/",
          "height": 250
        },
        "outputId": "da58e414-a146-47db-daaf-7f6d732422fd"
      },
      "cell_type": "code",
      "source": [
        "temp, mask = explanation.get_image_and_mask(output, positive_only=True, num_features=10, hide_rest=False, min_weight = 0.01)\n",
        "fig= plt.figure()\n",
        "(ax1) = fig.add_subplot(2,1,1)\n",
        "ax1.imshow(label2rgb(mask,temp, bg_label = 0), interpolation = 'nearest')\n",
        "ax1.set_title('Positive Regions for {}'.format(output))"
      ],
      "execution_count": 254,
      "outputs": [
        {
          "output_type": "stream",
          "text": [
            "/usr/local/lib/python3.6/dist-packages/skimage/util/dtype.py:122: UserWarning: Possible precision loss when converting from int64 to float64\n",
            "  .format(dtypeobj_in, dtypeobj_out))\n"
          ],
          "name": "stderr"
        },
        {
          "output_type": "execute_result",
          "data": {
            "text/plain": [
              "Text(0.5, 1.0, 'Positive Regions for 4')"
            ]
          },
          "metadata": {
            "tags": []
          },
          "execution_count": 254
        },
        {
          "output_type": "display_data",
          "data": {
            "image/png": "[encoded data removed]",
            "text/plain": [
              "<Figure size 576x396 with 1 Axes>"
            ]
          },
          "metadata": {
            "tags": []
          }
        }
      ]
    },
    {
      "metadata": {
        "id": "usDO0Xizraiv",
        "colab_type": "code",
        "colab": {}
      },
      "cell_type": "code",
      "source": [
        "fig.savefig(\"noisy_input_explanation.jpeg\")"
      ],
      "execution_count": 0,
      "outputs": []
    },
    {
      "metadata": {
        "id": "q2PEp467ralm",
        "colab_type": "code",
        "colab": {}
      },
      "cell_type": "code",
      "source": [
        "img = cv2.imread('noisy_input_explanation.jpeg')"
      ],
      "execution_count": 0,
      "outputs": []
    },
    {
      "metadata": {
        "id": "54eGB1RGsJoH",
        "colab_type": "code",
        "colab": {}
      },
      "cell_type": "code",
      "source": [
        "img2 = cv2.imread('sample_input_explanation.jpeg')"
      ],
      "execution_count": 0,
      "outputs": []
    },
    {
      "metadata": {
        "id": "Ik59qTS8sL_P",
        "colab_type": "code",
        "colab": {
          "base_uri": "https://localhost:8080/",
          "height": 34
        },
        "outputId": "198c93cf-f46a-4996-c009-2263ea1f2b06"
      },
      "cell_type": "code",
      "source": [
        "img2.shape"
      ],
      "execution_count": 258,
      "outputs": [
        {
          "output_type": "execute_result",
          "data": {
            "text/plain": [
              "(396, 576, 3)"
            ]
          },
          "metadata": {
            "tags": []
          },
          "execution_count": 258
        }
      ]
    },
    {
      "metadata": {
        "id": "SIwgRblhsOSP",
        "colab_type": "code",
        "colab": {
          "base_uri": "https://localhost:8080/",
          "height": 361
        },
        "outputId": "2520173b-6e25-4172-c944-b1fcfc58f0d8"
      },
      "cell_type": "code",
      "source": [
        "mse2,s2= compare_images(img,img2,\"Explanation Difference\")"
      ],
      "execution_count": 261,
      "outputs": [
        {
          "output_type": "stream",
          "text": [
            "/usr/local/lib/python3.6/dist-packages/skimage/measure/_structural_similarity.py:234: skimage_deprecation: Function ``structural_similarity`` is deprecated and will be removed in version 0.14. Use ``compare_ssim`` instead.\n",
            "  def structural_similarity(X, Y, win_size=None, gradient=False,\n"
          ],
          "name": "stderr"
        },
        {
          "output_type": "display_data",
          "data": {
            "image/png": "[encoded data removed]",
            "text/plain": [
              "<Figure size 576x396 with 2 Axes>"
            ]
          },
          "metadata": {
            "tags": []
          }
        }
      ]
    },
    {
      "metadata": {
        "id": "eeUMFhCWsPvc",
        "colab_type": "code",
        "colab": {}
      },
      "cell_type": "code",
      "source": [
        "#stability score for the current image\n",
        "# stability = change in the explanation / change in the input\n",
        "stability = mse2/mse1"
      ],
      "execution_count": 0,
      "outputs": []
    },
    {
      "metadata": {
        "id": "6z6Dny2tsSRJ",
        "colab_type": "code",
        "colab": {
          "base_uri": "https://localhost:8080/",
          "height": 34
        },
        "outputId": "3fcf58e7-b5d1-400a-e76f-07ff3bcd0605"
      },
      "cell_type": "code",
      "source": [
        "stability"
      ],
      "execution_count": 263,
      "outputs": [
        {
          "output_type": "execute_result",
          "data": {
            "text/plain": [
              "0.43840435549800766"
            ]
          },
          "metadata": {
            "tags": []
          },
          "execution_count": 263
        }
      ]
    },
    {
      "metadata": {
        "id": "dlJeyFryk4PN",
        "colab_type": "code",
        "colab": {}
      },
      "cell_type": "code",
      "source": [
        "number_of_samples = 200"
      ],
      "execution_count": 0,
      "outputs": []
    },
    {
      "metadata": {
        "id": "K-pMErfhrmOw",
        "colab_type": "code",
        "colab": {
          "base_uri": "https://localhost:8080/",
          "height": 34
        },
        "outputId": "a430d2f9-407f-4180-882d-fa00a65f3dbc"
      },
      "cell_type": "code",
      "source": [
        "img.shape"
      ],
      "execution_count": 123,
      "outputs": [
        {
          "output_type": "execute_result",
          "data": {
            "text/plain": [
              "(396, 576, 3)"
            ]
          },
          "metadata": {
            "tags": []
          },
          "execution_count": 123
        }
      ]
    },
    {
      "metadata": {
        "id": "NePpHfUNk7ov",
        "colab_type": "code",
        "colab": {}
      },
      "cell_type": "code",
      "source": [
        "stabilities = []"
      ],
      "execution_count": 0,
      "outputs": []
    },
    {
      "metadata": {
        "id": "wHsjlGImk95Q",
        "colab_type": "code",
        "colab": {}
      },
      "cell_type": "code",
      "source": [
        "for i in range(number_of_samples):\n",
        "  image = x_test[i]\n",
        "  output = y_test[i]\n",
        "  \n",
        "  original_filename = \"/content/gdrive/My Drive/8th Semester Project/test_1.jpeg\"\n",
        "  original_image_explanation = return_explanation_image(image,output,original_filename)\n",
        "  \n",
        "  noisy_input = add_noise(image)\n",
        "  \n",
        "  noisy_exp_filename = \"/content/gdrive/My Drive/8th Semester Project/test_2.jpeg\"\n",
        "  noisy_image_explanation = return_explanation_image(noisy_input,output,noisy_exp_filename)\n",
        "  \n",
        "  m1,s1 = compare_images(image,noisy_input,\"Original Images\")\n",
        "  m2,s2 = compare_images(original_image_explanation,noisy_image_explanation,\"Explanations\")\n",
        "  \n",
        "  stability = m2/m1\n",
        "  \n",
        "  stabilities.append(stability)\n",
        "  print(\"Done for \",i,'/',number_of_samples)"
      ],
      "execution_count": 0,
      "outputs": []
    },
    {
      "metadata": {
        "id": "W6O5V_Twk_h4",
        "colab_type": "code",
        "colab": {}
      },
      "cell_type": "code",
      "source": [
        "mean_stability = sum(stabilities)/len(stabilities)"
      ],
      "execution_count": 0,
      "outputs": []
    },
    {
      "metadata": {
        "id": "-tCiZpNGtF99",
        "colab_type": "code",
        "colab": {
          "base_uri": "https://localhost:8080/",
          "height": 34
        },
        "outputId": "ed9a3d37-f38b-4768-e8ad-5afee3d5e8ee"
      },
      "cell_type": "code",
      "source": [
        "print(\"Mean Stability of the Model is : \",mean_stability)"
      ],
      "execution_count": 223,
      "outputs": [
        {
          "output_type": "stream",
          "text": [
            "Mean Stability of the Model is :  0.1128044146263678\n"
          ],
          "name": "stdout"
        }
      ]
    }
  ]
}