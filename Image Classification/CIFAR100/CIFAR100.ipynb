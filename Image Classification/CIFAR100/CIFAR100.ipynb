{
  "nbformat": 4,
  "nbformat_minor": 0,
  "metadata": {
    "colab": {
      "name": "CIFAR100",
      "version": "0.3.2",
      "provenance": []
    },
    "kernelspec": {
      "name": "python3",
      "display_name": "Python 3"
    },
    "accelerator": "GPU"
  },
  "cells": [
    {
      "metadata": {
        "id": "aoQyKGC9sTtU",
        "colab_type": "code",
        "colab": {}
      },
      "cell_type": "code",
      "source": [
        "#CIFAR 100 CNN"
      ],
      "execution_count": 0,
      "outputs": []
    },
    {
      "metadata": {
        "id": "_hujWLGvUDe_",
        "colab_type": "code",
        "colab": {}
      },
      "cell_type": "code",
      "source": [
        "import keras\n",
        "from keras.datasets import cifar100\n",
        "from keras.preprocessing.image import ImageDataGenerator\n",
        "from keras.models import Sequential\n",
        "from keras.layers import Dense, Dropout, Activation, Flatten\n",
        "from keras.layers import Conv2D, MaxPooling2D\n",
        "\n",
        "import os\n",
        "import pickle\n",
        "import numpy as np\n",
        "import h5py"
      ],
      "execution_count": 0,
      "outputs": []
    },
    {
      "metadata": {
        "id": "-NVG9XVisaE4",
        "colab_type": "code",
        "colab": {
          "base_uri": "https://localhost:8080/",
          "height": 67
        },
        "outputId": "0bf2c5b0-6792-428f-ad72-83f0b74f796e"
      },
      "cell_type": "code",
      "source": [
        "num_classes = 100\n",
        "\n",
        "# The data, shuffled and split between train and test sets:\n",
        "(x_train, y_train), (x_test, y_test) = cifar100.load_data()\n",
        "print('x_train shape:', x_train.shape)\n",
        "print(x_train.shape[0], 'train samples')\n",
        "print(x_test.shape[0], 'test samples')\n",
        "\n",
        "# Convert class vectors to binary class matrices.\n",
        "y_train = keras.utils.to_categorical(y_train, num_classes)\n",
        "y_test = keras.utils.to_categorical(y_test, num_classes)\n",
        "\n",
        "x_train = x_train.astype('float32')\n",
        "x_test = x_test.astype('float32')\n",
        "x_train /= 255.\n",
        "x_test /= 255."
      ],
      "execution_count": 5,
      "outputs": [
        {
          "output_type": "stream",
          "text": [
            "x_train shape: (50000, 32, 32, 3)\n",
            "50000 train samples\n",
            "10000 test samples\n"
          ],
          "name": "stdout"
        }
      ]
    },
    {
      "metadata": {
        "id": "0TuzLNCVsdPr",
        "colab_type": "code",
        "colab": {}
      },
      "cell_type": "code",
      "source": [
        "model = Sequential()\n",
        "\n",
        "model.add(Conv2D(128, (3, 3), padding='same',input_shape=(32,32,3)))\n",
        "model.add(Activation('elu'))\n",
        "model.add(Conv2D(128, (3, 3)))\n",
        "model.add(Activation('elu'))\n",
        "model.add(MaxPooling2D(pool_size=(2, 2)))\n",
        "#model.add(Dropout(0.25))\n",
        "\n",
        "model.add(Conv2D(256, (3, 3), padding='same'))\n",
        "model.add(Activation('elu'))\n",
        "model.add(Conv2D(256, (3, 3)))\n",
        "model.add(Activation('elu'))\n",
        "model.add(MaxPooling2D(pool_size=(2, 2)))\n",
        "model.add(Dropout(0.25))\n",
        "\n",
        "model.add(Conv2D(512, (3, 3), padding='same'))\n",
        "model.add(Activation('elu'))\n",
        "model.add(Conv2D(512, (3, 3)))\n",
        "model.add(Activation('elu'))\n",
        "model.add(MaxPooling2D(pool_size=(2, 2)))\n",
        "model.add(Dropout(0.25))\n",
        "\n",
        "\n",
        "model.add(Flatten())\n",
        "model.add(Dense(1024))\n",
        "model.add(Activation('elu'))\n",
        "model.add(Dropout(0.5))\n",
        "model.add(Dense(num_classes))\n",
        "model.add(Activation('softmax'))\n",
        "\n",
        "# initiate RMSprop optimizer\n",
        "opt = keras.optimizers.rmsprop(lr=0.0001, decay=1e-6)\n",
        "\n",
        "# Let's train the model using RMSprop\n",
        "model.compile(loss='categorical_crossentropy',optimizer=opt, metrics=['accuracy'])"
      ],
      "execution_count": 0,
      "outputs": []
    },
    {
      "metadata": {
        "id": "o6yA0iwNshwp",
        "colab_type": "code",
        "colab": {
          "base_uri": "https://localhost:8080/",
          "height": 907
        },
        "outputId": "e243a53c-ea21-42d2-9e82-d37c9515350a"
      },
      "cell_type": "code",
      "source": [
        "model.summary()"
      ],
      "execution_count": 11,
      "outputs": [
        {
          "output_type": "stream",
          "text": [
            "_________________________________________________________________\n",
            "Layer (type)                 Output Shape              Param #   \n",
            "=================================================================\n",
            "conv2d_1 (Conv2D)            (None, 32, 32, 128)       3584      \n",
            "_________________________________________________________________\n",
            "activation_1 (Activation)    (None, 32, 32, 128)       0         \n",
            "_________________________________________________________________\n",
            "conv2d_2 (Conv2D)            (None, 30, 30, 128)       147584    \n",
            "_________________________________________________________________\n",
            "activation_2 (Activation)    (None, 30, 30, 128)       0         \n",
            "_________________________________________________________________\n",
            "max_pooling2d_1 (MaxPooling2 (None, 15, 15, 128)       0         \n",
            "_________________________________________________________________\n",
            "conv2d_3 (Conv2D)            (None, 15, 15, 256)       295168    \n",
            "_________________________________________________________________\n",
            "activation_3 (Activation)    (None, 15, 15, 256)       0         \n",
            "_________________________________________________________________\n",
            "conv2d_4 (Conv2D)            (None, 13, 13, 256)       590080    \n",
            "_________________________________________________________________\n",
            "activation_4 (Activation)    (None, 13, 13, 256)       0         \n",
            "_________________________________________________________________\n",
            "max_pooling2d_2 (MaxPooling2 (None, 6, 6, 256)         0         \n",
            "_________________________________________________________________\n",
            "dropout_1 (Dropout)          (None, 6, 6, 256)         0         \n",
            "_________________________________________________________________\n",
            "conv2d_5 (Conv2D)            (None, 6, 6, 512)         1180160   \n",
            "_________________________________________________________________\n",
            "activation_5 (Activation)    (None, 6, 6, 512)         0         \n",
            "_________________________________________________________________\n",
            "conv2d_6 (Conv2D)            (None, 4, 4, 512)         2359808   \n",
            "_________________________________________________________________\n",
            "activation_6 (Activation)    (None, 4, 4, 512)         0         \n",
            "_________________________________________________________________\n",
            "max_pooling2d_3 (MaxPooling2 (None, 2, 2, 512)         0         \n",
            "_________________________________________________________________\n",
            "dropout_2 (Dropout)          (None, 2, 2, 512)         0         \n",
            "_________________________________________________________________\n",
            "flatten_1 (Flatten)          (None, 2048)              0         \n",
            "_________________________________________________________________\n",
            "dense_1 (Dense)              (None, 1024)              2098176   \n",
            "_________________________________________________________________\n",
            "activation_7 (Activation)    (None, 1024)              0         \n",
            "_________________________________________________________________\n",
            "dropout_3 (Dropout)          (None, 1024)              0         \n",
            "_________________________________________________________________\n",
            "dense_2 (Dense)              (None, 100)               102500    \n",
            "_________________________________________________________________\n",
            "activation_8 (Activation)    (None, 100)               0         \n",
            "=================================================================\n",
            "Total params: 6,777,060\n",
            "Trainable params: 6,777,060\n",
            "Non-trainable params: 0\n",
            "_________________________________________________________________\n"
          ],
          "name": "stdout"
        }
      ]
    },
    {
      "metadata": {
        "id": "Ke4W_AZNsjPZ",
        "colab_type": "code",
        "colab": {
          "base_uri": "https://localhost:8080/",
          "height": 5174
        },
        "outputId": "bd7a9bf9-d4e6-41bc-f31c-349efe47e625"
      },
      "cell_type": "code",
      "source": [
        "epochs = 200\n",
        "data_augmentation = True\n",
        "num_predictions = 20\n",
        "batch_size = 64\n",
        "validations = []\n",
        "\n",
        "for i in range(epochs):\n",
        "  print('Using real-time data augmentation.')\n",
        "  \n",
        "  # This will do preprocessing and realtime data augmentation:\n",
        "  datagen = ImageDataGenerator(\n",
        "      featurewise_center=False,  # set input mean to 0 over the dataset\n",
        "      samplewise_center=False,  # set each sample mean to 0\n",
        "      featurewise_std_normalization=False,  # divide inputs by std of the dataset\n",
        "      samplewise_std_normalization=False,  # divide each input by its std\n",
        "      zca_whitening=False,  # apply ZCA whitening\n",
        "      rotation_range=0,  # randomly rotate images in the range (degrees, 0 to 180)\n",
        "      width_shift_range=0.1,  # randomly shift images horizontally (fraction of total width)\n",
        "      height_shift_range=0.1,  # randomly shift images vertically (fraction of total height)\n",
        "      horizontal_flip=True,  # randomly flip images\n",
        "      vertical_flip=False)  # randomly flip images\n",
        "\n",
        "  datagen.fit(x_train)\n",
        "\n",
        "  model.fit_generator(datagen.flow(x_train, y_train,batch_size=batch_size),steps_per_epoch=x_train.shape[0] // batch_size,epochs=1,verbose=1,validation_data=(x_test, y_test))\n",
        "\n",
        "  val_acc = model.evaluate_generator(datagen.flow(x_test, y_test,batch_size=batch_size),steps=x_test.shape[0] // batch_size)\n",
        "  validations.append(val_acc)\n",
        "  print(\"Val Acc : \",val_acc)\n",
        "\n",
        "pickle.dump(validations, open(\"loss_validation.p\",'wb'))"
      ],
      "execution_count": 13,
      "outputs": [
        {
          "output_type": "stream",
          "text": [
            "Using real-time data augmentation.\n",
            "Epoch 1/1\n",
            "781/781 [==============================] - 62s 79ms/step - loss: 3.9965 - acc: 0.0965 - val_loss: 3.4186 - val_acc: 0.2124\n",
            "Val Acc :  [3.489779693958087, 0.19230769230769232]\n",
            "Using real-time data augmentation.\n",
            "Epoch 1/1\n",
            "781/781 [==============================] - 61s 79ms/step - loss: 3.4675 - acc: 0.1821 - val_loss: 3.0321 - val_acc: 0.2725\n",
            "Val Acc :  [3.078525115282108, 0.269130608974359]\n",
            "Using real-time data augmentation.\n",
            "Epoch 1/1\n",
            "781/781 [==============================] - 61s 79ms/step - loss: 3.1809 - acc: 0.2351 - val_loss: 2.7842 - val_acc: 0.3230\n",
            "Val Acc :  [2.8687983659597545, 0.3141025641025641]\n",
            "Using real-time data augmentation.\n",
            "Epoch 1/1\n",
            "781/781 [==============================] - 61s 78ms/step - loss: 3.0030 - acc: 0.2696 - val_loss: 2.5903 - val_acc: 0.3519\n",
            "Val Acc :  [2.6771368025205073, 0.339443108974359]\n",
            "Using real-time data augmentation.\n",
            "Epoch 1/1\n",
            "781/781 [==============================] - 61s 78ms/step - loss: 2.8659 - acc: 0.2959 - val_loss: 2.4942 - val_acc: 0.3693\n",
            "Val Acc :  [2.55438607549056, 0.36638621794871795]\n",
            "Using real-time data augmentation.\n",
            "Epoch 1/1\n",
            "781/781 [==============================] - 61s 78ms/step - loss: 2.7536 - acc: 0.3200 - val_loss: 2.4740 - val_acc: 0.3773\n",
            "Val Acc :  [2.49810337408995, 0.3730969551282051]\n",
            "Using real-time data augmentation.\n",
            "Epoch 1/1\n",
            "781/781 [==============================] - 61s 78ms/step - loss: 2.6617 - acc: 0.3374 - val_loss: 2.2590 - val_acc: 0.4319\n",
            "Val Acc :  [2.366884858944477, 0.40024038461538464]\n",
            "Using real-time data augmentation.\n",
            "Epoch 1/1\n",
            "781/781 [==============================] - 61s 78ms/step - loss: 2.5782 - acc: 0.3543 - val_loss: 2.1514 - val_acc: 0.4488\n",
            "Val Acc :  [2.268041825447327, 0.4254807692307692]\n",
            "Using real-time data augmentation.\n",
            "Epoch 1/1\n",
            "781/781 [==============================] - 61s 78ms/step - loss: 2.4995 - acc: 0.3743 - val_loss: 2.1084 - val_acc: 0.4509\n",
            "Val Acc :  [2.190259201404376, 0.4367988782051282]\n",
            "Using real-time data augmentation.\n",
            "Epoch 1/1\n",
            "781/781 [==============================] - 61s 78ms/step - loss: 2.4327 - acc: 0.3878 - val_loss: 2.0573 - val_acc: 0.4687\n",
            "Val Acc :  [2.1468995901254506, 0.44711538461538464]\n",
            "Using real-time data augmentation.\n",
            "Epoch 1/1\n",
            "781/781 [==============================] - 61s 78ms/step - loss: 2.3680 - acc: 0.3975 - val_loss: 2.0716 - val_acc: 0.4662\n",
            "Val Acc :  [2.0954543153444924, 0.4639423076923077]\n",
            "Using real-time data augmentation.\n",
            "Epoch 1/1\n",
            "781/781 [==============================] - 61s 78ms/step - loss: 2.2996 - acc: 0.4160 - val_loss: 1.9762 - val_acc: 0.4865\n",
            "Val Acc :  [2.0302385886510215, 0.47636217948717946]\n",
            "Using real-time data augmentation.\n",
            "Epoch 1/1\n",
            "781/781 [==============================] - 61s 79ms/step - loss: 2.2421 - acc: 0.4279 - val_loss: 1.9021 - val_acc: 0.5056\n",
            "Val Acc :  [1.9661016441308534, 0.4941907051282051]\n",
            "Using real-time data augmentation.\n",
            "Epoch 1/1\n",
            "781/781 [==============================] - 61s 79ms/step - loss: 2.1892 - acc: 0.4361 - val_loss: 1.8653 - val_acc: 0.5131\n",
            "Val Acc :  [1.9383206382775917, 0.4974959935897436]\n",
            "Using real-time data augmentation.\n",
            "Epoch 1/1\n",
            "781/781 [==============================] - 61s 78ms/step - loss: 2.1388 - acc: 0.4507 - val_loss: 1.8095 - val_acc: 0.5189\n",
            "Val Acc :  [1.9045884762054834, 0.49759615384615385]\n",
            "Using real-time data augmentation.\n",
            "Epoch 1/1\n",
            "781/781 [==============================] - 61s 79ms/step - loss: 2.0878 - acc: 0.4604 - val_loss: 1.7763 - val_acc: 0.5292\n",
            "Val Acc :  [1.8474224729415698, 0.5137219551282052]\n",
            "Using real-time data augmentation.\n",
            "Epoch 1/1\n",
            "781/781 [==============================] - 61s 79ms/step - loss: 2.0526 - acc: 0.4676 - val_loss: 1.7394 - val_acc: 0.5376\n",
            "Val Acc :  [1.848511346639731, 0.5201322115384616]\n",
            "Using real-time data augmentation.\n",
            "Epoch 1/1\n",
            "781/781 [==============================] - 61s 78ms/step - loss: 1.9970 - acc: 0.4796 - val_loss: 1.7246 - val_acc: 0.5404\n",
            "Val Acc :  [1.812936762204537, 0.5271434294871795]\n",
            "Using real-time data augmentation.\n",
            "Epoch 1/1\n",
            "781/781 [==============================] - 63s 81ms/step - loss: 1.9625 - acc: 0.4879 - val_loss: 1.6801 - val_acc: 0.5579\n",
            "Val Acc :  [1.7973173902584956, 0.5202323717948718]\n",
            "Using real-time data augmentation.\n",
            "Epoch 1/1\n",
            "781/781 [==============================] - 61s 78ms/step - loss: 1.9143 - acc: 0.4977 - val_loss: 1.7036 - val_acc: 0.5432\n",
            "Val Acc :  [1.7643115382928114, 0.5309495192307693]\n",
            "Using real-time data augmentation.\n",
            "Epoch 1/1\n",
            "781/781 [==============================] - 62s 80ms/step - loss: 1.8754 - acc: 0.5065 - val_loss: 1.6508 - val_acc: 0.5582\n",
            "Val Acc :  [1.7371987455930464, 0.5432692307692307]\n",
            "Using real-time data augmentation.\n",
            "Epoch 1/1\n",
            "781/781 [==============================] - 62s 79ms/step - loss: 1.8517 - acc: 0.5134 - val_loss: 1.6185 - val_acc: 0.5681\n",
            "Val Acc :  [1.6911745017919786, 0.5497796474358975]\n",
            "Using real-time data augmentation.\n",
            "Epoch 1/1\n",
            "781/781 [==============================] - 61s 78ms/step - loss: 1.8006 - acc: 0.5251 - val_loss: 1.5890 - val_acc: 0.5796\n",
            "Val Acc :  [1.6931226742573273, 0.547676282051282]\n",
            "Using real-time data augmentation.\n",
            "Epoch 1/1\n",
            "781/781 [==============================] - 62s 79ms/step - loss: 1.7668 - acc: 0.5309 - val_loss: 1.6017 - val_acc: 0.5692\n",
            "Val Acc :  [1.677893000535476, 0.5528846153846154]\n",
            "Using real-time data augmentation.\n",
            "Epoch 1/1\n",
            "781/781 [==============================] - 62s 79ms/step - loss: 1.7353 - acc: 0.5385 - val_loss: 1.5531 - val_acc: 0.5843\n",
            "Val Acc :  [1.6502946829184508, 0.5621995192307693]\n",
            "Using real-time data augmentation.\n",
            "Epoch 1/1\n",
            "781/781 [==============================] - 61s 78ms/step - loss: 1.6945 - acc: 0.5486 - val_loss: 1.5850 - val_acc: 0.5794\n",
            "Val Acc :  [1.6696749474757757, 0.5589943910256411]\n",
            "Using real-time data augmentation.\n",
            "Epoch 1/1\n",
            "781/781 [==============================] - 62s 79ms/step - loss: 1.6690 - acc: 0.5538 - val_loss: 1.5705 - val_acc: 0.5812\n",
            "Val Acc :  [1.6347620395513682, 0.5646033653846154]\n",
            "Using real-time data augmentation.\n",
            "Epoch 1/1\n",
            "781/781 [==============================] - 61s 78ms/step - loss: 1.6409 - acc: 0.5609 - val_loss: 1.5334 - val_acc: 0.5921\n",
            "Val Acc :  [1.5886412209425218, 0.5764222756410257]\n",
            "Using real-time data augmentation.\n",
            "Epoch 1/1\n",
            "781/781 [==============================] - 61s 78ms/step - loss: 1.6083 - acc: 0.5677 - val_loss: 1.5475 - val_acc: 0.5826\n",
            "Val Acc :  [1.6101779815478203, 0.5736177884615384]\n",
            "Using real-time data augmentation.\n",
            "Epoch 1/1\n",
            "781/781 [==============================] - 60s 77ms/step - loss: 1.5823 - acc: 0.5756 - val_loss: 1.5315 - val_acc: 0.5927\n",
            "Val Acc :  [1.5883685808915358, 0.5746193910256411]\n",
            "Using real-time data augmentation.\n",
            "Epoch 1/1\n",
            "781/781 [==============================] - 60s 77ms/step - loss: 1.5537 - acc: 0.5786 - val_loss: 1.5241 - val_acc: 0.5945\n",
            "Val Acc :  [1.5603495324269319, 0.5788261217948718]\n",
            "Using real-time data augmentation.\n",
            "Epoch 1/1\n",
            "781/781 [==============================] - 60s 77ms/step - loss: 1.5249 - acc: 0.5868 - val_loss: 1.4999 - val_acc: 0.5986\n",
            "Val Acc :  [1.5752555773808405, 0.577323717948718]\n",
            "Using real-time data augmentation.\n",
            "Epoch 1/1\n",
            "781/781 [==============================] - 60s 77ms/step - loss: 1.5024 - acc: 0.5922 - val_loss: 1.4628 - val_acc: 0.6052\n",
            "Val Acc :  [1.5393447486253886, 0.5850360576923077]\n",
            "Using real-time data augmentation.\n",
            "Epoch 1/1\n",
            "781/781 [==============================] - 61s 78ms/step - loss: 1.4756 - acc: 0.6017 - val_loss: 1.4640 - val_acc: 0.6088\n",
            "Val Acc :  [1.5369023757103162, 0.5924479166666666]\n",
            "Using real-time data augmentation.\n",
            "Epoch 1/1\n",
            "781/781 [==============================] - 60s 77ms/step - loss: 1.4495 - acc: 0.6067 - val_loss: 1.4552 - val_acc: 0.6084\n",
            "Val Acc :  [1.542837102825825, 0.5848357371794872]\n",
            "Using real-time data augmentation.\n",
            "Epoch 1/1\n",
            "781/781 [==============================] - 60s 77ms/step - loss: 1.4272 - acc: 0.6114 - val_loss: 1.4397 - val_acc: 0.6145\n",
            "Val Acc :  [1.5134915442038805, 0.5921474358974359]\n",
            "Using real-time data augmentation.\n",
            "Epoch 1/1\n",
            "781/781 [==============================] - 60s 77ms/step - loss: 1.4018 - acc: 0.6180 - val_loss: 1.4321 - val_acc: 0.6147\n",
            "Val Acc :  [1.5046174235832996, 0.5946514423076923]\n",
            "Using real-time data augmentation.\n",
            "Epoch 1/1\n",
            "781/781 [==============================] - 60s 77ms/step - loss: 1.3776 - acc: 0.6205 - val_loss: 1.4663 - val_acc: 0.6089\n",
            "Val Acc :  [1.5208897957435021, 0.59765625]\n",
            "Using real-time data augmentation.\n",
            "Epoch 1/1\n",
            "781/781 [==============================] - 61s 78ms/step - loss: 1.3600 - acc: 0.6254 - val_loss: 1.4395 - val_acc: 0.6179\n",
            "Val Acc :  [1.5201552632527473, 0.5960536858974359]\n",
            "Using real-time data augmentation.\n",
            "Epoch 1/1\n",
            "781/781 [==============================] - 60s 77ms/step - loss: 1.3432 - acc: 0.6301 - val_loss: 1.4128 - val_acc: 0.6210\n",
            "Val Acc :  [1.5046590318282445, 0.6001602564102564]\n",
            "Using real-time data augmentation.\n",
            "Epoch 1/1\n",
            "781/781 [==============================] - 61s 78ms/step - loss: 1.3188 - acc: 0.6380 - val_loss: 1.4536 - val_acc: 0.6141\n",
            "Val Acc :  [1.4974171626262176, 0.6009615384615384]\n",
            "Using real-time data augmentation.\n",
            "Epoch 1/1\n",
            "781/781 [==============================] - 60s 77ms/step - loss: 1.2953 - acc: 0.6405 - val_loss: 1.4601 - val_acc: 0.6134\n",
            "Val Acc :  [1.4857172278257518, 0.6060697115384616]\n",
            "Using real-time data augmentation.\n",
            "Epoch 1/1\n",
            "781/781 [==============================] - 60s 76ms/step - loss: 1.2794 - acc: 0.6467 - val_loss: 1.4378 - val_acc: 0.6217\n",
            "Val Acc :  [1.4872813797914064, 0.606270032051282]\n",
            "Using real-time data augmentation.\n",
            "Epoch 1/1\n",
            "781/781 [==============================] - 60s 77ms/step - loss: 1.2633 - acc: 0.6514 - val_loss: 1.4116 - val_acc: 0.6245\n",
            "Val Acc :  [1.460737013664001, 0.608573717948718]\n",
            "Using real-time data augmentation.\n",
            "Epoch 1/1\n",
            "781/781 [==============================] - 61s 79ms/step - loss: 1.2423 - acc: 0.6559 - val_loss: 1.4016 - val_acc: 0.6314\n",
            "Val Acc :  [1.454247961823757, 0.6137820512820513]\n",
            "Using real-time data augmentation.\n",
            "Epoch 1/1\n",
            "781/781 [==============================] - 60s 77ms/step - loss: 1.2210 - acc: 0.6588 - val_loss: 1.3676 - val_acc: 0.6338\n",
            "Val Acc :  [1.448644363727325, 0.612479967948718]\n",
            "Using real-time data augmentation.\n",
            "Epoch 1/1\n",
            "781/781 [==============================] - 60s 77ms/step - loss: 1.2079 - acc: 0.6661 - val_loss: 1.4065 - val_acc: 0.6249\n",
            "Val Acc :  [1.4850545128186543, 0.6087740384615384]\n",
            "Using real-time data augmentation.\n",
            "Epoch 1/1\n",
            "781/781 [==============================] - 60s 77ms/step - loss: 1.1829 - acc: 0.6689 - val_loss: 1.4064 - val_acc: 0.6273\n",
            "Val Acc :  [1.4619767218828201, 0.6168870192307693]\n",
            "Using real-time data augmentation.\n",
            "Epoch 1/1\n",
            "781/781 [==============================] - 60s 77ms/step - loss: 1.1647 - acc: 0.6752 - val_loss: 1.4197 - val_acc: 0.6314\n",
            "Val Acc :  [1.4864977051814396, 0.6160857371794872]\n",
            "Using real-time data augmentation.\n",
            "Epoch 1/1\n",
            "781/781 [==============================] - 60s 77ms/step - loss: 1.1582 - acc: 0.6774 - val_loss: 1.3758 - val_acc: 0.6418\n",
            "Val Acc :  [1.4709349278456125, 0.6253004807692307]\n",
            "Using real-time data augmentation.\n",
            "Epoch 1/1\n",
            "781/781 [==============================] - 60s 77ms/step - loss: 1.1437 - acc: 0.6809 - val_loss: 1.4205 - val_acc: 0.6253\n",
            "Val Acc :  [1.484197152730746, 0.6075721153846154]\n",
            "Using real-time data augmentation.\n",
            "Epoch 1/1\n",
            "781/781 [==============================] - 60s 77ms/step - loss: 1.1245 - acc: 0.6845 - val_loss: 1.3870 - val_acc: 0.6337\n",
            "Val Acc :  [1.4594173695032413, 0.6173878205128205]\n",
            "Using real-time data augmentation.\n",
            "Epoch 1/1\n",
            "781/781 [==============================] - 60s 77ms/step - loss: 1.1176 - acc: 0.6857 - val_loss: 1.4042 - val_acc: 0.6296\n",
            "Val Acc :  [1.4620942267087789, 0.6189903846153846]\n",
            "Using real-time data augmentation.\n",
            "Epoch 1/1\n",
            "781/781 [==============================] - 60s 77ms/step - loss: 1.0981 - acc: 0.6937 - val_loss: 1.3742 - val_acc: 0.6368\n",
            "Val Acc :  [1.4417577462318616, 0.6188902243589743]\n",
            "Using real-time data augmentation.\n",
            "Epoch 1/1\n",
            "781/781 [==============================] - 60s 76ms/step - loss: 1.0812 - acc: 0.6967 - val_loss: 1.3915 - val_acc: 0.6325\n",
            "Val Acc :  [1.4512824106674929, 0.6237980769230769]\n",
            "Using real-time data augmentation.\n",
            "Epoch 1/1\n",
            "781/781 [==============================] - 60s 77ms/step - loss: 1.0632 - acc: 0.7015 - val_loss: 1.4342 - val_acc: 0.6366\n",
            "Val Acc :  [1.4773609794867344, 0.6255008012820513]\n",
            "Using real-time data augmentation.\n",
            "Epoch 1/1\n",
            "781/781 [==============================] - 60s 77ms/step - loss: 1.0460 - acc: 0.7063 - val_loss: 1.3735 - val_acc: 0.6377\n",
            "Val Acc :  [1.4426902524935894, 0.6238982371794872]\n",
            "Using real-time data augmentation.\n",
            "Epoch 1/1\n",
            "781/781 [==============================] - 60s 77ms/step - loss: 1.0467 - acc: 0.7030 - val_loss: 1.3751 - val_acc: 0.6450\n",
            "Val Acc :  [1.4413863275295649, 0.6275040064102564]\n",
            "Using real-time data augmentation.\n",
            "Epoch 1/1\n",
            "781/781 [==============================] - 60s 77ms/step - loss: 1.0212 - acc: 0.7129 - val_loss: 1.4117 - val_acc: 0.6377\n",
            "Val Acc :  [1.4731416545617275, 0.6272035256410257]\n",
            "Using real-time data augmentation.\n",
            "Epoch 1/1\n",
            "781/781 [==============================] - 61s 78ms/step - loss: 1.0059 - acc: 0.7142 - val_loss: 1.3874 - val_acc: 0.6439\n",
            "Val Acc :  [1.456150506551449, 0.6268028846153846]\n",
            "Using real-time data augmentation.\n",
            "Epoch 1/1\n",
            "781/781 [==============================] - 60s 77ms/step - loss: 0.9969 - acc: 0.7176 - val_loss: 1.4145 - val_acc: 0.6386\n",
            "Val Acc :  [1.4603794037531583, 0.6270032051282052]\n",
            "Using real-time data augmentation.\n",
            "Epoch 1/1\n",
            "781/781 [==============================] - 60s 77ms/step - loss: 0.9870 - acc: 0.7169 - val_loss: 1.3979 - val_acc: 0.6438\n",
            "Val Acc :  [1.4436721503734589, 0.6295072115384616]\n",
            "Using real-time data augmentation.\n",
            "Epoch 1/1\n",
            "781/781 [==============================] - 60s 77ms/step - loss: 0.9819 - acc: 0.7200 - val_loss: 1.4101 - val_acc: 0.6462\n",
            "Val Acc :  [1.4345404574504266, 0.6343149038461539]\n",
            "Using real-time data augmentation.\n",
            "Epoch 1/1\n",
            "781/781 [==============================] - 60s 77ms/step - loss: 0.9679 - acc: 0.7259 - val_loss: 1.3805 - val_acc: 0.6459\n",
            "Val Acc :  [1.4406096178751726, 0.6291065705128205]\n",
            "Using real-time data augmentation.\n",
            "Epoch 1/1\n",
            "781/781 [==============================] - 60s 77ms/step - loss: 0.9484 - acc: 0.7295 - val_loss: 1.3913 - val_acc: 0.6470\n",
            "Val Acc :  [1.4556539322321231, 0.6324118589743589]\n",
            "Using real-time data augmentation.\n",
            "Epoch 1/1\n",
            "781/781 [==============================] - 60s 77ms/step - loss: 0.9394 - acc: 0.7295 - val_loss: 1.3932 - val_acc: 0.6492\n",
            "Val Acc :  [1.4785814999769895, 0.6278044871794872]\n",
            "Using real-time data augmentation.\n",
            "Epoch 1/1\n",
            "781/781 [==============================] - 60s 77ms/step - loss: 0.9350 - acc: 0.7337 - val_loss: 1.3749 - val_acc: 0.6511\n",
            "Val Acc :  [1.4458109243558004, 0.6317107371794872]\n",
            "Using real-time data augmentation.\n",
            "Epoch 1/1\n",
            "781/781 [==============================] - 60s 77ms/step - loss: 0.9163 - acc: 0.7372 - val_loss: 1.3946 - val_acc: 0.6486\n",
            "Val Acc :  [1.4482903182506561, 0.6347155448717948]\n",
            "Using real-time data augmentation.\n",
            "Epoch 1/1\n",
            "781/781 [==============================] - 60s 77ms/step - loss: 0.9108 - acc: 0.7399 - val_loss: 1.3921 - val_acc: 0.6464\n",
            "Val Acc :  [1.472583729487199, 0.6269030448717948]\n",
            "Using real-time data augmentation.\n",
            "Epoch 1/1\n",
            "781/781 [==============================] - 60s 77ms/step - loss: 0.8997 - acc: 0.7428 - val_loss: 1.4050 - val_acc: 0.6522\n",
            "Val Acc :  [1.449481970224625, 0.6429286858974359]\n",
            "Using real-time data augmentation.\n",
            "Epoch 1/1\n",
            "781/781 [==============================] - 60s 77ms/step - loss: 0.8837 - acc: 0.7452 - val_loss: 1.4128 - val_acc: 0.6490\n",
            "Val Acc :  [1.4928933725907252, 0.6311097756410257]\n",
            "Using real-time data augmentation.\n",
            "Epoch 1/1\n",
            "781/781 [==============================] - 60s 77ms/step - loss: 0.8830 - acc: 0.7466 - val_loss: 1.4344 - val_acc: 0.6494\n",
            "Val Acc :  [1.4788078512900915, 0.6325120192307693]\n",
            "Using real-time data augmentation.\n",
            "Epoch 1/1\n",
            "781/781 [==============================] - 60s 77ms/step - loss: 0.8656 - acc: 0.7502 - val_loss: 1.4246 - val_acc: 0.6453\n",
            "Val Acc :  [1.4786999810200472, 0.6309094551282052]\n",
            "Using real-time data augmentation.\n",
            "Epoch 1/1\n",
            "781/781 [==============================] - 60s 77ms/step - loss: 0.8574 - acc: 0.7544 - val_loss: 1.4169 - val_acc: 0.6489\n",
            "Val Acc :  [1.4715701509744694, 0.6310096153846154]\n",
            "Using real-time data augmentation.\n",
            "Epoch 1/1\n",
            "781/781 [==============================] - 60s 77ms/step - loss: 0.8460 - acc: 0.7583 - val_loss: 1.4197 - val_acc: 0.6489\n",
            "Val Acc :  [1.4563060876650689, 0.6399238782051282]\n",
            "Using real-time data augmentation.\n",
            "Epoch 1/1\n",
            "781/781 [==============================] - 60s 77ms/step - loss: 0.8432 - acc: 0.7555 - val_loss: 1.4219 - val_acc: 0.6511\n",
            "Val Acc :  [1.4486878384382298, 0.6404246794871795]\n",
            "Using real-time data augmentation.\n",
            "Epoch 1/1\n",
            "204/781 [======>.......................] - ETA: 42s - loss: 0.8214 - acc: 0.7629Buffered data was truncated after reaching the output size limit."
          ],
          "name": "stdout"
        }
      ]
    },
    {
      "metadata": {
        "id": "m_54ukJKsoMU",
        "colab_type": "code",
        "colab": {
          "base_uri": "https://localhost:8080/",
          "height": 34
        },
        "outputId": "27024f1e-2326-4508-d83d-e35c87a6b58d"
      },
      "cell_type": "code",
      "source": [
        " datagen = ImageDataGenerator(\n",
        "      featurewise_center=False,  # set input mean to 0 over the dataset\n",
        "      samplewise_center=False,  # set each sample mean to 0\n",
        "      featurewise_std_normalization=False,  # divide inputs by std of the dataset\n",
        "      samplewise_std_normalization=False,  # divide each input by its std\n",
        "      zca_whitening=False,  # apply ZCA whitening\n",
        "      rotation_range=0,  # randomly rotate images in the range (degrees, 0 to 180)\n",
        "      width_shift_range=0.1,  # randomly shift images horizontally (fraction of total width)\n",
        "      height_shift_range=0.1,  # randomly shift images vertically (fraction of total height)\n",
        "      horizontal_flip=True,  # randomly flip images\n",
        "      vertical_flip=False)  # randomly flip images\n",
        "\n",
        "\n",
        "# Evaluate model with test data set and share sample prediction results\n",
        "evaluation = model.evaluate_generator(datagen.flow(x_test, y_test,batch_size=128),steps=x_test.shape[0] // 128)\n",
        "\n",
        "print('Model Accuracy = %.2f' % (evaluation[1]))"
      ],
      "execution_count": 6,
      "outputs": [
        {
          "output_type": "stream",
          "text": [
            "Model Accuracy = 0.65\n"
          ],
          "name": "stdout"
        }
      ]
    },
    {
      "metadata": {
        "id": "miFYvWOqvZuk",
        "colab_type": "code",
        "colab": {}
      },
      "cell_type": "code",
      "source": [
        "predicted_output = model.predict(x_test)\n",
        "predicted_output = [np.argmax(i) for i in predicted_output]"
      ],
      "execution_count": 0,
      "outputs": []
    },
    {
      "metadata": {
        "id": "IibEnxS4SMZu",
        "colab_type": "code",
        "colab": {
          "base_uri": "https://localhost:8080/",
          "height": 34
        },
        "outputId": "40eb2fb7-453e-4e15-85c6-6eb602af935a"
      },
      "cell_type": "code",
      "source": [
        "len(predicted_output)"
      ],
      "execution_count": 8,
      "outputs": [
        {
          "output_type": "execute_result",
          "data": {
            "text/plain": [
              "10000"
            ]
          },
          "metadata": {
            "tags": []
          },
          "execution_count": 8
        }
      ]
    },
    {
      "metadata": {
        "id": "c0NExDHYSWVT",
        "colab_type": "code",
        "colab": {}
      },
      "cell_type": "code",
      "source": [
        "actual_output = [np.argmax(i) for i in y_test]"
      ],
      "execution_count": 0,
      "outputs": []
    },
    {
      "metadata": {
        "id": "1tqGrxd0ScdU",
        "colab_type": "code",
        "colab": {
          "base_uri": "https://localhost:8080/",
          "height": 34
        },
        "outputId": "6bdb6ac3-be9b-4e7e-9727-37afdf164b4c"
      },
      "cell_type": "code",
      "source": [
        "len(actual_output)"
      ],
      "execution_count": 10,
      "outputs": [
        {
          "output_type": "execute_result",
          "data": {
            "text/plain": [
              "10000"
            ]
          },
          "metadata": {
            "tags": []
          },
          "execution_count": 10
        }
      ]
    },
    {
      "metadata": {
        "id": "hKHNElBGSeAH",
        "colab_type": "code",
        "colab": {
          "base_uri": "https://localhost:8080/",
          "height": 34
        },
        "outputId": "1adf1207-b39a-41db-c02e-86c74ed77e9a"
      },
      "cell_type": "code",
      "source": [
        "number_correct = 0\n",
        "for i in range(len(predicted_output)):\n",
        "  if(predicted_output[i]==actual_output[i]):\n",
        "    number_correct +=1\n",
        "print(\"Accurcay is : \",number_correct/len(predicted_output))"
      ],
      "execution_count": 11,
      "outputs": [
        {
          "output_type": "stream",
          "text": [
            "Accurcay is :  0.6599\n"
          ],
          "name": "stdout"
        }
      ]
    },
    {
      "metadata": {
        "id": "5-MnMS8sU4oZ",
        "colab_type": "code",
        "colab": {
          "base_uri": "https://localhost:8080/",
          "height": 34
        },
        "outputId": "2951ad3d-a48e-4fe0-bf17-f88c40191d5e"
      },
      "cell_type": "code",
      "source": [
        "#Calculating top 5 accuracy\n",
        "top_5_count = 0\n",
        "\n",
        "i=0\n",
        "pred = model.predict(x_test)\n",
        "for op in pred:\n",
        "  #print(op.shape)\n",
        "  op_idx=list(op)\n",
        "  op_idx.sort(reverse = True)\n",
        "  op = list(op)\n",
        "  #print(op_idx[0:5])\n",
        "  for p in op_idx[0:5]:\n",
        "    idx = op.index(p)\n",
        "    if(idx==actual_output[i]):\n",
        "      top_5_count+=1\n",
        "  i+=1\n",
        "\n",
        "print(\"Top 5 accuracy is : \",top_5_count/len(actual_output))"
      ],
      "execution_count": 12,
      "outputs": [
        {
          "output_type": "stream",
          "text": [
            "Top 5 accuracy is :  0.8836\n"
          ],
          "name": "stdout"
        }
      ]
    },
    {
      "metadata": {
        "id": "6P6OMknLS8CC",
        "colab_type": "code",
        "colab": {}
      },
      "cell_type": "code",
      "source": [
        "from sklearn.metrics import f1_score"
      ],
      "execution_count": 0,
      "outputs": []
    },
    {
      "metadata": {
        "id": "V35Z0pU1S_4U",
        "colab_type": "code",
        "colab": {
          "base_uri": "https://localhost:8080/",
          "height": 34
        },
        "outputId": "aefb4394-70ec-4a9f-9505-316f37cc0e7d"
      },
      "cell_type": "code",
      "source": [
        "f1score = f1_score(actual_output,predicted_output,average='weighted')\n",
        "\n",
        "print(\"F1 Score is : \",f1score)"
      ],
      "execution_count": 14,
      "outputs": [
        {
          "output_type": "stream",
          "text": [
            "F1 Score is :  0.6667544068147461\n"
          ],
          "name": "stdout"
        }
      ]
    },
    {
      "metadata": {
        "id": "FVQUGCGgTEt_",
        "colab_type": "code",
        "colab": {}
      },
      "cell_type": "code",
      "source": [
        "from sklearn.metrics import recall_score"
      ],
      "execution_count": 0,
      "outputs": []
    },
    {
      "metadata": {
        "id": "bWrx9IrRTHGq",
        "colab_type": "code",
        "colab": {
          "base_uri": "https://localhost:8080/",
          "height": 34
        },
        "outputId": "db1630a8-4e9f-40e0-acd5-e43a067afcb6"
      },
      "cell_type": "code",
      "source": [
        "recall = recall_score(actual_output,predicted_output,average='weighted')\n",
        "\n",
        "print(\"Recall Score is : \",recall)"
      ],
      "execution_count": 16,
      "outputs": [
        {
          "output_type": "stream",
          "text": [
            "Recall Score is :  0.6599\n"
          ],
          "name": "stdout"
        }
      ]
    },
    {
      "metadata": {
        "id": "fu6QqH-6TMCF",
        "colab_type": "code",
        "colab": {}
      },
      "cell_type": "code",
      "source": [
        "from sklearn.metrics import precision_score"
      ],
      "execution_count": 0,
      "outputs": []
    },
    {
      "metadata": {
        "id": "Qky9v3BRTPBr",
        "colab_type": "code",
        "colab": {
          "base_uri": "https://localhost:8080/",
          "height": 34
        },
        "outputId": "26131649-e44b-496c-ce37-1082111ee123"
      },
      "cell_type": "code",
      "source": [
        "precision = precision_score(actual_output,predicted_output,average='weighted')\n",
        "\n",
        "print(\"Precision is : \",precision)"
      ],
      "execution_count": 18,
      "outputs": [
        {
          "output_type": "stream",
          "text": [
            "Precision is :  0.6886043138408627\n"
          ],
          "name": "stdout"
        }
      ]
    },
    {
      "metadata": {
        "id": "wg7rbcWKTTxH",
        "colab_type": "code",
        "colab": {
          "base_uri": "https://localhost:8080/",
          "height": 34
        },
        "outputId": "9d89251c-598e-4e86-b83e-31852fc2853c"
      },
      "cell_type": "code",
      "source": [
        "from google.colab import drive\n",
        "drive.mount(\"/content/gdrive\")"
      ],
      "execution_count": 19,
      "outputs": [
        {
          "output_type": "stream",
          "text": [
            "Drive already mounted at /content/gdrive; to attempt to forcibly remount, call drive.mount(\"/content/gdrive\", force_remount=True).\n"
          ],
          "name": "stdout"
        }
      ]
    },
    {
      "metadata": {
        "id": "8-9uJCtsTnZL",
        "colab_type": "code",
        "colab": {}
      },
      "cell_type": "code",
      "source": [
        "model.save(\"/content/gdrive/My Drive/8th Semester Project/cifar100.h5\")"
      ],
      "execution_count": 0,
      "outputs": []
    },
    {
      "metadata": {
        "id": "tKicrIkjHDd9",
        "colab_type": "code",
        "colab": {}
      },
      "cell_type": "code",
      "source": [
        "#LIME ANALYSIS"
      ],
      "execution_count": 0,
      "outputs": []
    },
    {
      "metadata": {
        "id": "ZpFRQTabHE3M",
        "colab_type": "code",
        "colab": {
          "base_uri": "https://localhost:8080/",
          "height": 302
        },
        "outputId": "9dc698fc-7440-469c-a3c2-4f3845fff193"
      },
      "cell_type": "code",
      "source": [
        "!pip install lime"
      ],
      "execution_count": 21,
      "outputs": [
        {
          "output_type": "stream",
          "text": [
            "Requirement already satisfied: lime in /usr/local/lib/python3.6/dist-packages (0.1.1.32)\n",
            "Requirement already satisfied: scikit-image>=0.12 in /usr/local/lib/python3.6/dist-packages (from lime) (0.13.1)\n",
            "Requirement already satisfied: numpy in /usr/local/lib/python3.6/dist-packages (from lime) (1.14.6)\n",
            "Requirement already satisfied: scikit-learn>=0.18 in /usr/local/lib/python3.6/dist-packages (from lime) (0.20.2)\n",
            "Requirement already satisfied: scipy in /usr/local/lib/python3.6/dist-packages (from lime) (1.1.0)\n",
            "Requirement already satisfied: networkx>=1.8 in /usr/local/lib/python3.6/dist-packages (from scikit-image>=0.12->lime) (2.2)\n",
            "Requirement already satisfied: pillow>=2.1.0 in /usr/local/lib/python3.6/dist-packages (from scikit-image>=0.12->lime) (4.0.0)\n",
            "Requirement already satisfied: matplotlib>=1.3.1 in /usr/local/lib/python3.6/dist-packages (from scikit-image>=0.12->lime) (3.0.2)\n",
            "Requirement already satisfied: six>=1.7.3 in /usr/local/lib/python3.6/dist-packages (from scikit-image>=0.12->lime) (1.11.0)\n",
            "Requirement already satisfied: PyWavelets>=0.4.0 in /usr/local/lib/python3.6/dist-packages (from scikit-image>=0.12->lime) (1.0.1)\n",
            "Requirement already satisfied: decorator>=4.3.0 in /usr/local/lib/python3.6/dist-packages (from networkx>=1.8->scikit-image>=0.12->lime) (4.3.2)\n",
            "Requirement already satisfied: olefile in /usr/local/lib/python3.6/dist-packages (from pillow>=2.1.0->scikit-image>=0.12->lime) (0.46)\n",
            "Requirement already satisfied: kiwisolver>=1.0.1 in /usr/local/lib/python3.6/dist-packages (from matplotlib>=1.3.1->scikit-image>=0.12->lime) (1.0.1)\n",
            "Requirement already satisfied: cycler>=0.10 in /usr/local/lib/python3.6/dist-packages (from matplotlib>=1.3.1->scikit-image>=0.12->lime) (0.10.0)\n",
            "Requirement already satisfied: pyparsing!=2.0.4,!=2.1.2,!=2.1.6,>=2.0.1 in /usr/local/lib/python3.6/dist-packages (from matplotlib>=1.3.1->scikit-image>=0.12->lime) (2.3.1)\n",
            "Requirement already satisfied: python-dateutil>=2.1 in /usr/local/lib/python3.6/dist-packages (from matplotlib>=1.3.1->scikit-image>=0.12->lime) (2.5.3)\n",
            "Requirement already satisfied: setuptools in /usr/local/lib/python3.6/dist-packages (from kiwisolver>=1.0.1->matplotlib>=1.3.1->scikit-image>=0.12->lime) (40.7.1)\n"
          ],
          "name": "stdout"
        }
      ]
    },
    {
      "metadata": {
        "id": "bk3hhVPYHF5i",
        "colab_type": "code",
        "colab": {}
      },
      "cell_type": "code",
      "source": [
        "from keras.models import load_model\n",
        "\n",
        "model = load_model(\"/content/gdrive/My Drive/8th Semester Project/cifar100.h5\")"
      ],
      "execution_count": 0,
      "outputs": []
    },
    {
      "metadata": {
        "id": "wJQeEkjVHSjz",
        "colab_type": "code",
        "colab": {
          "base_uri": "https://localhost:8080/",
          "height": 34
        },
        "outputId": "7c1d3f59-9618-44f5-dd77-7b48553986ef"
      },
      "cell_type": "code",
      "source": [
        "data_sample_x = x_test[6]\n",
        "data_sample_y = y_test[6]\n",
        "\n",
        "data_sample_x.shape"
      ],
      "execution_count": 23,
      "outputs": [
        {
          "output_type": "execute_result",
          "data": {
            "text/plain": [
              "(32, 32, 3)"
            ]
          },
          "metadata": {
            "tags": []
          },
          "execution_count": 23
        }
      ]
    },
    {
      "metadata": {
        "id": "OW79igcZHXy_",
        "colab_type": "code",
        "colab": {}
      },
      "cell_type": "code",
      "source": [
        "import matplotlib.pyplot as plt"
      ],
      "execution_count": 0,
      "outputs": []
    },
    {
      "metadata": {
        "id": "LXHNL-aiIsLR",
        "colab_type": "code",
        "colab": {
          "base_uri": "https://localhost:8080/",
          "height": 364
        },
        "outputId": "b26e90d5-d28f-42ad-cbae-62c4ea708f2f"
      },
      "cell_type": "code",
      "source": [
        "plt.imshow(data_sample_x)"
      ],
      "execution_count": 25,
      "outputs": [
        {
          "output_type": "execute_result",
          "data": {
            "text/plain": [
              "<matplotlib.image.AxesImage at 0x7f47beef74e0>"
            ]
          },
          "metadata": {
            "tags": []
          },
          "execution_count": 25
        },
        {
          "output_type": "display_data",
          "data": {
            "image/png": "[encoded data removed]",
            "text/plain": [
              "<Figure size 576x396 with 1 Axes>"
            ]
          },
          "metadata": {
            "tags": []
          }
        }
      ]
    },
    {
      "metadata": {
        "id": "8OVL-6VlIuIM",
        "colab_type": "code",
        "colab": {}
      },
      "cell_type": "code",
      "source": [
        "def prediction_function(x):\n",
        "  res = model.predict(x.reshape(-1,32,32,3))\n",
        "  return res"
      ],
      "execution_count": 0,
      "outputs": []
    },
    {
      "metadata": {
        "id": "d-IbDjtlJr3R",
        "colab_type": "code",
        "colab": {}
      },
      "cell_type": "code",
      "source": [
        "import lime\n",
        "from lime import lime_image"
      ],
      "execution_count": 0,
      "outputs": []
    },
    {
      "metadata": {
        "id": "XrKpD0PeKSq3",
        "colab_type": "code",
        "colab": {}
      },
      "cell_type": "code",
      "source": [
        "import cv2"
      ],
      "execution_count": 0,
      "outputs": []
    },
    {
      "metadata": {
        "id": "FKzx0gUCJVL1",
        "colab_type": "code",
        "colab": {}
      },
      "cell_type": "code",
      "source": [
        "explainer = lime_image.LimeImageExplainer()"
      ],
      "execution_count": 0,
      "outputs": []
    },
    {
      "metadata": {
        "id": "Pz937C3RJo5A",
        "colab_type": "code",
        "colab": {}
      },
      "cell_type": "code",
      "source": [
        "from lime.wrappers.scikit_image import SegmentationAlgorithm\n",
        "\n",
        "segmenter = SegmentationAlgorithm('quickshift', kernel_size=1, max_dist=200, ratio=0.2)"
      ],
      "execution_count": 0,
      "outputs": []
    },
    {
      "metadata": {
        "id": "ZHru8KDnJ0EX",
        "colab_type": "code",
        "colab": {}
      },
      "cell_type": "code",
      "source": [
        "from skimage.color import gray2rgb, rgb2gray, label2rgb\n",
        "import random"
      ],
      "execution_count": 0,
      "outputs": []
    },
    {
      "metadata": {
        "id": "hDulBtcUJ2AL",
        "colab_type": "code",
        "colab": {}
      },
      "cell_type": "code",
      "source": [
        "def return_explanation_image(image,y,filename):\n",
        "  \n",
        "  explanation = explainer.explain_instance(image,classifier_fn = prediction_function,top_labels=2, hide_color=None, num_samples=1000, segmentation_fn=segmenter)\n",
        "  output = np.argmax(y)\n",
        "  \n",
        "  temp, mask = explanation.get_image_and_mask(output, positive_only=True, num_features=1, hide_rest=True, min_weight = 0.01)\n",
        "  fig= plt.figure()\n",
        "  \n",
        "  (ax1) = fig.add_subplot(2,1,1)\n",
        "  ax1.imshow(label2rgb(mask,temp, bg_label = 0), interpolation = 'nearest')\n",
        "  ax1.set_title('Positive Regions for {}'.format(output))\n",
        "  \n",
        "  (ax2) = fig.add_subplot(2,2,1)\n",
        "  ax2.imshow(image)\n",
        "  ax2.set_title(\"Original Image\")\n",
        "  \n",
        "  fig.savefig(filename)\n",
        "  img = cv2.imread(filename)\n",
        "  \n",
        "  \n",
        "  fig2 = plt.figure()\n",
        "  (ax3) = fig2.add_subplot(2,1,1)\n",
        "  ax3.imshow(label2rgb(mask,temp, bg_label = 0), interpolation = 'nearest')\n",
        "  ax3.set_title('Positive Regions for {}'.format(output))\n",
        "  fig2.savefig('temp.jpeg')\n",
        "  img2 = cv2.imread('temp.jpeg')\n",
        "  \n",
        "  return img2"
      ],
      "execution_count": 0,
      "outputs": []
    },
    {
      "metadata": {
        "id": "IBglgRMmKFNd",
        "colab_type": "code",
        "colab": {
          "base_uri": "https://localhost:8080/",
          "height": 382
        },
        "outputId": "9d0ffd06-fd05-4f40-9efa-6502e687ed0e"
      },
      "cell_type": "code",
      "source": [
        "exp = return_explanation_image(data_sample_x,prediction_function(data_sample_x),'test.jpg')  "
      ],
      "execution_count": 33,
      "outputs": [
        {
          "output_type": "display_data",
          "data": {
            "image/png": "[encoded data removed]",
            "text/plain": [
              "<Figure size 576x396 with 2 Axes>"
            ]
          },
          "metadata": {
            "tags": []
          }
        },
        {
          "output_type": "display_data",
          "data": {
            "image/png": "[encoded data removed]",
            "text/plain": [
              "<Figure size 576x396 with 1 Axes>"
            ]
          },
          "metadata": {
            "tags": []
          }
        }
      ]
    },
    {
      "metadata": {
        "id": "G5--V64TPhSi",
        "colab_type": "code",
        "colab": {}
      },
      "cell_type": "code",
      "source": [
        "def noisy(image):\n",
        "  noises = [\"s&p\",\"poisson\"]\n",
        "  \n",
        "  idx = random.randint(0,1)\n",
        "  noise_typ = noises[idx]\n",
        "  \n",
        "  print(noise_typ)\n",
        "\n",
        "  if noise_typ == \"s&p\":\n",
        "      row,col,ch = image.shape\n",
        "      s_vs_p = 0.5\n",
        "      amount = 0.01\n",
        "      out = np.copy(image)\n",
        "      # Salt mode\n",
        "      num_salt = np.ceil(amount * image.size * s_vs_p)\n",
        "      coords = [np.random.randint(0, i - 1, int(num_salt))\n",
        "              for i in image.shape]\n",
        "      out[coords] = 1\n",
        "\n",
        "      # Pepper mode\n",
        "      num_pepper = np.ceil(amount* image.size * (1. - s_vs_p))\n",
        "      coords = [np.random.randint(0, i - 1, int(num_pepper))\n",
        "              for i in image.shape]\n",
        "      out[coords] = 0\n",
        "      return out\n",
        "  \n",
        "  elif noise_typ == \"poisson\":\n",
        "      vals = len(np.unique(image))\n",
        "      vals = 2 ** np.ceil(np.log2(vals))\n",
        "      noisy = np.random.poisson(image * vals) / float(vals)\n",
        "      return noisy"
      ],
      "execution_count": 0,
      "outputs": []
    },
    {
      "metadata": {
        "id": "cDsXT1NfQxXE",
        "colab_type": "code",
        "colab": {
          "base_uri": "https://localhost:8080/",
          "height": 34
        },
        "outputId": "cd24ef4b-c781-420f-da35-b4c2a2c4b936"
      },
      "cell_type": "code",
      "source": [
        "noisy_image = noisy(data_sample_x)"
      ],
      "execution_count": 35,
      "outputs": [
        {
          "output_type": "stream",
          "text": [
            "poisson\n"
          ],
          "name": "stdout"
        }
      ]
    },
    {
      "metadata": {
        "id": "yi84ZIpaRKqd",
        "colab_type": "code",
        "colab": {
          "base_uri": "https://localhost:8080/",
          "height": 364
        },
        "outputId": "f5dfaac1-f36d-45f1-a6ae-40d5d9141719"
      },
      "cell_type": "code",
      "source": [
        "plt.imshow(noisy_image)"
      ],
      "execution_count": 36,
      "outputs": [
        {
          "output_type": "execute_result",
          "data": {
            "text/plain": [
              "<matplotlib.image.AxesImage at 0x7f47ac2cbb00>"
            ]
          },
          "metadata": {
            "tags": []
          },
          "execution_count": 36
        },
        {
          "output_type": "display_data",
          "data": {
            "image/png": "[encoded data removed]",
            "text/plain": [
              "<Figure size 576x396 with 1 Axes>"
            ]
          },
          "metadata": {
            "tags": []
          }
        }
      ]
    },
    {
      "metadata": {
        "id": "b_KYNJr3RMhn",
        "colab_type": "code",
        "colab": {
          "base_uri": "https://localhost:8080/",
          "height": 382
        },
        "outputId": "68003eaf-5098-48fc-db6e-c31d9ba9195d"
      },
      "cell_type": "code",
      "source": [
        "exp_n = return_explanation_image(noisy_image,prediction_function(noisy_image),'test1.jpg') "
      ],
      "execution_count": 37,
      "outputs": [
        {
          "output_type": "display_data",
          "data": {
            "image/png": "[encoded data removed]",
            "text/plain": [
              "<Figure size 576x396 with 2 Axes>"
            ]
          },
          "metadata": {
            "tags": []
          }
        },
        {
          "output_type": "display_data",
          "data": {
            "image/png": "[encoded data removed]",
            "text/plain": [
              "<Figure size 576x396 with 1 Axes>"
            ]
          },
          "metadata": {
            "tags": []
          }
        }
      ]
    },
    {
      "metadata": {
        "id": "Gq2rTb4HTN23",
        "colab_type": "code",
        "colab": {}
      },
      "cell_type": "code",
      "source": [
        "from skimage.measure import structural_similarity as ssim"
      ],
      "execution_count": 0,
      "outputs": []
    },
    {
      "metadata": {
        "id": "-E_2l0nmTB2L",
        "colab_type": "code",
        "colab": {}
      },
      "cell_type": "code",
      "source": [
        "def mse(imageA, imageB):\n",
        "\t# the 'Mean Squared Error' between the two images is the\n",
        "\t# sum of the squared difference between the two images;\n",
        "\t# NOTE: the two images must have the same dimension\n",
        "\terr = np.sum((imageA.astype(\"float\") - imageB.astype(\"float\")) ** 2)\n",
        "\terr /= float(imageA.shape[0] * imageA.shape[1])\n",
        "\t\n",
        "\t# return the MSE, the lower the error, the more \"similar\"\n",
        "\t# the two images are\n",
        "\treturn err"
      ],
      "execution_count": 0,
      "outputs": []
    },
    {
      "metadata": {
        "id": "nOsCqwsYS3yo",
        "colab_type": "code",
        "colab": {}
      },
      "cell_type": "code",
      "source": [
        "def compare_images(imageA, imageB, title):\n",
        "  # compute the mean squared error and structural similarity\n",
        "  # index for the images\n",
        "  m = mse(imageA, imageB)\n",
        "  s = ssim(imageA, imageB,multichannel=True)\n",
        "\n",
        "  # setup the figure\n",
        "  fig = plt.figure(title)\n",
        "  plt.suptitle(\"MSE: %.2f, SSIM: %.2f\" % (m, s))\n",
        "\n",
        "  # show first image\n",
        "  ax = fig.add_subplot(1, 2, 1)\n",
        "  plt.imshow(imageA, cmap = plt.cm.gray)\n",
        "  plt.axis(\"off\")\n",
        "\n",
        "  # show the second image\n",
        "  ax = fig.add_subplot(1, 2, 2)\n",
        "  plt.imshow(imageB, cmap = plt.cm.gray)\n",
        "  plt.axis(\"off\")\n",
        "\n",
        "  # show the images\n",
        "  plt.show() \n",
        "  return m,s"
      ],
      "execution_count": 0,
      "outputs": []
    },
    {
      "metadata": {
        "id": "4cC5gsFCRzNd",
        "colab_type": "code",
        "colab": {
          "base_uri": "https://localhost:8080/",
          "height": 391
        },
        "outputId": "9cc063be-55cc-4c3f-fb49-0f1d7d585f7a"
      },
      "cell_type": "code",
      "source": [
        "original_diff,ss1= compare_images(data_sample_x,np.array(noisy_image,dtype='float32'),\"Image and Noisy Image\") "
      ],
      "execution_count": 45,
      "outputs": [
        {
          "output_type": "stream",
          "text": [
            "/usr/local/lib/python3.6/dist-packages/skimage/measure/_structural_similarity.py:234: skimage_deprecation: Function ``structural_similarity`` is deprecated and will be removed in version 0.14. Use ``compare_ssim`` instead.\n",
            "  def structural_similarity(X, Y, win_size=None, gradient=False,\n"
          ],
          "name": "stderr"
        },
        {
          "output_type": "display_data",
          "data": {
            "image/png": "[encoded data removed]",
            "text/plain": [
              "<Figure size 576x396 with 2 Axes>"
            ]
          },
          "metadata": {
            "tags": []
          }
        }
      ]
    },
    {
      "metadata": {
        "id": "KhR3Zy4nS-tc",
        "colab_type": "code",
        "colab": {
          "base_uri": "https://localhost:8080/",
          "height": 361
        },
        "outputId": "24db5cec-e43b-4bb8-b1f1-44206ab2a29b"
      },
      "cell_type": "code",
      "source": [
        "exp_diff, ss2 = compare_images(exp,exp_n,\"Image Explanation and Noisy Image Explanation\") "
      ],
      "execution_count": 46,
      "outputs": [
        {
          "output_type": "stream",
          "text": [
            "/usr/local/lib/python3.6/dist-packages/skimage/measure/_structural_similarity.py:234: skimage_deprecation: Function ``structural_similarity`` is deprecated and will be removed in version 0.14. Use ``compare_ssim`` instead.\n",
            "  def structural_similarity(X, Y, win_size=None, gradient=False,\n"
          ],
          "name": "stderr"
        },
        {
          "output_type": "display_data",
          "data": {
            "image/png": "[encoded data removed]",
            "text/plain": [
              "<Figure size 576x396 with 2 Axes>"
            ]
          },
          "metadata": {
            "tags": []
          }
        }
      ]
    },
    {
      "metadata": {
        "id": "6kI8_MKCTgAT",
        "colab_type": "code",
        "colab": {
          "base_uri": "https://localhost:8080/",
          "height": 34
        },
        "outputId": "fe0e44be-f071-43cc-e1a3-1c55800ad3bf"
      },
      "cell_type": "code",
      "source": [
        "stab = ss2/ss1\n",
        "stab"
      ],
      "execution_count": 47,
      "outputs": [
        {
          "output_type": "execute_result",
          "data": {
            "text/plain": [
              "1.070209691902065"
            ]
          },
          "metadata": {
            "tags": []
          },
          "execution_count": 47
        }
      ]
    },
    {
      "metadata": {
        "id": "jQMtaNFjVvI2",
        "colab_type": "code",
        "colab": {}
      },
      "cell_type": "code",
      "source": [
        "stabilities = []"
      ],
      "execution_count": 0,
      "outputs": []
    },
    {
      "metadata": {
        "id": "fwERCs8XVVeg",
        "colab_type": "code",
        "colab": {}
      },
      "cell_type": "code",
      "source": [
        "for i in range(100):\n",
        "  try:\n",
        "    image = x_test[i]\n",
        "    output = prediction_function(image)\n",
        "\n",
        "    original_filename = \"/content/gdrive/My Drive/8th Semester Project/test_1.jpeg\"\n",
        "    original_image_explanation = return_explanation_image(image,output,original_filename)\n",
        "\n",
        "    noisy_input = noisy(image)\n",
        "\n",
        "    noisy_exp_filename = \"/content/gdrive/My Drive/8th Semester Project/test_2.jpeg\"\n",
        "    noisy_image_explanation = return_explanation_image(noisy_input,output,noisy_exp_filename)\n",
        "\n",
        "    m1,s1 = compare_images(image,noisy_input,\"Original Images\")\n",
        "    m2,s2 = compare_images(original_image_explanation,noisy_image_explanation,\"Explanations\")\n",
        "\n",
        "    stability = s2/s1\n",
        "\n",
        "    stabilities.append(stability)\n",
        "  except : \n",
        "    continue\n",
        "  print(\"Done for \",i,'/',100)"
      ],
      "execution_count": 0,
      "outputs": []
    },
    {
      "metadata": {
        "id": "waKU55zVVwcS",
        "colab_type": "code",
        "colab": {}
      },
      "cell_type": "code",
      "source": [
        "mean_stab = sum(stabilities)/len(stabilities)"
      ],
      "execution_count": 0,
      "outputs": []
    },
    {
      "metadata": {
        "id": "sJWK927jaNew",
        "colab_type": "code",
        "colab": {
          "base_uri": "https://localhost:8080/",
          "height": 34
        },
        "outputId": "40cf6978-7d62-40fe-9a3a-39cf43f4c40b"
      },
      "cell_type": "code",
      "source": [
        "mean_stab"
      ],
      "execution_count": 51,
      "outputs": [
        {
          "output_type": "execute_result",
          "data": {
            "text/plain": [
              "1.0691218388985602"
            ]
          },
          "metadata": {
            "tags": []
          },
          "execution_count": 51
        }
      ]
    }
  ]
}