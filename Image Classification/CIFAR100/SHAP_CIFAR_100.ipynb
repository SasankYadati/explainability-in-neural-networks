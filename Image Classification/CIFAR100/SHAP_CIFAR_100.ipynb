{
  "nbformat": 4,
  "nbformat_minor": 0,
  "metadata": {
    "colab": {
      "name": "SHAP CIFAR 100",
      "version": "0.3.2",
      "provenance": []
    },
    "kernelspec": {
      "name": "python3",
      "display_name": "Python 3"
    },
    "accelerator": "GPU"
  },
  "cells": [
    {
      "metadata": {
        "id": "hNx4TAa_7Q5G",
        "colab_type": "code",
        "colab": {}
      },
      "cell_type": "code",
      "source": [
        "#SHAP Explanations CIFAR 100"
      ],
      "execution_count": 0,
      "outputs": []
    },
    {
      "metadata": {
        "id": "JEz2y9zU7Ybt",
        "colab_type": "code",
        "colab": {
          "base_uri": "https://localhost:8080/",
          "height": 121
        },
        "outputId": "c9d88e32-15b8-4fce-d4df-a47d49ad4fb4"
      },
      "cell_type": "code",
      "source": [
        "from google.colab import drive\n",
        "drive.mount(\"/content/gdrive\")"
      ],
      "execution_count": 2,
      "outputs": [
        {
          "output_type": "stream",
          "text": [
            "Go to this URL in a browser: https://accounts.google.com/o/oauth2/auth?client_id=947318989803-6bn6qk8qdgf4n4g3pfee6491hc0brc4i.apps.googleusercontent.com&redirect_uri=urn%3Aietf%3Awg%3Aoauth%3A2.0%3Aoob&scope=email%20https%3A%2F%2Fwww.googleapis.com%2Fauth%2Fdocs.test%20https%3A%2F%2Fwww.googleapis.com%2Fauth%2Fdrive%20https%3A%2F%2Fwww.googleapis.com%2Fauth%2Fdrive.photos.readonly%20https%3A%2F%2Fwww.googleapis.com%2Fauth%2Fpeopleapi.readonly&response_type=code\n",
            "\n",
            "Enter your authorization code:\n",
            "··········\n",
            "Mounted at /content/gdrive\n"
          ],
          "name": "stdout"
        }
      ]
    },
    {
      "metadata": {
        "id": "JijyI_si7dB7",
        "colab_type": "code",
        "colab": {
          "base_uri": "https://localhost:8080/",
          "height": 205
        },
        "outputId": "b92b0b01-7c50-477c-cc8c-916c817652fe"
      },
      "cell_type": "code",
      "source": [
        "from keras.models import load_model\n",
        "\n",
        "model = load_model(\"/content/gdrive/My Drive/8th Semester Project/cifar100.h5\")"
      ],
      "execution_count": 3,
      "outputs": [
        {
          "output_type": "stream",
          "text": [
            "Using TensorFlow backend.\n"
          ],
          "name": "stderr"
        },
        {
          "output_type": "stream",
          "text": [
            "WARNING:tensorflow:From /usr/local/lib/python3.6/dist-packages/tensorflow/python/framework/op_def_library.py:263: colocate_with (from tensorflow.python.framework.ops) is deprecated and will be removed in a future version.\n",
            "Instructions for updating:\n",
            "Colocations handled automatically by placer.\n",
            "WARNING:tensorflow:From /usr/local/lib/python3.6/dist-packages/keras/backend/tensorflow_backend.py:3445: calling dropout (from tensorflow.python.ops.nn_ops) with keep_prob is deprecated and will be removed in a future version.\n",
            "Instructions for updating:\n",
            "Please use `rate` instead of `keep_prob`. Rate should be set to `rate = 1 - keep_prob`.\n",
            "WARNING:tensorflow:From /usr/local/lib/python3.6/dist-packages/tensorflow/python/ops/math_ops.py:3066: to_int32 (from tensorflow.python.ops.math_ops) is deprecated and will be removed in a future version.\n",
            "Instructions for updating:\n",
            "Use tf.cast instead.\n"
          ],
          "name": "stdout"
        }
      ]
    },
    {
      "metadata": {
        "id": "FcSsWJ647vc8",
        "colab_type": "code",
        "colab": {
          "base_uri": "https://localhost:8080/",
          "height": 907
        },
        "outputId": "b79dc49a-00e1-4400-8618-c6e01e2b9a53"
      },
      "cell_type": "code",
      "source": [
        "model.summary()"
      ],
      "execution_count": 4,
      "outputs": [
        {
          "output_type": "stream",
          "text": [
            "_________________________________________________________________\n",
            "Layer (type)                 Output Shape              Param #   \n",
            "=================================================================\n",
            "conv2d_7 (Conv2D)            (None, 32, 32, 128)       3584      \n",
            "_________________________________________________________________\n",
            "activation_9 (Activation)    (None, 32, 32, 128)       0         \n",
            "_________________________________________________________________\n",
            "conv2d_8 (Conv2D)            (None, 30, 30, 128)       147584    \n",
            "_________________________________________________________________\n",
            "activation_10 (Activation)   (None, 30, 30, 128)       0         \n",
            "_________________________________________________________________\n",
            "max_pooling2d_4 (MaxPooling2 (None, 15, 15, 128)       0         \n",
            "_________________________________________________________________\n",
            "conv2d_9 (Conv2D)            (None, 15, 15, 256)       295168    \n",
            "_________________________________________________________________\n",
            "activation_11 (Activation)   (None, 15, 15, 256)       0         \n",
            "_________________________________________________________________\n",
            "conv2d_10 (Conv2D)           (None, 13, 13, 256)       590080    \n",
            "_________________________________________________________________\n",
            "activation_12 (Activation)   (None, 13, 13, 256)       0         \n",
            "_________________________________________________________________\n",
            "max_pooling2d_5 (MaxPooling2 (None, 6, 6, 256)         0         \n",
            "_________________________________________________________________\n",
            "dropout_4 (Dropout)          (None, 6, 6, 256)         0         \n",
            "_________________________________________________________________\n",
            "conv2d_11 (Conv2D)           (None, 6, 6, 512)         1180160   \n",
            "_________________________________________________________________\n",
            "activation_13 (Activation)   (None, 6, 6, 512)         0         \n",
            "_________________________________________________________________\n",
            "conv2d_12 (Conv2D)           (None, 4, 4, 512)         2359808   \n",
            "_________________________________________________________________\n",
            "activation_14 (Activation)   (None, 4, 4, 512)         0         \n",
            "_________________________________________________________________\n",
            "max_pooling2d_6 (MaxPooling2 (None, 2, 2, 512)         0         \n",
            "_________________________________________________________________\n",
            "dropout_5 (Dropout)          (None, 2, 2, 512)         0         \n",
            "_________________________________________________________________\n",
            "flatten_2 (Flatten)          (None, 2048)              0         \n",
            "_________________________________________________________________\n",
            "dense_3 (Dense)              (None, 1024)              2098176   \n",
            "_________________________________________________________________\n",
            "activation_15 (Activation)   (None, 1024)              0         \n",
            "_________________________________________________________________\n",
            "dropout_6 (Dropout)          (None, 1024)              0         \n",
            "_________________________________________________________________\n",
            "dense_4 (Dense)              (None, 100)               102500    \n",
            "_________________________________________________________________\n",
            "activation_16 (Activation)   (None, 100)               0         \n",
            "=================================================================\n",
            "Total params: 6,777,060\n",
            "Trainable params: 6,777,060\n",
            "Non-trainable params: 0\n",
            "_________________________________________________________________\n"
          ],
          "name": "stdout"
        }
      ]
    },
    {
      "metadata": {
        "id": "dO1U4chk7xFi",
        "colab_type": "code",
        "colab": {}
      },
      "cell_type": "code",
      "source": [
        "import keras\n",
        "from keras.datasets import cifar100"
      ],
      "execution_count": 0,
      "outputs": []
    },
    {
      "metadata": {
        "id": "ysC5Cd207050",
        "colab_type": "code",
        "colab": {}
      },
      "cell_type": "code",
      "source": [
        "import os\n",
        "import pickle\n",
        "import numpy as np"
      ],
      "execution_count": 0,
      "outputs": []
    },
    {
      "metadata": {
        "id": "uYaSyTP273Z3",
        "colab_type": "code",
        "colab": {
          "base_uri": "https://localhost:8080/",
          "height": 101
        },
        "outputId": "cb575036-d6f7-4b05-c270-7c8982dab908"
      },
      "cell_type": "code",
      "source": [
        "num_classes = 100\n",
        "\n",
        "# The data, shuffled and split between train and test sets:\n",
        "(x_train, y_train), (x_test, y_test) = cifar100.load_data()\n",
        "print('x_train shape:', x_train.shape)\n",
        "print(x_train.shape[0], 'train samples')\n",
        "print(x_test.shape[0], 'test samples')\n",
        "\n",
        "# Convert class vectors to binary class matrices.\n",
        "y_train = keras.utils.to_categorical(y_train, num_classes)\n",
        "y_test = keras.utils.to_categorical(y_test, num_classes)\n",
        "\n",
        "x_train = x_train.astype('float32')\n",
        "x_test = x_test.astype('float32')\n",
        "x_train /= 255.\n",
        "x_test /= 255."
      ],
      "execution_count": 7,
      "outputs": [
        {
          "output_type": "stream",
          "text": [
            "Downloading data from https://www.cs.toronto.edu/~kriz/cifar-100-python.tar.gz\n",
            "169009152/169001437 [==============================] - 31s 0us/step\n",
            "x_train shape: (50000, 32, 32, 3)\n",
            "50000 train samples\n",
            "10000 test samples\n"
          ],
          "name": "stdout"
        }
      ]
    },
    {
      "metadata": {
        "id": "Yr89py3f77la",
        "colab_type": "code",
        "colab": {
          "base_uri": "https://localhost:8080/",
          "height": 675
        },
        "outputId": "8baf4163-5831-481a-b450-10b0515774a6"
      },
      "cell_type": "code",
      "source": [
        "!pip install shap"
      ],
      "execution_count": 8,
      "outputs": [
        {
          "output_type": "stream",
          "text": [
            "Collecting shap\n",
            "\u001b[?25l  Downloading https://files.pythonhosted.org/packages/18/16/ef445c7fe3ecfc80b7d20e64a9f7239d11fffa7dd2f3c046061b360a5786/shap-0.28.3.tar.gz (222kB)\n",
            "\r\u001b[K    4% |█▌                              | 10kB 17.9MB/s eta 0:00:01\r\u001b[K    9% |███                             | 20kB 4.7MB/s eta 0:00:01\r\u001b[K    13% |████▍                           | 30kB 6.6MB/s eta 0:00:01\r\u001b[K    18% |█████▉                          | 40kB 4.3MB/s eta 0:00:01\r\u001b[K    22% |███████▍                        | 51kB 5.2MB/s eta 0:00:01\r\u001b[K    27% |████████▉                       | 61kB 6.2MB/s eta 0:00:01\r\u001b[K    32% |██████████▎                     | 71kB 7.0MB/s eta 0:00:01\r\u001b[K    36% |███████████▊                    | 81kB 7.8MB/s eta 0:00:01\r\u001b[K    41% |█████████████▎                  | 92kB 8.6MB/s eta 0:00:01\r\u001b[K    45% |██████████████▊                 | 102kB 7.0MB/s eta 0:00:01\r\u001b[K    50% |████████████████▏               | 112kB 7.2MB/s eta 0:00:01\r\u001b[K    55% |█████████████████▋              | 122kB 9.6MB/s eta 0:00:01\r\u001b[K    59% |███████████████████▏            | 133kB 9.6MB/s eta 0:00:01\r\u001b[K    64% |████████████████████▋           | 143kB 17.1MB/s eta 0:00:01\r\u001b[K    68% |██████████████████████          | 153kB 17.1MB/s eta 0:00:01\r\u001b[K    73% |███████████████████████▌        | 163kB 17.0MB/s eta 0:00:01\r\u001b[K    78% |█████████████████████████       | 174kB 16.6MB/s eta 0:00:01\r\u001b[K    82% |██████████████████████████▌     | 184kB 16.8MB/s eta 0:00:01\r\u001b[K    87% |████████████████████████████    | 194kB 16.9MB/s eta 0:00:01\r\u001b[K    91% |█████████████████████████████▍  | 204kB 40.6MB/s eta 0:00:01\r\u001b[K    96% |███████████████████████████████ | 215kB 21.4MB/s eta 0:00:01\r\u001b[K    100% |████████████████████████████████| 225kB 16.4MB/s \n",
            "\u001b[?25hRequirement already satisfied: numpy in /usr/local/lib/python3.6/dist-packages (from shap) (1.14.6)\n",
            "Requirement already satisfied: scipy in /usr/local/lib/python3.6/dist-packages (from shap) (1.1.0)\n",
            "Requirement already satisfied: scikit-learn in /usr/local/lib/python3.6/dist-packages (from shap) (0.20.2)\n",
            "Requirement already satisfied: matplotlib in /usr/local/lib/python3.6/dist-packages (from shap) (3.0.2)\n",
            "Requirement already satisfied: pandas in /usr/local/lib/python3.6/dist-packages (from shap) (0.22.0)\n",
            "Requirement already satisfied: tqdm in /usr/local/lib/python3.6/dist-packages (from shap) (4.28.1)\n",
            "Requirement already satisfied: ipython in /usr/local/lib/python3.6/dist-packages (from shap) (5.5.0)\n",
            "Requirement already satisfied: scikit-image in /usr/local/lib/python3.6/dist-packages (from shap) (0.13.1)\n",
            "Requirement already satisfied: kiwisolver>=1.0.1 in /usr/local/lib/python3.6/dist-packages (from matplotlib->shap) (1.0.1)\n",
            "Requirement already satisfied: cycler>=0.10 in /usr/local/lib/python3.6/dist-packages (from matplotlib->shap) (0.10.0)\n",
            "Requirement already satisfied: pyparsing!=2.0.4,!=2.1.2,!=2.1.6,>=2.0.1 in /usr/local/lib/python3.6/dist-packages (from matplotlib->shap) (2.3.1)\n",
            "Requirement already satisfied: python-dateutil>=2.1 in /usr/local/lib/python3.6/dist-packages (from matplotlib->shap) (2.5.3)\n",
            "Requirement already satisfied: pytz>=2011k in /usr/local/lib/python3.6/dist-packages (from pandas->shap) (2018.9)\n",
            "Requirement already satisfied: prompt-toolkit<2.0.0,>=1.0.4 in /usr/local/lib/python3.6/dist-packages (from ipython->shap) (1.0.15)\n",
            "Requirement already satisfied: traitlets>=4.2 in /usr/local/lib/python3.6/dist-packages (from ipython->shap) (4.3.2)\n",
            "Requirement already satisfied: pexpect; sys_platform != \"win32\" in /usr/local/lib/python3.6/dist-packages (from ipython->shap) (4.6.0)\n",
            "Requirement already satisfied: decorator in /usr/local/lib/python3.6/dist-packages (from ipython->shap) (4.3.2)\n",
            "Requirement already satisfied: setuptools>=18.5 in /usr/local/lib/python3.6/dist-packages (from ipython->shap) (40.7.3)\n",
            "Requirement already satisfied: pygments in /usr/local/lib/python3.6/dist-packages (from ipython->shap) (2.1.3)\n",
            "Requirement already satisfied: pickleshare in /usr/local/lib/python3.6/dist-packages (from ipython->shap) (0.7.5)\n",
            "Requirement already satisfied: simplegeneric>0.8 in /usr/local/lib/python3.6/dist-packages (from ipython->shap) (0.8.1)\n",
            "Requirement already satisfied: pillow>=2.1.0 in /usr/local/lib/python3.6/dist-packages (from scikit-image->shap) (4.0.0)\n",
            "Requirement already satisfied: PyWavelets>=0.4.0 in /usr/local/lib/python3.6/dist-packages (from scikit-image->shap) (1.0.1)\n",
            "Requirement already satisfied: six>=1.7.3 in /usr/local/lib/python3.6/dist-packages (from scikit-image->shap) (1.11.0)\n",
            "Requirement already satisfied: networkx>=1.8 in /usr/local/lib/python3.6/dist-packages (from scikit-image->shap) (2.2)\n",
            "Requirement already satisfied: wcwidth in /usr/local/lib/python3.6/dist-packages (from prompt-toolkit<2.0.0,>=1.0.4->ipython->shap) (0.1.7)\n",
            "Requirement already satisfied: ipython-genutils in /usr/local/lib/python3.6/dist-packages (from traitlets>=4.2->ipython->shap) (0.2.0)\n",
            "Requirement already satisfied: ptyprocess>=0.5 in /usr/local/lib/python3.6/dist-packages (from pexpect; sys_platform != \"win32\"->ipython->shap) (0.6.0)\n",
            "Requirement already satisfied: olefile in /usr/local/lib/python3.6/dist-packages (from pillow>=2.1.0->scikit-image->shap) (0.46)\n",
            "Building wheels for collected packages: shap\n",
            "  Building wheel for shap (setup.py) ... \u001b[?25ldone\n",
            "\u001b[?25h  Stored in directory: /root/.cache/pip/wheels/3a/5d/18/1f604dd6b90e4e9059263f4c589d57934c0efbf6c726b75898\n",
            "Successfully built shap\n",
            "Installing collected packages: shap\n",
            "Successfully installed shap-0.28.3\n"
          ],
          "name": "stdout"
        }
      ]
    },
    {
      "metadata": {
        "id": "POXOcaup8FGZ",
        "colab_type": "code",
        "colab": {}
      },
      "cell_type": "code",
      "source": [
        "import shap"
      ],
      "execution_count": 0,
      "outputs": []
    },
    {
      "metadata": {
        "id": "7hBre1sr8Jso",
        "colab_type": "code",
        "colab": {}
      },
      "cell_type": "code",
      "source": [
        "background = x_train[np.random.choice(x_train.shape[0], 100, replace=False)]"
      ],
      "execution_count": 0,
      "outputs": []
    },
    {
      "metadata": {
        "id": "lSKk1dqb8TQS",
        "colab_type": "code",
        "colab": {}
      },
      "cell_type": "code",
      "source": [
        "explainer = shap.DeepExplainer(model, background)"
      ],
      "execution_count": 0,
      "outputs": []
    },
    {
      "metadata": {
        "id": "TGh9flO7BPQj",
        "colab_type": "code",
        "colab": {}
      },
      "cell_type": "code",
      "source": [
        "import matplotlib.pyplot as plt"
      ],
      "execution_count": 0,
      "outputs": []
    },
    {
      "metadata": {
        "id": "hhUUy1nk8ZRq",
        "colab_type": "code",
        "colab": {
          "base_uri": "https://localhost:8080/",
          "height": 54
        },
        "outputId": "b779b5f3-7b11-41f7-e8aa-9cf25a5405f5"
      },
      "cell_type": "code",
      "source": [
        "import skimage.color\n",
        "\n",
        "try:\n",
        "    import matplotlib.pyplot as pl\n",
        "    import matplotlib\n",
        "    from matplotlib.colors import LinearSegmentedColormap\n",
        "\n",
        "    def lch2rgb(x):\n",
        "        return skimage.color.lab2rgb(skimage.color.lch2lab([[x]]))[0][0]\n",
        "\n",
        "    # define our colors using Lch\n",
        "    # note that we intentionally vary the lightness during interpolation so as to better\n",
        "    # enable the eye to see patterns (since patterns are most easily recognized through\n",
        "    # lightness variability)\n",
        "    blue_lch = [54., 70., 4.6588]\n",
        "    l_mid = 40.\n",
        "    red_lch = [54., 90., 0.35470565 + 2* np.pi]\n",
        "    gray_lch = [55., 0., 0.]\n",
        "    blue_rgb = lch2rgb(blue_lch)\n",
        "    red_rgb = lch2rgb(red_lch)\n",
        "    gray_rgb = lch2rgb(gray_lch)\n",
        "\n",
        "    # define a perceptually uniform color scale using the Lch color space\n",
        "    reds = []\n",
        "    greens = []\n",
        "    blues = []\n",
        "    alphas = []\n",
        "    nsteps = 100\n",
        "    l_vals = list(np.linspace(blue_lch[0], l_mid, nsteps/2)) + list(np.linspace(l_mid, red_lch[0], nsteps/2))\n",
        "    c_vals = np.linspace(blue_lch[1], red_lch[1], nsteps)\n",
        "    h_vals = np.linspace(blue_lch[2], red_lch[2], nsteps)\n",
        "    for pos,l,c,h in zip(np.linspace(0, 1, nsteps), l_vals, c_vals, h_vals):\n",
        "        lch = [l, c, h]\n",
        "        rgb = lch2rgb(lch)\n",
        "        reds.append((pos, rgb[0], rgb[0]))\n",
        "        greens.append((pos, rgb[1], rgb[1]))\n",
        "        blues.append((pos, rgb[2], rgb[2]))\n",
        "        alphas.append((pos, 1.0, 1.0))\n",
        "\n",
        "    red_blue = LinearSegmentedColormap('red_blue', {\n",
        "        \"red\": reds,\n",
        "        \"green\": greens,\n",
        "        \"blue\": blues,\n",
        "        \"alpha\": alphas\n",
        "    })\n",
        "    red_blue.set_bad(gray_rgb, 1.0)\n",
        "    red_blue.set_over(gray_rgb, 1.0)\n",
        "    red_blue.set_under(gray_rgb, 1.0) # \"under\" is incorrectly used instead of \"bad\" in the scatter plot\n",
        "\n",
        "    red_blue_no_bounds = LinearSegmentedColormap('red_blue_no_bounds', {\n",
        "        \"red\": reds,\n",
        "        \"green\": greens,\n",
        "        \"blue\": blues,\n",
        "        \"alpha\": alphas\n",
        "    })\n",
        "\n",
        "    # define a circular version of the color scale for categorical coloring\n",
        "    reds = []\n",
        "    greens = []\n",
        "    blues = []\n",
        "    alphas = []\n",
        "    nsteps = 100\n",
        "    c_vals = np.linspace(blue_lch[1], red_lch[1], nsteps)\n",
        "    h_vals = np.linspace(blue_lch[2], red_lch[2], nsteps)\n",
        "    for pos,c,h in zip(np.linspace(0, 0.5, nsteps), c_vals, h_vals):\n",
        "        lch = [blue_lch[0], c, h]\n",
        "        rgb = lch2rgb(lch)\n",
        "        reds.append((pos, rgb[0], rgb[0]))\n",
        "        greens.append((pos, rgb[1], rgb[1]))\n",
        "        blues.append((pos, rgb[2], rgb[2]))\n",
        "        alphas.append((pos, 1.0, 1.0))\n",
        "    c_vals = np.linspace(red_lch[1], blue_lch[1], nsteps)\n",
        "    h_vals = np.linspace(red_lch[2] - 2 * np.pi, blue_lch[2], nsteps)\n",
        "    for pos,c,h in zip(np.linspace(0.5, 1, nsteps), c_vals, h_vals):\n",
        "        lch = [blue_lch[0], c, h]\n",
        "        rgb = lch2rgb(lch)\n",
        "        reds.append((pos, rgb[0], rgb[0]))\n",
        "        greens.append((pos, rgb[1], rgb[1]))\n",
        "        blues.append((pos, rgb[2], rgb[2]))\n",
        "        alphas.append((pos, 1.0, 1.0))\n",
        "\n",
        "    red_blue_circle = LinearSegmentedColormap('red_blue_circle', {\n",
        "        \"red\": reds,\n",
        "        \"green\": greens,\n",
        "        \"blue\": blues,\n",
        "        \"alpha\": alphas\n",
        "    })\n",
        "\n",
        "    colors = []\n",
        "    for l in np.linspace(1, 0, 100):\n",
        "        colors.append((30./255, 136./255, 229./255,l))\n",
        "    for l in np.linspace(0, 1, 100):\n",
        "        colors.append((255./255, 13./255, 87./255,l))\n",
        "    red_transparent_blue = LinearSegmentedColormap.from_list(\"red_transparent_blue\", colors)\n",
        "\n",
        "    colors = []\n",
        "    for l in np.linspace(0, 1, 100):\n",
        "        colors.append((30./255, 136./255, 229./255,l))\n",
        "    transparent_blue = LinearSegmentedColormap.from_list(\"transparent_blue\", colors)\n",
        "\n",
        "    colors = []\n",
        "    for l in np.linspace(0, 1, 100):\n",
        "        colors.append((255./255, 13./255, 87./255,l))\n",
        "    transparent_red = LinearSegmentedColormap.from_list(\"transparent_red\", colors)\n",
        "\n",
        "\n",
        "except ImportError:\n",
        "    pass"
      ],
      "execution_count": 13,
      "outputs": [
        {
          "output_type": "stream",
          "text": [
            "/usr/local/lib/python3.6/dist-packages/ipykernel_launcher.py:29: DeprecationWarning: object of type <class 'float'> cannot be safely interpreted as an integer.\n"
          ],
          "name": "stderr"
        }
      ]
    },
    {
      "metadata": {
        "id": "JVOIqRq98dSV",
        "colab_type": "code",
        "colab": {}
      },
      "cell_type": "code",
      "source": [
        "def image_plot(shap_values, x, labels=None, show=True):\n",
        "    \"\"\" Plots SHAP values for image inputs.\n",
        "    \"\"\"\n",
        "\n",
        "    multi_output = True\n",
        "    if type(shap_values) != list:\n",
        "        multi_output = False\n",
        "        shap_values = [shap_values]\n",
        "\n",
        "    # make sure labels\n",
        "    if labels is not None:\n",
        "        assert labels.shape[0] == shap_values[0].shape[0], \"Labels must have same row count as shap_values arrays!\"\n",
        "        if multi_output:\n",
        "            assert labels.shape[1] == len(shap_values), \"Labels must have a column for each output in shap_values!\"\n",
        "        else:\n",
        "            assert len(labels.shape) == 1, \"Labels must be a vector for single output shap_values.\"\n",
        "\n",
        "    # plot our explanations\n",
        "    fig_size = np.array([3 * (len(shap_values) + 1), 2.5 * (x.shape[0] + 1)])\n",
        "    if fig_size[0] > 20:\n",
        "        fig_size *= 20 / fig_size[0]\n",
        "    fig, axes = plt.subplots(nrows=x.shape[0], ncols=len(shap_values) + 1, figsize=fig_size)\n",
        "    if len(axes.shape) == 1:\n",
        "        axes = axes.reshape(1,axes.size)\n",
        "    for row in range(x.shape[0]):\n",
        "        x_curr = x[row].copy()\n",
        "\n",
        "        # make sure\n",
        "        if len(x_curr.shape) == 3 and x_curr.shape[2] == 1:\n",
        "            x_curr = x_curr.reshape(x_curr.shape[:2])\n",
        "        if x_curr.max() > 1:\n",
        "            x_curr /= 255.\n",
        "\n",
        "        # get a grayscale version of the image\n",
        "        if len(x_curr.shape) == 3 and x_curr.shape[2] == 3:\n",
        "            x_curr_gray = (0.2989 * x_curr[:,:,0] + 0.5870 * x_curr[:,:,1] + 0.1140 * x_curr[:,:,2]) # rgb to gray\n",
        "        else:\n",
        "            x_curr_gray = x_curr\n",
        "\n",
        "        axes[row,0].imshow(x_curr, cmap=plt.get_cmap('gray'))\n",
        "        axes[row,0].axis('off')\n",
        "        if len(shap_values[0][row].shape) == 2:\n",
        "            abs_vals = np.stack([np.abs(shap_values[i]) for i in range(len(shap_values))], 0).flatten()\n",
        "        else:\n",
        "            abs_vals = np.stack([np.abs(shap_values[i].sum(-1)) for i in range(len(shap_values))], 0).flatten()\n",
        "        max_val = np.nanpercentile(abs_vals, 99.9)\n",
        "        for i in range(len(shap_values)):\n",
        "            if labels is not None:\n",
        "                axes[row,i+1].set_title(labels[row,i])\n",
        "            sv = shap_values[i][row] if len(shap_values[i][row].shape) == 2 else shap_values[i][row].sum(-1)\n",
        "            axes[row,i+1].imshow(x_curr_gray, cmap=plt.get_cmap('gray'), alpha=0.15, extent=(-1, sv.shape[0], sv.shape[1], -1))\n",
        "            im = axes[row,i+1].imshow(sv, cmap=red_transparent_blue, vmin=-max_val, vmax=max_val)\n",
        "            axes[row,i+1].axis('off')\n",
        "    cb = fig.colorbar(im, ax=np.ravel(axes).tolist(), label=\"SHAP value\", orientation=\"horizontal\", aspect=fig_size[0]/0.2)\n",
        "    cb.outline.set_visible(False)\n",
        "    if show:\n",
        "        plt.show()\n",
        "    \n",
        "    return fig,axes"
      ],
      "execution_count": 0,
      "outputs": []
    },
    {
      "metadata": {
        "id": "RIKtvhbO8fa4",
        "colab_type": "code",
        "colab": {}
      },
      "cell_type": "code",
      "source": [
        "shap_values = explainer.shap_values(x_test[6:7])"
      ],
      "execution_count": 0,
      "outputs": []
    },
    {
      "metadata": {
        "id": "dMgEXscq8n2m",
        "colab_type": "code",
        "colab": {}
      },
      "cell_type": "code",
      "source": [
        "labels = labels = [str(i) for i in range(100)]"
      ],
      "execution_count": 0,
      "outputs": []
    },
    {
      "metadata": {
        "id": "P4zL8eRs8to6",
        "colab_type": "code",
        "colab": {
          "base_uri": "https://localhost:8080/",
          "height": 117
        },
        "outputId": "6289ade0-0713-457e-b3de-64542a8ee26a"
      },
      "cell_type": "code",
      "source": [
        "fig,axes = image_plot(shap_values, -x_test[6:7])"
      ],
      "execution_count": 84,
      "outputs": [
        {
          "output_type": "stream",
          "text": [
            "Clipping input data to the valid range for imshow with RGB data ([0..1] for floats or [0..255] for integers).\n"
          ],
          "name": "stderr"
        },
        {
          "output_type": "display_data",
          "data": {
            "image/png": "[encoded data removed]",
            "text/plain": [
              "<Figure size 1440x23.7624 with 102 Axes>"
            ]
          },
          "metadata": {
            "tags": []
          }
        }
      ]
    },
    {
      "metadata": {
        "id": "EpkPAO1OMkMl",
        "colab_type": "code",
        "colab": {}
      },
      "cell_type": "code",
      "source": [
        "import random"
      ],
      "execution_count": 0,
      "outputs": []
    },
    {
      "metadata": {
        "id": "4BGaXST_I_ks",
        "colab_type": "code",
        "colab": {}
      },
      "cell_type": "code",
      "source": [
        "def return_explanation_image(img):\n",
        "  img = img.reshape(1,32,32,3)\n",
        "  shap_values_ = explainer.shap_values(img, ranked_outputs = 1)\n",
        "  shap_values_top = shap_values_[0]\n",
        "  fig,axes = image_plot(shap_values_top, -img)\n",
        "  axes_from_fig = fig.get_axes()\n",
        "  extent = axes_from_fig[1].get_window_extent().transformed(fig.dpi_scale_trans.inverted())\n",
        "  fig.savefig(\"test.jpeg\", bbox_inches=extent) \n",
        "  img1 = cv2.imread('test.jpeg')\n",
        "  \n",
        "  return img1"
      ],
      "execution_count": 0,
      "outputs": []
    },
    {
      "metadata": {
        "id": "X6zF-PUwNtro",
        "colab_type": "code",
        "colab": {}
      },
      "cell_type": "code",
      "source": [
        "exp1 = return_explanation_image(x_test[9])"
      ],
      "execution_count": 0,
      "outputs": []
    },
    {
      "metadata": {
        "id": "eyshRUfKOA2n",
        "colab_type": "code",
        "colab": {
          "base_uri": "https://localhost:8080/",
          "height": 216
        },
        "outputId": "ceafb437-b79f-461e-d578-f94648855a1f"
      },
      "cell_type": "code",
      "source": [
        "fig= plt.figure()\n",
        "\n",
        "(ax1) = fig.add_subplot(2,1,1)\n",
        "ax1.imshow(x_test[9], interpolation = 'nearest')\n",
        "ax1.set_title('Original Image')\n",
        "\n",
        "(ax2) = fig.add_subplot(2,2,1)\n",
        "ax2.imshow(exp1)\n",
        "ax2.set_title('Explanation Image')"
      ],
      "execution_count": 200,
      "outputs": [
        {
          "output_type": "execute_result",
          "data": {
            "text/plain": [
              "Text(0.5, 1.0, 'Explanation Image')"
            ]
          },
          "metadata": {
            "tags": []
          },
          "execution_count": 200
        },
        {
          "output_type": "display_data",
          "data": {
            "image/png": "[encoded data removed]",
            "text/plain": [
              "<Figure size 576x396 with 2 Axes>"
            ]
          },
          "metadata": {
            "tags": []
          }
        }
      ]
    },
    {
      "metadata": {
        "id": "QY7YLRbtLb2X",
        "colab_type": "code",
        "colab": {}
      },
      "cell_type": "code",
      "source": [
        "def noisy(image):\n",
        "  noises = [\"s&p\",\"poisson\"]\n",
        "  \n",
        "  idx = random.randint(0,1)\n",
        "  noise_typ = noises[idx]\n",
        "  \n",
        "  print(noise_typ)\n",
        "\n",
        "  if noise_typ == \"s&p\":\n",
        "      row,col,ch = image.shape\n",
        "      s_vs_p = 0.5\n",
        "      amount = 0.01\n",
        "      out = np.copy(image)\n",
        "      # Salt mode\n",
        "      num_salt = np.ceil(amount * image.size * s_vs_p)\n",
        "      coords = [np.random.randint(0, i - 1, int(num_salt))\n",
        "              for i in image.shape]\n",
        "      out[coords] = 1\n",
        "\n",
        "      # Pepper mode\n",
        "      num_pepper = np.ceil(amount* image.size * (1. - s_vs_p))\n",
        "      coords = [np.random.randint(0, i - 1, int(num_pepper))\n",
        "              for i in image.shape]\n",
        "      out[coords] = 0\n",
        "      return out\n",
        "  \n",
        "  elif noise_typ == \"poisson\":\n",
        "      vals = len(np.unique(image))\n",
        "      vals = 2 ** np.ceil(np.log2(vals))\n",
        "      noisy = np.random.poisson(image * vals) / float(vals)\n",
        "      return noisy"
      ],
      "execution_count": 0,
      "outputs": []
    },
    {
      "metadata": {
        "id": "LL5EPTd9LecF",
        "colab_type": "code",
        "colab": {}
      },
      "cell_type": "code",
      "source": [
        "from skimage.measure import structural_similarity as ssim"
      ],
      "execution_count": 0,
      "outputs": []
    },
    {
      "metadata": {
        "id": "oPXbrVYQLiJg",
        "colab_type": "code",
        "colab": {}
      },
      "cell_type": "code",
      "source": [
        "def mse(imageA, imageB):\n",
        "\t# the 'Mean Squared Error' between the two images is the\n",
        "\t# sum of the squared difference between the two images;\n",
        "\t# NOTE: the two images must have the same dimension\n",
        "\terr = np.sum((imageA.astype(\"float\") - imageB.astype(\"float\")) ** 2)\n",
        "\terr /= float(imageA.shape[0] * imageA.shape[1])\n",
        "\t\n",
        "\t# return the MSE, the lower the error, the more \"similar\"\n",
        "\t# the two images are\n",
        "\treturn err"
      ],
      "execution_count": 0,
      "outputs": []
    },
    {
      "metadata": {
        "id": "vScr_ntzLk6m",
        "colab_type": "code",
        "colab": {}
      },
      "cell_type": "code",
      "source": [
        "def compare_images(imageA, imageB, title):\n",
        "  # compute the mean squared error and structural similarity\n",
        "  # index for the images\n",
        "  m = mse(imageA, imageB)\n",
        "  s = ssim(imageA, imageB,multichannel=True)\n",
        "\n",
        "  # setup the figure\n",
        "  fig = plt.figure(title)\n",
        "  plt.suptitle(\"MSE: %.2f, SSIM: %.2f\" % (m, s))\n",
        "\n",
        "  # show first image\n",
        "  ax = fig.add_subplot(1, 2, 1)\n",
        "  plt.imshow(imageA, cmap = plt.cm.gray)\n",
        "  plt.axis(\"off\")\n",
        "\n",
        "  # show the second image\n",
        "  ax = fig.add_subplot(1, 2, 2)\n",
        "  plt.imshow(imageB, cmap = plt.cm.gray)\n",
        "  plt.axis(\"off\")\n",
        "\n",
        "  # show the images\n",
        "  plt.show() \n",
        "  return m,s"
      ],
      "execution_count": 0,
      "outputs": []
    },
    {
      "metadata": {
        "id": "y4wDntMSLmsy",
        "colab_type": "code",
        "colab": {}
      },
      "cell_type": "code",
      "source": [
        "stabilities = []"
      ],
      "execution_count": 0,
      "outputs": []
    },
    {
      "metadata": {
        "id": "0Y0sqYh0Lpyl",
        "colab_type": "code",
        "colab": {}
      },
      "cell_type": "code",
      "source": [
        "for i in range(100):\n",
        "  try:\n",
        "    original_image_explanation = return_explanation_image(x_test[i])\n",
        "\n",
        "    noisy_input = noisy(x_test[i])\n",
        "\n",
        "    noisy_image_explanation = return_explanation_image(noisy_input)\n",
        "\n",
        "    m1,s1 = compare_images(x_test[i],noisy_input,\"Original Images\")\n",
        "    m2,s2 = compare_images(original_image_explanation,noisy_image_explanation,\"Explanations\")\n",
        "\n",
        "    stability = s2/s1\n",
        "\n",
        "    stabilities.append(stability)\n",
        "  except ValueError:\n",
        "    print(\"Done for \",i,'/',100)\n",
        "    continue"
      ],
      "execution_count": 0,
      "outputs": []
    },
    {
      "metadata": {
        "id": "0TGb6H-ZMQW5",
        "colab_type": "code",
        "colab": {}
      },
      "cell_type": "code",
      "source": [
        "mean_stab = sum(stabilities)/len(stabilities)"
      ],
      "execution_count": 0,
      "outputs": []
    },
    {
      "metadata": {
        "id": "ZcDVCSpgNpRY",
        "colab_type": "code",
        "colab": {
          "base_uri": "https://localhost:8080/",
          "height": 34
        },
        "outputId": "1759e7e0-9c52-4283-df94-98a1cd46c9b4"
      },
      "cell_type": "code",
      "source": [
        "mean_stab"
      ],
      "execution_count": 184,
      "outputs": [
        {
          "output_type": "execute_result",
          "data": {
            "text/plain": [
              "0.33760447311946495"
            ]
          },
          "metadata": {
            "tags": []
          },
          "execution_count": 184
        }
      ]
    }
  ]
}