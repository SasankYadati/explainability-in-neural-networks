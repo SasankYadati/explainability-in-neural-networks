{
 "cells": [
  {
   "cell_type": "code",
   "execution_count": 1,
   "metadata": {
    "colab": {
     "base_uri": "https://localhost:8080/",
     "height": 34
    },
    "colab_type": "code",
    "id": "ghusoD2aTE85",
    "outputId": "2d2eb0de-981d-4043-c053-02986653f8ca"
   },
   "outputs": [
    {
     "name": "stderr",
     "output_type": "stream",
     "text": [
      "Using TensorFlow backend.\n"
     ]
    }
   ],
   "source": [
    "import keras"
   ]
  },
  {
   "cell_type": "code",
   "execution_count": 2,
   "metadata": {
    "colab": {},
    "colab_type": "code",
    "id": "V-HoQ1x9a0YV"
   },
   "outputs": [],
   "source": [
    "#Using Keras and building a CNN Model and then getting explanations using SHAP"
   ]
  },
  {
   "cell_type": "code",
   "execution_count": 3,
   "metadata": {
    "colab": {},
    "colab_type": "code",
    "id": "WF3VyPRPXV2H"
   },
   "outputs": [],
   "source": [
    "import numpy as np"
   ]
  },
  {
   "cell_type": "code",
   "execution_count": 4,
   "metadata": {
    "colab": {},
    "colab_type": "code",
    "id": "K_4zU497TMeA"
   },
   "outputs": [],
   "source": [
    "from keras.datasets import mnist\n",
    "\n",
    "(train_x, train_y), (test_x, test_y) = mnist.load_data()"
   ]
  },
  {
   "cell_type": "code",
   "execution_count": 5,
   "metadata": {
    "colab": {},
    "colab_type": "code",
    "id": "HBDLNzxNTPOR"
   },
   "outputs": [],
   "source": [
    "image = (train_x[0].reshape(28,28))"
   ]
  },
  {
   "cell_type": "code",
   "execution_count": 6,
   "metadata": {
    "colab": {},
    "colab_type": "code",
    "id": "on5NRdl5Tecn"
   },
   "outputs": [],
   "source": [
    "import matplotlib.pyplot as plt"
   ]
  },
  {
   "cell_type": "code",
   "execution_count": 7,
   "metadata": {
    "colab": {
     "base_uri": "https://localhost:8080/",
     "height": 364
    },
    "colab_type": "code",
    "id": "ed6LXbw-Tf8U",
    "outputId": "16c4495a-fd66-48f4-8200-6dfbc82c0f0e"
   },
   "outputs": [
    {
     "data": {
      "text/plain": [
       "<matplotlib.image.AxesImage at 0x2581aa21dd8>"
      ]
     },
     "execution_count": 7,
     "metadata": {},
     "output_type": "execute_result"
    },
    {
     "data": {
      "image/png": "[encoded data removed]",
      "text/plain": [
       "<Figure size 432x288 with 1 Axes>"
      ]
     },
     "metadata": {
      "needs_background": "light"
     },
     "output_type": "display_data"
    }
   ],
   "source": [
    "plt.imshow(image)"
   ]
  },
  {
   "cell_type": "code",
   "execution_count": 8,
   "metadata": {
    "colab": {
     "base_uri": "https://localhost:8080/",
     "height": 34
    },
    "colab_type": "code",
    "id": "zVDZ1nQoThvO",
    "outputId": "61e6c124-fd80-4350-c769-3e3b43a36eba"
   },
   "outputs": [
    {
     "data": {
      "text/plain": [
       "(60000, 28, 28)"
      ]
     },
     "execution_count": 8,
     "metadata": {},
     "output_type": "execute_result"
    }
   ],
   "source": [
    "train_x.shape"
   ]
  },
  {
   "cell_type": "code",
   "execution_count": 9,
   "metadata": {
    "colab": {},
    "colab_type": "code",
    "id": "RAnt2X6GTxne"
   },
   "outputs": [],
   "source": [
    "train_x = train_x.astype('float32')"
   ]
  },
  {
   "cell_type": "code",
   "execution_count": 10,
   "metadata": {
    "colab": {},
    "colab_type": "code",
    "id": "01a05fSZT5Ao"
   },
   "outputs": [],
   "source": [
    "train_x/=255"
   ]
  },
  {
   "cell_type": "code",
   "execution_count": 11,
   "metadata": {
    "colab": {},
    "colab_type": "code",
    "id": "I4jF8E2xT9T0"
   },
   "outputs": [],
   "source": [
    "image = (train_x[0].reshape(28,28))"
   ]
  },
  {
   "cell_type": "code",
   "execution_count": 12,
   "metadata": {
    "colab": {
     "base_uri": "https://localhost:8080/",
     "height": 364
    },
    "colab_type": "code",
    "id": "1MB6UZPLT_OI",
    "outputId": "ea31418a-9502-403f-858f-76e507c40ca5"
   },
   "outputs": [
    {
     "data": {
      "text/plain": [
       "<matplotlib.image.AxesImage at 0x25814e7d208>"
      ]
     },
     "execution_count": 12,
     "metadata": {},
     "output_type": "execute_result"
    },
    {
     "data": {
      "image/png": "[encoded data removed]",
      "text/plain": [
       "<Figure size 432x288 with 1 Axes>"
      ]
     },
     "metadata": {
      "needs_background": "light"
     },
     "output_type": "display_data"
    }
   ],
   "source": [
    "plt.imshow(image)"
   ]
  },
  {
   "cell_type": "code",
   "execution_count": 13,
   "metadata": {
    "colab": {},
    "colab_type": "code",
    "id": "AQLN6HYIUA09"
   },
   "outputs": [],
   "source": [
    "test_x = test_x.astype('float32')"
   ]
  },
  {
   "cell_type": "code",
   "execution_count": 14,
   "metadata": {
    "colab": {},
    "colab_type": "code",
    "id": "BCWARkX3UE6i"
   },
   "outputs": [],
   "source": [
    "test_x/=255"
   ]
  },
  {
   "cell_type": "code",
   "execution_count": 15,
   "metadata": {
    "colab": {},
    "colab_type": "code",
    "id": "1OaVer6tUQgh"
   },
   "outputs": [],
   "source": [
    "from keras.utils import to_categorical"
   ]
  },
  {
   "cell_type": "code",
   "execution_count": 16,
   "metadata": {
    "colab": {},
    "colab_type": "code",
    "id": "i8FW0P67Uif2"
   },
   "outputs": [],
   "source": [
    "train_y = to_categorical(train_y)"
   ]
  },
  {
   "cell_type": "code",
   "execution_count": 17,
   "metadata": {
    "colab": {},
    "colab_type": "code",
    "id": "tG0wF9NeUlTy"
   },
   "outputs": [],
   "source": [
    "test_y = to_categorical(test_y)"
   ]
  },
  {
   "cell_type": "code",
   "execution_count": 18,
   "metadata": {
    "colab": {},
    "colab_type": "code",
    "id": "s2XhRF28Unf2"
   },
   "outputs": [],
   "source": [
    "#CNN Model"
   ]
  },
  {
   "cell_type": "code",
   "execution_count": 19,
   "metadata": {
    "colab": {},
    "colab_type": "code",
    "id": "mFGyMOaTUvFT"
   },
   "outputs": [],
   "source": [
    "#Let our model have three Convolutional Layers\n",
    "\n",
    "#The first layer will have 16 3X3 filters.\n",
    "#The second layer will have 32 3X3 filters.\n",
    "#The third layer will have 64 3X3 filters.\n",
    "\n",
    "#Each layer will have a corresponding bias term as well.\n",
    "\n",
    "#At the end of each layer we will have a max pooling layer performing the pooling operation\n",
    "#The pool will be done by a 2X2 filter.\n",
    "\n",
    "#We will then flatten the output from the last convolution layer to feed it as the input to the fully connected layer."
   ]
  },
  {
   "cell_type": "code",
   "execution_count": 20,
   "metadata": {
    "colab": {},
    "colab_type": "code",
    "id": "Mv10XXjEU0M7"
   },
   "outputs": [],
   "source": [
    "from keras.models import Sequential"
   ]
  },
  {
   "cell_type": "code",
   "execution_count": 21,
   "metadata": {
    "colab": {},
    "colab_type": "code",
    "id": "N0mPJU6TVKFF"
   },
   "outputs": [],
   "source": [
    "from keras.layers import Conv2D\n",
    "from keras.layers import MaxPooling2D\n",
    "from keras.layers import Dense, Dropout, Flatten"
   ]
  },
  {
   "cell_type": "code",
   "execution_count": 22,
   "metadata": {
    "colab": {},
    "colab_type": "code",
    "id": "jE3uGVDkVwXl"
   },
   "outputs": [],
   "source": [
    "input_shape = train_x[0].shape"
   ]
  },
  {
   "cell_type": "code",
   "execution_count": 23,
   "metadata": {
    "colab": {
     "base_uri": "https://localhost:8080/",
     "height": 34
    },
    "colab_type": "code",
    "id": "DIIhQ_w2V1O0",
    "outputId": "04075a08-b7a3-4d06-f98b-d17b92dd040a"
   },
   "outputs": [
    {
     "data": {
      "text/plain": [
       "(28, 28)"
      ]
     },
     "execution_count": 23,
     "metadata": {},
     "output_type": "execute_result"
    }
   ],
   "source": [
    "input_shape"
   ]
  },
  {
   "cell_type": "code",
   "execution_count": 24,
   "metadata": {
    "colab": {},
    "colab_type": "code",
    "id": "NuBeuaysU9qV"
   },
   "outputs": [],
   "source": [
    "batch_size = 128\n",
    "num_classes = 10\n",
    "number_of_epochs = 20"
   ]
  },
  {
   "cell_type": "code",
   "execution_count": 25,
   "metadata": {
    "colab": {},
    "colab_type": "code",
    "id": "GFWgVfkeU4rN"
   },
   "outputs": [],
   "source": [
    "model = Sequential()"
   ]
  },
  {
   "cell_type": "code",
   "execution_count": 26,
   "metadata": {
    "colab": {},
    "colab_type": "code",
    "id": "1M7Nd4CpU6wk"
   },
   "outputs": [
    {
     "name": "stdout",
     "output_type": "stream",
     "text": [
      "WARNING:tensorflow:From c:\\users\\sai sasank y\\appdata\\local\\programs\\python\\python36\\lib\\site-packages\\tensorflow\\python\\framework\\op_def_library.py:263: colocate_with (from tensorflow.python.framework.ops) is deprecated and will be removed in a future version.\n",
      "Instructions for updating:\n",
      "Colocations handled automatically by placer.\n"
     ]
    }
   ],
   "source": [
    "model.add(Conv2D(16,kernel_size = (3,3),activation = 'relu', input_shape = (28,28,1)))"
   ]
  },
  {
   "cell_type": "code",
   "execution_count": 27,
   "metadata": {
    "colab": {},
    "colab_type": "code",
    "id": "U_xgNzdSV4GR"
   },
   "outputs": [],
   "source": [
    "model.add(MaxPooling2D(pool_size=(2, 2)))"
   ]
  },
  {
   "cell_type": "code",
   "execution_count": 28,
   "metadata": {
    "colab": {},
    "colab_type": "code",
    "id": "LixVfdaJWLS7"
   },
   "outputs": [],
   "source": [
    "model.add(Conv2D(32,kernel_size = (3,3),activation = 'relu'))"
   ]
  },
  {
   "cell_type": "code",
   "execution_count": 29,
   "metadata": {
    "colab": {},
    "colab_type": "code",
    "id": "1oC7-SDGWW3r"
   },
   "outputs": [],
   "source": [
    "model.add(MaxPooling2D(pool_size=(2, 2)))"
   ]
  },
  {
   "cell_type": "code",
   "execution_count": 30,
   "metadata": {
    "colab": {},
    "colab_type": "code",
    "id": "eyL2MtvEWYCV"
   },
   "outputs": [],
   "source": [
    "model.add(Conv2D(64,kernel_size = (3,3),activation = 'relu'))"
   ]
  },
  {
   "cell_type": "code",
   "execution_count": 31,
   "metadata": {
    "colab": {},
    "colab_type": "code",
    "id": "BKGFdoDtWdIb"
   },
   "outputs": [],
   "source": [
    "model.add(MaxPooling2D(pool_size=(2, 2)))"
   ]
  },
  {
   "cell_type": "code",
   "execution_count": 32,
   "metadata": {
    "colab": {},
    "colab_type": "code",
    "id": "VN2B38WqWeNB"
   },
   "outputs": [
    {
     "name": "stdout",
     "output_type": "stream",
     "text": [
      "WARNING:tensorflow:From c:\\users\\sai sasank y\\appdata\\local\\programs\\python\\python36\\lib\\site-packages\\keras\\backend\\tensorflow_backend.py:3445: calling dropout (from tensorflow.python.ops.nn_ops) with keep_prob is deprecated and will be removed in a future version.\n",
      "Instructions for updating:\n",
      "Please use `rate` instead of `keep_prob`. Rate should be set to `rate = 1 - keep_prob`.\n"
     ]
    }
   ],
   "source": [
    "model.add(Dropout(0.25))\n",
    "model.add(Flatten())\n",
    "model.add(Dense(128, activation='relu'))\n",
    "model.add(Dropout(0.5))\n",
    "model.add(Dense(num_classes, activation='softmax'))"
   ]
  },
  {
   "cell_type": "code",
   "execution_count": 33,
   "metadata": {
    "colab": {},
    "colab_type": "code",
    "id": "BTavkt_qWr7W"
   },
   "outputs": [],
   "source": [
    "tb = keras.callbacks.TensorBoard(log_dir='./logs', histogram_freq=0, batch_size=batch_size, write_graph=True, write_grads=False, write_images=False, embeddings_freq=0, embeddings_layer_names=None, embeddings_metadata=None, embeddings_data=None, update_freq='epoch')\n",
    "model.compile(loss=keras.losses.categorical_crossentropy,optimizer=keras.optimizers.Adadelta(),metrics=['accuracy'])"
   ]
  },
  {
   "cell_type": "code",
   "execution_count": 34,
   "metadata": {
    "colab": {},
    "colab_type": "code",
    "id": "wNycO0N4XO0p"
   },
   "outputs": [],
   "source": [
    "train_x = np.reshape(train_x,(-1,28,28,1))"
   ]
  },
  {
   "cell_type": "code",
   "execution_count": 35,
   "metadata": {
    "colab": {},
    "colab_type": "code",
    "id": "d7PguCYYXeaI"
   },
   "outputs": [],
   "source": [
    "test_x = np.reshape(test_x,(-1,28,28,1))"
   ]
  },
  {
   "cell_type": "code",
   "execution_count": 36,
   "metadata": {
    "colab": {
     "base_uri": "https://localhost:8080/",
     "height": 1730
    },
    "colab_type": "code",
    "id": "3Iujv-QeW66a",
    "outputId": "13fe3993-5349-4f30-ea8b-560ae85486b9"
   },
   "outputs": [
    {
     "name": "stdout",
     "output_type": "stream",
     "text": [
      "WARNING:tensorflow:From c:\\users\\sai sasank y\\appdata\\local\\programs\\python\\python36\\lib\\site-packages\\tensorflow\\python\\ops\\math_ops.py:3066: to_int32 (from tensorflow.python.ops.math_ops) is deprecated and will be removed in a future version.\n",
      "Instructions for updating:\n",
      "Use tf.cast instead.\n",
      "Train on 60000 samples, validate on 10000 samples\n",
      "Epoch 1/20\n",
      "60000/60000 [==============================] - 17s 283us/step - loss: 0.5484 - acc: 0.8231 - val_loss: 0.1097 - val_acc: 0.9657\n",
      "Epoch 2/20\n",
      "60000/60000 [==============================] - 17s 285us/step - loss: 0.1625 - acc: 0.9541 - val_loss: 0.0746 - val_acc: 0.9782\n",
      "Epoch 3/20\n",
      "60000/60000 [==============================] - 17s 288us/step - loss: 0.1260 - acc: 0.9651 - val_loss: 0.0697 - val_acc: 0.9800\n",
      "Epoch 4/20\n",
      "60000/60000 [==============================] - 17s 287us/step - loss: 0.1058 - acc: 0.9700 - val_loss: 0.0659 - val_acc: 0.9809\n",
      "Epoch 5/20\n",
      "60000/60000 [==============================] - 18s 292us/step - loss: 0.0961 - acc: 0.9732 - val_loss: 0.0594 - val_acc: 0.9829\n",
      "Epoch 6/20\n",
      "60000/60000 [==============================] - 16s 272us/step - loss: 0.0868 - acc: 0.9763 - val_loss: 0.0558 - val_acc: 0.9842\n",
      "Epoch 7/20\n",
      "60000/60000 [==============================] - 17s 290us/step - loss: 0.0773 - acc: 0.9787 - val_loss: 0.0560 - val_acc: 0.9841\n",
      "Epoch 8/20\n",
      "60000/60000 [==============================] - 18s 294us/step - loss: 0.0718 - acc: 0.9805 - val_loss: 0.0543 - val_acc: 0.9863\n",
      "Epoch 9/20\n",
      "60000/60000 [==============================] - 18s 296us/step - loss: 0.0679 - acc: 0.9814 - val_loss: 0.0571 - val_acc: 0.9835\n",
      "Epoch 10/20\n",
      "60000/60000 [==============================] - 17s 285us/step - loss: 0.0625 - acc: 0.9821 - val_loss: 0.0541 - val_acc: 0.9841\n",
      "Epoch 11/20\n",
      "60000/60000 [==============================] - 17s 283us/step - loss: 0.0596 - acc: 0.9829 - val_loss: 0.0523 - val_acc: 0.9851\n",
      "Epoch 12/20\n",
      "60000/60000 [==============================] - 17s 286us/step - loss: 0.0582 - acc: 0.9839 - val_loss: 0.0491 - val_acc: 0.9871\n",
      "Epoch 13/20\n",
      "60000/60000 [==============================] - 17s 291us/step - loss: 0.0549 - acc: 0.9841 - val_loss: 0.0524 - val_acc: 0.9852\n",
      "Epoch 14/20\n",
      "60000/60000 [==============================] - 17s 284us/step - loss: 0.0532 - acc: 0.9850 - val_loss: 0.0505 - val_acc: 0.9870\n",
      "Epoch 15/20\n",
      "60000/60000 [==============================] - 17s 288us/step - loss: 0.0516 - acc: 0.9859 - val_loss: 0.0526 - val_acc: 0.9857\n",
      "Epoch 16/20\n",
      "60000/60000 [==============================] - 17s 281us/step - loss: 0.0488 - acc: 0.9862 - val_loss: 0.0490 - val_acc: 0.9870\n",
      "Epoch 17/20\n",
      "60000/60000 [==============================] - 17s 289us/step - loss: 0.0461 - acc: 0.9866 - val_loss: 0.0515 - val_acc: 0.9872\n",
      "Epoch 18/20\n",
      "60000/60000 [==============================] - 17s 287us/step - loss: 0.0459 - acc: 0.9876 - val_loss: 0.0504 - val_acc: 0.9885\n",
      "Epoch 19/20\n",
      "60000/60000 [==============================] - 18s 297us/step - loss: 0.0418 - acc: 0.9878 - val_loss: 0.0545 - val_acc: 0.9860\n",
      "Epoch 20/20\n",
      "60000/60000 [==============================] - 17s 286us/step - loss: 0.0433 - acc: 0.9875 - val_loss: 0.0533 - val_acc: 0.9865\n"
     ]
    },
    {
     "data": {
      "text/plain": [
       "<keras.callbacks.History at 0x25816fb9710>"
      ]
     },
     "execution_count": 36,
     "metadata": {},
     "output_type": "execute_result"
    }
   ],
   "source": [
    "model.fit(train_x, train_y,batch_size=batch_size,epochs=number_of_epochs,verbose=1,validation_data=(test_x, test_y), callbacks=[tb])"
   ]
  },
  {
   "cell_type": "code",
   "execution_count": 37,
   "metadata": {
    "colab": {},
    "colab_type": "code",
    "id": "8EiNZgaNXKiO"
   },
   "outputs": [],
   "source": [
    "test_loss, accuracy = model.evaluate(test_x,test_y,verbose = 0)"
   ]
  },
  {
   "cell_type": "code",
   "execution_count": 38,
   "metadata": {
    "colab": {
     "base_uri": "https://localhost:8080/",
     "height": 34
    },
    "colab_type": "code",
    "id": "x9oBf2F6YwPu",
    "outputId": "317855c6-dac2-407a-be72-35e73f959cd8"
   },
   "outputs": [
    {
     "name": "stdout",
     "output_type": "stream",
     "text": [
      "Accuracy is :  0.9865\n"
     ]
    }
   ],
   "source": [
    "print(\"Accuracy is : \",accuracy)"
   ]
  },
  {
   "cell_type": "code",
   "execution_count": 39,
   "metadata": {
    "colab": {},
    "colab_type": "code",
    "id": "ZkhW22FPYy7_"
   },
   "outputs": [],
   "source": [
    "predictions = model.predict(test_x)"
   ]
  },
  {
   "cell_type": "code",
   "execution_count": 40,
   "metadata": {
    "colab": {},
    "colab_type": "code",
    "id": "DbE0smbWZFIn"
   },
   "outputs": [],
   "source": [
    "predictions.shape\n",
    "\n",
    "predicted_values = [np.argmax(i) for i in predictions]\n",
    "\n",
    "actual_values = [np.argmax(i) for i in test_y]"
   ]
  },
  {
   "cell_type": "code",
   "execution_count": 41,
   "metadata": {
    "colab": {},
    "colab_type": "code",
    "id": "e3yy6BHfZG5A"
   },
   "outputs": [],
   "source": [
    "from sklearn.metrics import f1_score"
   ]
  },
  {
   "cell_type": "code",
   "execution_count": 42,
   "metadata": {
    "colab": {
     "base_uri": "https://localhost:8080/",
     "height": 34
    },
    "colab_type": "code",
    "id": "eR3ZtBi8ZJR6",
    "outputId": "aca279dd-1293-4a2b-90be-7ef24c25abb6"
   },
   "outputs": [
    {
     "name": "stdout",
     "output_type": "stream",
     "text": [
      "F1 Score is :  0.9865047596843671\n"
     ]
    }
   ],
   "source": [
    "f1score = f1_score(actual_values,predicted_values,average='weighted')\n",
    "\n",
    "print(\"F1 Score is : \",f1score)"
   ]
  },
  {
   "cell_type": "code",
   "execution_count": 43,
   "metadata": {
    "colab": {},
    "colab_type": "code",
    "id": "KAcrX0IFZNvy"
   },
   "outputs": [],
   "source": [
    "from sklearn.metrics import recall_score"
   ]
  },
  {
   "cell_type": "code",
   "execution_count": 44,
   "metadata": {
    "colab": {
     "base_uri": "https://localhost:8080/",
     "height": 34
    },
    "colab_type": "code",
    "id": "v6MgCj_taA_N",
    "outputId": "1aac3b70-ac01-4999-f29a-6d78e665fde0"
   },
   "outputs": [
    {
     "name": "stdout",
     "output_type": "stream",
     "text": [
      "Recall Score is :  0.9865\n"
     ]
    }
   ],
   "source": [
    "recall = recall_score(actual_values,predicted_values,average = 'weighted')\n",
    "\n",
    "print(\"Recall Score is : \",recall)"
   ]
  },
  {
   "cell_type": "code",
   "execution_count": 45,
   "metadata": {
    "colab": {},
    "colab_type": "code",
    "id": "2XB-ilTZaCQX"
   },
   "outputs": [],
   "source": [
    "from sklearn.metrics import precision_score"
   ]
  },
  {
   "cell_type": "code",
   "execution_count": 46,
   "metadata": {
    "colab": {
     "base_uri": "https://localhost:8080/",
     "height": 34
    },
    "colab_type": "code",
    "id": "dBmvOmcjaDwd",
    "outputId": "78aae01c-4103-4276-9eea-cc1baa6ff2fd"
   },
   "outputs": [
    {
     "name": "stdout",
     "output_type": "stream",
     "text": [
      "Precision Score is :  0.9865602903334179\n"
     ]
    }
   ],
   "source": [
    "precision = precision_score(actual_values,predicted_values,average = 'weighted')\n",
    "\n",
    "print(\"Precision Score is : \",precision)"
   ]
  },
  {
   "cell_type": "code",
   "execution_count": 47,
   "metadata": {
    "colab": {},
    "colab_type": "code",
    "id": "Voob7ayZaFGi"
   },
   "outputs": [],
   "source": [
    "#Explanation using SHAP"
   ]
  },
  {
   "cell_type": "code",
   "execution_count": 48,
   "metadata": {
    "colab": {
     "base_uri": "https://localhost:8080/",
     "height": 457
    },
    "colab_type": "code",
    "id": "_gquaHNqaHfM",
    "outputId": "ffca8a0e-8717-4ac0-a9fd-58ac2ced4e1d"
   },
   "outputs": [
    {
     "name": "stdout",
     "output_type": "stream",
     "text": [
      "Requirement already satisfied: shap in c:\\users\\sai sasank y\\appdata\\local\\programs\\python\\python36\\lib\\site-packages (0.28.3)\n",
      "Requirement already satisfied: tqdm in c:\\users\\sai sasank y\\appdata\\local\\programs\\python\\python36\\lib\\site-packages (from shap) (4.30.0)\n",
      "Requirement already satisfied: scipy in c:\\users\\sai sasank y\\appdata\\local\\programs\\python\\python36\\lib\\site-packages (from shap) (1.1.0)\n",
      "Requirement already satisfied: numpy in c:\\users\\sai sasank y\\appdata\\local\\programs\\python\\python36\\lib\\site-packages (from shap) (1.16.2)\n",
      "Requirement already satisfied: ipython in c:\\users\\sai sasank y\\appdata\\local\\programs\\python\\python36\\lib\\site-packages (from shap) (7.2.0)\n",
      "Requirement already satisfied: matplotlib in c:\\users\\sai sasank y\\appdata\\local\\programs\\python\\python36\\lib\\site-packages (from shap) (3.0.2)\n",
      "Requirement already satisfied: pandas in c:\\users\\sai sasank y\\appdata\\local\\programs\\python\\python36\\lib\\site-packages (from shap) (0.23.4)\n",
      "Requirement already satisfied: scikit-image in c:\\users\\sai sasank y\\appdata\\local\\programs\\python\\python36\\lib\\site-packages (from shap) (0.14.1)\n",
      "Requirement already satisfied: scikit-learn in c:\\users\\sai sasank y\\appdata\\local\\programs\\python\\python36\\lib\\site-packages (from shap) (0.20.2)\n",
      "Requirement already satisfied: backcall in c:\\users\\sai sasank y\\appdata\\local\\programs\\python\\python36\\lib\\site-packages (from ipython->shap) (0.1.0)\n",
      "Requirement already satisfied: jedi>=0.10 in c:\\users\\sai sasank y\\appdata\\local\\programs\\python\\python36\\lib\\site-packages (from ipython->shap) (0.13.2)\n",
      "Requirement already satisfied: traitlets>=4.2 in c:\\users\\sai sasank y\\appdata\\local\\programs\\python\\python36\\lib\\site-packages (from ipython->shap) (4.3.2)\n",
      "Requirement already satisfied: setuptools>=18.5 in c:\\users\\sai sasank y\\appdata\\local\\programs\\python\\python36\\lib\\site-packages (from ipython->shap) (41.0.0)\n",
      "Requirement already satisfied: pickleshare in c:\\users\\sai sasank y\\appdata\\local\\programs\\python\\python36\\lib\\site-packages (from ipython->shap) (0.7.5)\n",
      "Requirement already satisfied: prompt-toolkit<2.1.0,>=2.0.0 in c:\\users\\sai sasank y\\appdata\\local\\programs\\python\\python36\\lib\\site-packages (from ipython->shap) (2.0.7)\n",
      "Requirement already satisfied: colorama; sys_platform == \"win32\" in c:\\users\\sai sasank y\\appdata\\roaming\\python\\python36\\site-packages (from ipython->shap) (0.4.1)\n",
      "Requirement already satisfied: pygments in c:\\users\\sai sasank y\\appdata\\local\\programs\\python\\python36\\lib\\site-packages (from ipython->shap) (2.3.1)\n",
      "Requirement already satisfied: decorator in c:\\users\\sai sasank y\\appdata\\local\\programs\\python\\python36\\lib\\site-packages (from ipython->shap) (4.3.0)\n",
      "Requirement already satisfied: kiwisolver>=1.0.1 in c:\\users\\sai sasank y\\appdata\\local\\programs\\python\\python36\\lib\\site-packages (from matplotlib->shap) (1.0.1)\n",
      "Requirement already satisfied: python-dateutil>=2.1 in c:\\users\\sai sasank y\\appdata\\local\\programs\\python\\python36\\lib\\site-packages (from matplotlib->shap) (2.7.5)\n",
      "Requirement already satisfied: pyparsing!=2.0.4,!=2.1.2,!=2.1.6,>=2.0.1 in c:\\users\\sai sasank y\\appdata\\local\\programs\\python\\python36\\lib\\site-packages (from matplotlib->shap) (2.3.1)\n",
      "Requirement already satisfied: cycler>=0.10 in c:\\users\\sai sasank y\\appdata\\local\\programs\\python\\python36\\lib\\site-packages (from matplotlib->shap) (0.10.0)\n",
      "Requirement already satisfied: pytz>=2011k in c:\\users\\sai sasank y\\appdata\\local\\programs\\python\\python36\\lib\\site-packages (from pandas->shap) (2018.7)\n",
      "Requirement already satisfied: six>=1.10.0 in c:\\users\\sai sasank y\\appdata\\local\\programs\\python\\python36\\lib\\site-packages (from scikit-image->shap) (1.12.0)\n",
      "Requirement already satisfied: networkx>=1.8 in c:\\users\\sai sasank y\\appdata\\local\\programs\\python\\python36\\lib\\site-packages (from scikit-image->shap) (2.2)\n",
      "Requirement already satisfied: dask[array]>=0.9.0 in c:\\users\\sai sasank y\\appdata\\local\\programs\\python\\python36\\lib\\site-packages (from scikit-image->shap) (1.0.0)\n",
      "Requirement already satisfied: cloudpickle>=0.2.1 in c:\\users\\sai sasank y\\appdata\\local\\programs\\python\\python36\\lib\\site-packages (from scikit-image->shap) (0.6.1)\n",
      "Requirement already satisfied: pillow>=4.3.0 in c:\\users\\sai sasank y\\appdata\\local\\programs\\python\\python36\\lib\\site-packages (from scikit-image->shap) (5.4.1)\n",
      "Requirement already satisfied: PyWavelets>=0.4.0 in c:\\users\\sai sasank y\\appdata\\local\\programs\\python\\python36\\lib\\site-packages (from scikit-image->shap) (1.0.1)\n",
      "Requirement already satisfied: parso>=0.3.0 in c:\\users\\sai sasank y\\appdata\\local\\programs\\python\\python36\\lib\\site-packages (from jedi>=0.10->ipython->shap) (0.3.1)\n",
      "Requirement already satisfied: ipython-genutils in c:\\users\\sai sasank y\\appdata\\local\\programs\\python\\python36\\lib\\site-packages (from traitlets>=4.2->ipython->shap) (0.2.0)\n",
      "Requirement already satisfied: wcwidth in c:\\users\\sai sasank y\\appdata\\local\\programs\\python\\python36\\lib\\site-packages (from prompt-toolkit<2.1.0,>=2.0.0->ipython->shap) (0.1.7)\n",
      "Requirement already satisfied: toolz>=0.7.3; extra == \"array\" in c:\\users\\sai sasank y\\appdata\\local\\programs\\python\\python36\\lib\\site-packages (from dask[array]>=0.9.0->scikit-image->shap) (0.9.0)\n"
     ]
    }
   ],
   "source": [
    "!pip install shap"
   ]
  },
  {
   "cell_type": "code",
   "execution_count": 49,
   "metadata": {
    "colab": {},
    "colab_type": "code",
    "id": "1PmqnVFuaV-8"
   },
   "outputs": [
    {
     "ename": "ImportError",
     "evalue": "cannot import name '_validate_lengths'",
     "output_type": "error",
     "traceback": [
      "\u001b[1;31m---------------------------------------------------------------------------\u001b[0m",
      "\u001b[1;31mImportError\u001b[0m                               Traceback (most recent call last)",
      "\u001b[1;32m<ipython-input-49-efbb001a1501>\u001b[0m in \u001b[0;36m<module>\u001b[1;34m\u001b[0m\n\u001b[1;32m----> 1\u001b[1;33m \u001b[1;32mimport\u001b[0m \u001b[0mshap\u001b[0m\u001b[1;33m\u001b[0m\u001b[0m\n\u001b[0m",
      "\u001b[1;32mc:\\users\\sai sasank y\\appdata\\local\\programs\\python\\python36\\lib\\site-packages\\shap\\__init__.py\u001b[0m in \u001b[0;36m<module>\u001b[1;34m\u001b[0m\n\u001b[0;32m      9\u001b[0m \u001b[1;32mfrom\u001b[0m \u001b[1;33m.\u001b[0m\u001b[0mexplainers\u001b[0m\u001b[1;33m.\u001b[0m\u001b[0mgradient\u001b[0m \u001b[1;32mimport\u001b[0m \u001b[0mGradientExplainer\u001b[0m\u001b[1;33m\u001b[0m\u001b[0m\n\u001b[0;32m     10\u001b[0m \u001b[1;32mfrom\u001b[0m \u001b[1;33m.\u001b[0m\u001b[0mexplainers\u001b[0m\u001b[1;33m.\u001b[0m\u001b[0mlinear\u001b[0m \u001b[1;32mimport\u001b[0m \u001b[0mLinearExplainer\u001b[0m\u001b[1;33m\u001b[0m\u001b[0m\n\u001b[1;32m---> 11\u001b[1;33m \u001b[1;32mfrom\u001b[0m \u001b[1;33m.\u001b[0m\u001b[0mplots\u001b[0m\u001b[1;33m.\u001b[0m\u001b[0msummary\u001b[0m \u001b[1;32mimport\u001b[0m \u001b[0msummary_plot\u001b[0m\u001b[1;33m\u001b[0m\u001b[0m\n\u001b[0m\u001b[0;32m     12\u001b[0m \u001b[1;32mfrom\u001b[0m \u001b[1;33m.\u001b[0m\u001b[0mplots\u001b[0m\u001b[1;33m.\u001b[0m\u001b[0mdependence\u001b[0m \u001b[1;32mimport\u001b[0m \u001b[0mdependence_plot\u001b[0m\u001b[1;33m\u001b[0m\u001b[0m\n\u001b[0;32m     13\u001b[0m \u001b[1;32mfrom\u001b[0m \u001b[1;33m.\u001b[0m\u001b[0mplots\u001b[0m\u001b[1;33m.\u001b[0m\u001b[0mforce\u001b[0m \u001b[1;32mimport\u001b[0m \u001b[0mforce_plot\u001b[0m\u001b[1;33m,\u001b[0m \u001b[0minitjs\u001b[0m\u001b[1;33m\u001b[0m\u001b[0m\n",
      "\u001b[1;32mc:\\users\\sai sasank y\\appdata\\local\\programs\\python\\python36\\lib\\site-packages\\shap\\plots\\summary.py\u001b[0m in \u001b[0;36m<module>\u001b[1;34m\u001b[0m\n\u001b[0;32m     13\u001b[0m     \u001b[1;32mpass\u001b[0m\u001b[1;33m\u001b[0m\u001b[0m\n\u001b[0;32m     14\u001b[0m \u001b[1;32mfrom\u001b[0m \u001b[1;33m.\u001b[0m \u001b[1;32mimport\u001b[0m \u001b[0mlabels\u001b[0m\u001b[1;33m\u001b[0m\u001b[0m\n\u001b[1;32m---> 15\u001b[1;33m \u001b[1;32mfrom\u001b[0m \u001b[1;33m.\u001b[0m \u001b[1;32mimport\u001b[0m \u001b[0mcolors\u001b[0m\u001b[1;33m\u001b[0m\u001b[0m\n\u001b[0m\u001b[0;32m     16\u001b[0m \u001b[1;33m\u001b[0m\u001b[0m\n\u001b[0;32m     17\u001b[0m \u001b[1;31m# TODO: remove unused title argument / use title argument\u001b[0m\u001b[1;33m\u001b[0m\u001b[1;33m\u001b[0m\u001b[0m\n",
      "\u001b[1;32mc:\\users\\sai sasank y\\appdata\\local\\programs\\python\\python36\\lib\\site-packages\\shap\\plots\\colors.py\u001b[0m in \u001b[0;36m<module>\u001b[1;34m\u001b[0m\n\u001b[0;32m      5\u001b[0m \u001b[1;33m\u001b[0m\u001b[0m\n\u001b[0;32m      6\u001b[0m \u001b[1;32mimport\u001b[0m \u001b[0mnumpy\u001b[0m \u001b[1;32mas\u001b[0m \u001b[0mnp\u001b[0m\u001b[1;33m\u001b[0m\u001b[0m\n\u001b[1;32m----> 7\u001b[1;33m \u001b[1;32mimport\u001b[0m \u001b[0mskimage\u001b[0m\u001b[1;33m.\u001b[0m\u001b[0mcolor\u001b[0m\u001b[1;33m\u001b[0m\u001b[0m\n\u001b[0m\u001b[0;32m      8\u001b[0m \u001b[1;33m\u001b[0m\u001b[0m\n\u001b[0;32m      9\u001b[0m \u001b[1;32mtry\u001b[0m\u001b[1;33m:\u001b[0m\u001b[1;33m\u001b[0m\u001b[0m\n",
      "\u001b[1;32mc:\\users\\sai sasank y\\appdata\\local\\programs\\python\\python36\\lib\\site-packages\\skimage\\__init__.py\u001b[0m in \u001b[0;36m<module>\u001b[1;34m\u001b[0m\n\u001b[0;32m    165\u001b[0m         \u001b[0m_raise_build_error\u001b[0m\u001b[1;33m(\u001b[0m\u001b[0me\u001b[0m\u001b[1;33m)\u001b[0m\u001b[1;33m\u001b[0m\u001b[0m\n\u001b[0;32m    166\u001b[0m     \u001b[1;31m# All skimage root imports go here\u001b[0m\u001b[1;33m\u001b[0m\u001b[1;33m\u001b[0m\u001b[0m\n\u001b[1;32m--> 167\u001b[1;33m     from .util.dtype import (img_as_float32,\n\u001b[0m\u001b[0;32m    168\u001b[0m                              \u001b[0mimg_as_float64\u001b[0m\u001b[1;33m,\u001b[0m\u001b[1;33m\u001b[0m\u001b[0m\n\u001b[0;32m    169\u001b[0m                              \u001b[0mimg_as_float\u001b[0m\u001b[1;33m,\u001b[0m\u001b[1;33m\u001b[0m\u001b[0m\n",
      "\u001b[1;32mc:\\users\\sai sasank y\\appdata\\local\\programs\\python\\python36\\lib\\site-packages\\skimage\\util\\__init__.py\u001b[0m in \u001b[0;36m<module>\u001b[1;34m\u001b[0m\n\u001b[0;32m      6\u001b[0m \u001b[1;32mfrom\u001b[0m \u001b[1;33m.\u001b[0m\u001b[0mapply_parallel\u001b[0m \u001b[1;32mimport\u001b[0m \u001b[0mapply_parallel\u001b[0m\u001b[1;33m\u001b[0m\u001b[0m\n\u001b[0;32m      7\u001b[0m \u001b[1;33m\u001b[0m\u001b[0m\n\u001b[1;32m----> 8\u001b[1;33m \u001b[1;32mfrom\u001b[0m \u001b[1;33m.\u001b[0m\u001b[0marraycrop\u001b[0m \u001b[1;32mimport\u001b[0m \u001b[0mcrop\u001b[0m\u001b[1;33m\u001b[0m\u001b[0m\n\u001b[0m\u001b[0;32m      9\u001b[0m \u001b[1;32mfrom\u001b[0m \u001b[1;33m.\u001b[0m\u001b[0m_regular_grid\u001b[0m \u001b[1;32mimport\u001b[0m \u001b[0mregular_grid\u001b[0m\u001b[1;33m,\u001b[0m \u001b[0mregular_seeds\u001b[0m\u001b[1;33m\u001b[0m\u001b[0m\n\u001b[0;32m     10\u001b[0m \u001b[1;32mfrom\u001b[0m \u001b[1;33m.\u001b[0m\u001b[0munique\u001b[0m \u001b[1;32mimport\u001b[0m \u001b[0munique_rows\u001b[0m\u001b[1;33m\u001b[0m\u001b[0m\n",
      "\u001b[1;32mc:\\users\\sai sasank y\\appdata\\local\\programs\\python\\python36\\lib\\site-packages\\skimage\\util\\arraycrop.py\u001b[0m in \u001b[0;36m<module>\u001b[1;34m\u001b[0m\n\u001b[0;32m      6\u001b[0m \u001b[1;33m\u001b[0m\u001b[0m\n\u001b[0;32m      7\u001b[0m \u001b[1;32mimport\u001b[0m \u001b[0mnumpy\u001b[0m \u001b[1;32mas\u001b[0m \u001b[0mnp\u001b[0m\u001b[1;33m\u001b[0m\u001b[0m\n\u001b[1;32m----> 8\u001b[1;33m \u001b[1;32mfrom\u001b[0m \u001b[0mnumpy\u001b[0m\u001b[1;33m.\u001b[0m\u001b[0mlib\u001b[0m\u001b[1;33m.\u001b[0m\u001b[0marraypad\u001b[0m \u001b[1;32mimport\u001b[0m \u001b[0m_validate_lengths\u001b[0m\u001b[1;33m\u001b[0m\u001b[0m\n\u001b[0m\u001b[0;32m      9\u001b[0m \u001b[1;33m\u001b[0m\u001b[0m\n\u001b[0;32m     10\u001b[0m \u001b[1;33m\u001b[0m\u001b[0m\n",
      "\u001b[1;31mImportError\u001b[0m: cannot import name '_validate_lengths'"
     ]
    }
   ],
   "source": [
    "import shap"
   ]
  },
  {
   "cell_type": "code",
   "execution_count": 50,
   "metadata": {
    "colab": {},
    "colab_type": "code",
    "id": "EwTU46oqaI91"
   },
   "outputs": [],
   "source": [
    "background = train_x[np.random.choice(train_x.shape[0], 100, replace=False)]"
   ]
  },
  {
   "cell_type": "code",
   "execution_count": 51,
   "metadata": {
    "colab": {},
    "colab_type": "code",
    "id": "V7_4YDHDaRMk"
   },
   "outputs": [
    {
     "ename": "NameError",
     "evalue": "name 'shap' is not defined",
     "output_type": "error",
     "traceback": [
      "\u001b[1;31m---------------------------------------------------------------------------\u001b[0m",
      "\u001b[1;31mNameError\u001b[0m                                 Traceback (most recent call last)",
      "\u001b[1;32m<ipython-input-51-77ef0bc002f4>\u001b[0m in \u001b[0;36m<module>\u001b[1;34m\u001b[0m\n\u001b[1;32m----> 1\u001b[1;33m \u001b[0mexplainer\u001b[0m \u001b[1;33m=\u001b[0m \u001b[0mshap\u001b[0m\u001b[1;33m.\u001b[0m\u001b[0mDeepExplainer\u001b[0m\u001b[1;33m(\u001b[0m\u001b[0mmodel\u001b[0m\u001b[1;33m,\u001b[0m \u001b[0mbackground\u001b[0m\u001b[1;33m)\u001b[0m\u001b[1;33m\u001b[0m\u001b[0m\n\u001b[0m",
      "\u001b[1;31mNameError\u001b[0m: name 'shap' is not defined"
     ]
    }
   ],
   "source": [
    "explainer = shap.DeepExplainer(model, background)"
   ]
  },
  {
   "cell_type": "code",
   "execution_count": null,
   "metadata": {
    "colab": {},
    "colab_type": "code",
    "id": "ZpjKEGzqaUyh"
   },
   "outputs": [],
   "source": [
    "shap_values = explainer.shap_values(test_x[1:2])"
   ]
  },
  {
   "cell_type": "code",
   "execution_count": null,
   "metadata": {
    "colab": {},
    "colab_type": "code",
    "id": "7zr8fg_XvYxb"
   },
   "outputs": [],
   "source": [
    "labels = [str(i) for i in range(10)]"
   ]
  },
  {
   "cell_type": "code",
   "execution_count": null,
   "metadata": {
    "colab": {
     "base_uri": "https://localhost:8080/",
     "height": 34
    },
    "colab_type": "code",
    "id": "Yaz8JlnivlR0",
    "outputId": "622136f5-bab9-4693-d5ad-2474914726c0"
   },
   "outputs": [],
   "source": [
    "shap_values[0].shape[0]"
   ]
  },
  {
   "cell_type": "code",
   "execution_count": null,
   "metadata": {
    "colab": {
     "base_uri": "https://localhost:8080/",
     "height": 34
    },
    "colab_type": "code",
    "id": "WT9iaKZavsb1",
    "outputId": "af909f77-4476-464f-f815-3f8ba2680d46"
   },
   "outputs": [],
   "source": [
    "np.array(labels).shape"
   ]
  },
  {
   "cell_type": "code",
   "execution_count": null,
   "metadata": {
    "colab": {
     "base_uri": "https://localhost:8080/",
     "height": 54
    },
    "colab_type": "code",
    "id": "qvaUhVbTytGg",
    "outputId": "543d0ec3-0ca1-4838-dd71-13d8543ca074"
   },
   "outputs": [],
   "source": [
    "import skimage.color\n",
    "\n",
    "try:\n",
    "    import matplotlib.pyplot as pl\n",
    "    import matplotlib\n",
    "    from matplotlib.colors import LinearSegmentedColormap\n",
    "\n",
    "    def lch2rgb(x):\n",
    "        return skimage.color.lab2rgb(skimage.color.lch2lab([[x]]))[0][0]\n",
    "\n",
    "    # define our colors using Lch\n",
    "    # note that we intentionally vary the lightness during interpolation so as to better\n",
    "    # enable the eye to see patterns (since patterns are most easily recognized through\n",
    "    # lightness variability)\n",
    "    blue_lch = [54., 70., 4.6588]\n",
    "    l_mid = 40.\n",
    "    red_lch = [54., 90., 0.35470565 + 2* np.pi]\n",
    "    gray_lch = [55., 0., 0.]\n",
    "    blue_rgb = lch2rgb(blue_lch)\n",
    "    red_rgb = lch2rgb(red_lch)\n",
    "    gray_rgb = lch2rgb(gray_lch)\n",
    "\n",
    "    # define a perceptually uniform color scale using the Lch color space\n",
    "    reds = []\n",
    "    greens = []\n",
    "    blues = []\n",
    "    alphas = []\n",
    "    nsteps = 100\n",
    "    l_vals = list(np.linspace(blue_lch[0], l_mid, nsteps/2)) + list(np.linspace(l_mid, red_lch[0], nsteps/2))\n",
    "    c_vals = np.linspace(blue_lch[1], red_lch[1], nsteps)\n",
    "    h_vals = np.linspace(blue_lch[2], red_lch[2], nsteps)\n",
    "    for pos,l,c,h in zip(np.linspace(0, 1, nsteps), l_vals, c_vals, h_vals):\n",
    "        lch = [l, c, h]\n",
    "        rgb = lch2rgb(lch)\n",
    "        reds.append((pos, rgb[0], rgb[0]))\n",
    "        greens.append((pos, rgb[1], rgb[1]))\n",
    "        blues.append((pos, rgb[2], rgb[2]))\n",
    "        alphas.append((pos, 1.0, 1.0))\n",
    "\n",
    "    red_blue = LinearSegmentedColormap('red_blue', {\n",
    "        \"red\": reds,\n",
    "        \"green\": greens,\n",
    "        \"blue\": blues,\n",
    "        \"alpha\": alphas\n",
    "    })\n",
    "    red_blue.set_bad(gray_rgb, 1.0)\n",
    "    red_blue.set_over(gray_rgb, 1.0)\n",
    "    red_blue.set_under(gray_rgb, 1.0) # \"under\" is incorrectly used instead of \"bad\" in the scatter plot\n",
    "\n",
    "    red_blue_no_bounds = LinearSegmentedColormap('red_blue_no_bounds', {\n",
    "        \"red\": reds,\n",
    "        \"green\": greens,\n",
    "        \"blue\": blues,\n",
    "        \"alpha\": alphas\n",
    "    })\n",
    "\n",
    "    # define a circular version of the color scale for categorical coloring\n",
    "    reds = []\n",
    "    greens = []\n",
    "    blues = []\n",
    "    alphas = []\n",
    "    nsteps = 100\n",
    "    c_vals = np.linspace(blue_lch[1], red_lch[1], nsteps)\n",
    "    h_vals = np.linspace(blue_lch[2], red_lch[2], nsteps)\n",
    "    for pos,c,h in zip(np.linspace(0, 0.5, nsteps), c_vals, h_vals):\n",
    "        lch = [blue_lch[0], c, h]\n",
    "        rgb = lch2rgb(lch)\n",
    "        reds.append((pos, rgb[0], rgb[0]))\n",
    "        greens.append((pos, rgb[1], rgb[1]))\n",
    "        blues.append((pos, rgb[2], rgb[2]))\n",
    "        alphas.append((pos, 1.0, 1.0))\n",
    "    c_vals = np.linspace(red_lch[1], blue_lch[1], nsteps)\n",
    "    h_vals = np.linspace(red_lch[2] - 2 * np.pi, blue_lch[2], nsteps)\n",
    "    for pos,c,h in zip(np.linspace(0.5, 1, nsteps), c_vals, h_vals):\n",
    "        lch = [blue_lch[0], c, h]\n",
    "        rgb = lch2rgb(lch)\n",
    "        reds.append((pos, rgb[0], rgb[0]))\n",
    "        greens.append((pos, rgb[1], rgb[1]))\n",
    "        blues.append((pos, rgb[2], rgb[2]))\n",
    "        alphas.append((pos, 1.0, 1.0))\n",
    "\n",
    "    red_blue_circle = LinearSegmentedColormap('red_blue_circle', {\n",
    "        \"red\": reds,\n",
    "        \"green\": greens,\n",
    "        \"blue\": blues,\n",
    "        \"alpha\": alphas\n",
    "    })\n",
    "\n",
    "    colors = []\n",
    "    for l in np.linspace(1, 0, 100):\n",
    "        colors.append((30./255, 136./255, 229./255,l))\n",
    "    for l in np.linspace(0, 1, 100):\n",
    "        colors.append((255./255, 13./255, 87./255,l))\n",
    "    red_transparent_blue = LinearSegmentedColormap.from_list(\"red_transparent_blue\", colors)\n",
    "\n",
    "    colors = []\n",
    "    for l in np.linspace(0, 1, 100):\n",
    "        colors.append((30./255, 136./255, 229./255,l))\n",
    "    transparent_blue = LinearSegmentedColormap.from_list(\"transparent_blue\", colors)\n",
    "\n",
    "    colors = []\n",
    "    for l in np.linspace(0, 1, 100):\n",
    "        colors.append((255./255, 13./255, 87./255,l))\n",
    "    transparent_red = LinearSegmentedColormap.from_list(\"transparent_red\", colors)\n",
    "\n",
    "\n",
    "except ImportError:\n",
    "    pass"
   ]
  },
  {
   "cell_type": "code",
   "execution_count": null,
   "metadata": {
    "colab": {},
    "colab_type": "code",
    "id": "AYruYvJOyMvX"
   },
   "outputs": [],
   "source": [
    "def image_plot(shap_values, x, labels=None, show=True):\n",
    "    \"\"\" Plots SHAP values for image inputs.\n",
    "    \"\"\"\n",
    "\n",
    "    multi_output = True\n",
    "    if type(shap_values) != list:\n",
    "        multi_output = False\n",
    "        shap_values = [shap_values]\n",
    "\n",
    "    # make sure labels\n",
    "    if labels is not None:\n",
    "        assert labels.shape[0] == shap_values[0].shape[0], \"Labels must have same row count as shap_values arrays!\"\n",
    "        if multi_output:\n",
    "            assert labels.shape[1] == len(shap_values), \"Labels must have a column for each output in shap_values!\"\n",
    "        else:\n",
    "            assert len(labels.shape) == 1, \"Labels must be a vector for single output shap_values.\"\n",
    "\n",
    "    # plot our explanations\n",
    "    fig_size = np.array([3 * (len(shap_values) + 1), 2.5 * (x.shape[0] + 1)])\n",
    "    if fig_size[0] > 20:\n",
    "        fig_size *= 20 / fig_size[0]\n",
    "    fig, axes = plt.subplots(nrows=x.shape[0], ncols=len(shap_values) + 1, figsize=fig_size)\n",
    "    if len(axes.shape) == 1:\n",
    "        axes = axes.reshape(1,axes.size)\n",
    "    for row in range(x.shape[0]):\n",
    "        x_curr = x[row].copy()\n",
    "\n",
    "        # make sure\n",
    "        if len(x_curr.shape) == 3 and x_curr.shape[2] == 1:\n",
    "            x_curr = x_curr.reshape(x_curr.shape[:2])\n",
    "        if x_curr.max() > 1:\n",
    "            x_curr /= 255.\n",
    "\n",
    "        # get a grayscale version of the image\n",
    "        if len(x_curr.shape) == 3 and x_curr.shape[2] == 3:\n",
    "            x_curr_gray = (0.2989 * x_curr[:,:,0] + 0.5870 * x_curr[:,:,1] + 0.1140 * x_curr[:,:,2]) # rgb to gray\n",
    "        else:\n",
    "            x_curr_gray = x_curr\n",
    "\n",
    "        axes[row,0].imshow(x_curr, cmap=plt.get_cmap('gray'))\n",
    "        axes[row,0].axis('off')\n",
    "        if len(shap_values[0][row].shape) == 2:\n",
    "            abs_vals = np.stack([np.abs(shap_values[i]) for i in range(len(shap_values))], 0).flatten()\n",
    "        else:\n",
    "            abs_vals = np.stack([np.abs(shap_values[i].sum(-1)) for i in range(len(shap_values))], 0).flatten()\n",
    "        max_val = np.nanpercentile(abs_vals, 99.9)\n",
    "        for i in range(len(shap_values)):\n",
    "            if labels is not None:\n",
    "                axes[row,i+1].set_title(labels[row,i])\n",
    "            sv = shap_values[i][row] if len(shap_values[i][row].shape) == 2 else shap_values[i][row].sum(-1)\n",
    "            axes[row,i+1].imshow(x_curr_gray, cmap=plt.get_cmap('gray'), alpha=0.15, extent=(-1, sv.shape[0], sv.shape[1], -1))\n",
    "            im = axes[row,i+1].imshow(sv, cmap=red_transparent_blue, vmin=-max_val, vmax=max_val)\n",
    "            axes[row,i+1].axis('off')\n",
    "    cb = fig.colorbar(im, ax=np.ravel(axes).tolist(), label=\"SHAP value\", orientation=\"horizontal\", aspect=fig_size[0]/0.2)\n",
    "    cb.outline.set_visible(False)\n",
    "    if show:\n",
    "        plt.show()\n",
    "    \n",
    "    return fig,axes"
   ]
  },
  {
   "cell_type": "code",
   "execution_count": null,
   "metadata": {
    "colab": {
     "base_uri": "https://localhost:8080/",
     "height": 206
    },
    "colab_type": "code",
    "id": "3LbHOOQwafPh",
    "outputId": "11bfb12b-0e8e-4ce7-f2e6-8d553d4ec871"
   },
   "outputs": [],
   "source": [
    "fig,axes = image_plot(shap_values, -test_x[1:2])"
   ]
  },
  {
   "cell_type": "code",
   "execution_count": null,
   "metadata": {
    "colab": {},
    "colab_type": "code",
    "id": "kZMEKH8GyKX7"
   },
   "outputs": [],
   "source": [
    "axes_from_fig = fig.get_axes()"
   ]
  },
  {
   "cell_type": "code",
   "execution_count": null,
   "metadata": {
    "colab": {},
    "colab_type": "code",
    "id": "tX8WQP1I7Fzb"
   },
   "outputs": [],
   "source": [
    "extent = ax.get_window_extent().transformed(fig.dpi_scale_trans.inverted())"
   ]
  },
  {
   "cell_type": "code",
   "execution_count": null,
   "metadata": {
    "colab": {},
    "colab_type": "code",
    "id": "ZrYszaHF7Ktz"
   },
   "outputs": [],
   "source": [
    "fig.savefig('ax2_figure.png', bbox_inches=extent)"
   ]
  },
  {
   "cell_type": "code",
   "execution_count": null,
   "metadata": {
    "colab": {},
    "colab_type": "code",
    "id": "r2WUwNPn7zfF"
   },
   "outputs": [],
   "source": [
    "def get_explanation_image(x,output_label,outputFileName):\n",
    "  shap_values = explainer.shap_values(test_x[1:2])\n",
    "  fig,axes = image_plot(shap_values, -x)\n",
    "  axes_from_fig = fig.get_axes()\n",
    "  extent = ax.get_window_extent().transformed(fig.dpi_scale_trans.inverted())\n",
    "  fig.savefig(outputFileName, bbox_inches=extent)  "
   ]
  },
  {
   "cell_type": "code",
   "execution_count": null,
   "metadata": {
    "colab": {},
    "colab_type": "code",
    "id": "SrIc3-_Z8XTo"
   },
   "outputs": [],
   "source": [
    "def add_noise(image):\n",
    "  row,col = image.shape\n",
    "  s_vs_p = 0.5\n",
    "  amount = 0.01\n",
    "  out = np.copy(image)\n",
    "  # Salt mode\n",
    "  num_salt = np.ceil(amount * image.size * s_vs_p)\n",
    "  coords = [np.random.randint(0, i - 1, int(num_salt))\n",
    "          for i in image.shape]\n",
    "  out[coords] = 1\n",
    "\n",
    "  # Pepper mode\n",
    "  num_pepper = np.ceil(amount* image.size * (1. - s_vs_p))\n",
    "  coords = [np.random.randint(0, i - 1, int(num_pepper))\n",
    "          for i in image.shape]\n",
    "  out[coords] = 0\n",
    "  return out"
   ]
  },
  {
   "cell_type": "code",
   "execution_count": null,
   "metadata": {
    "colab": {},
    "colab_type": "code",
    "id": "7gYgPnXP8uY9"
   },
   "outputs": [],
   "source": [
    "from skimage.measure import structural_similarity as ssim\n",
    "import cv2"
   ]
  },
  {
   "cell_type": "code",
   "execution_count": null,
   "metadata": {
    "colab": {},
    "colab_type": "code",
    "id": "EOKsSW8a8x1H"
   },
   "outputs": [],
   "source": [
    "def mse(imageA, imageB):\n",
    "\t# the 'Mean Squared Error' between the two images is the\n",
    "\t# sum of the squared difference between the two images;\n",
    "\t# NOTE: the two images must have the same dimension\n",
    "\terr = np.sum((imageA.astype(\"float\") - imageB.astype(\"float\")) ** 2)\n",
    "\terr /= float(imageA.shape[0] * imageA.shape[1])\n",
    "\t\n",
    "\t# return the MSE, the lower the error, the more \"similar\"\n",
    "\t# the two images are\n",
    "\treturn err\n",
    "\n",
    "def compare_images(imageA, imageB, title):\n",
    "  # compute the mean squared error and structural similarity\n",
    "  # index for the images\n",
    "  m = mse(imageA, imageB)\n",
    "  s = ssim(imageA, imageB,multichannel=True)\n",
    "\n",
    "  # setup the figure\n",
    "  fig = plt.figure(title)\n",
    "  plt.suptitle(\"MSE: %.2f, SSIM: %.2f\" % (m, s))\n",
    "\n",
    "  # show first image\n",
    "  ax = fig.add_subplot(1, 2, 1)\n",
    "  plt.imshow(imageA, cmap = plt.cm.gray)\n",
    "  plt.axis(\"off\")\n",
    "\n",
    "  # show the second image\n",
    "  ax = fig.add_subplot(1, 2, 2)\n",
    "  plt.imshow(imageB, cmap = plt.cm.gray)\n",
    "  plt.axis(\"off\")\n",
    "\n",
    "  # show the images\n",
    "  plt.show() \n",
    "  return m,s"
   ]
  },
  {
   "cell_type": "code",
   "execution_count": null,
   "metadata": {
    "colab": {},
    "colab_type": "code",
    "id": "wGH4VDq-80IY"
   },
   "outputs": [],
   "source": [
    "original_image = test_x[1:2]"
   ]
  },
  {
   "cell_type": "code",
   "execution_count": null,
   "metadata": {
    "colab": {
     "base_uri": "https://localhost:8080/",
     "height": 34
    },
    "colab_type": "code",
    "id": "Zdmr23Q19Hdw",
    "outputId": "8dabf0a7-37bd-48b8-d9f0-11fd8a92d6bd"
   },
   "outputs": [],
   "source": [
    "original_image.shape"
   ]
  },
  {
   "cell_type": "code",
   "execution_count": null,
   "metadata": {
    "colab": {},
    "colab_type": "code",
    "id": "5ZK3OPUM9KFb"
   },
   "outputs": [],
   "source": [
    "noisy_image = add_noise(original_image.reshape(28,28))"
   ]
  },
  {
   "cell_type": "code",
   "execution_count": null,
   "metadata": {
    "colab": {
     "base_uri": "https://localhost:8080/",
     "height": 364
    },
    "colab_type": "code",
    "id": "CzrE2M9J9Ov0",
    "outputId": "1cd26492-f929-417f-be82-1a5263bd1237"
   },
   "outputs": [],
   "source": [
    "plt.imshow(noisy_image)"
   ]
  },
  {
   "cell_type": "code",
   "execution_count": null,
   "metadata": {
    "colab": {},
    "colab_type": "code",
    "id": "7USqg2vK9x3y"
   },
   "outputs": [],
   "source": [
    "original_image_explanation = \"explanation_original.jpeg\"\n",
    "noisy_image_explanation = \"explanation_noisy_image.jpeg\""
   ]
  },
  {
   "cell_type": "code",
   "execution_count": null,
   "metadata": {
    "colab": {
     "base_uri": "https://localhost:8080/",
     "height": 206
    },
    "colab_type": "code",
    "id": "WSc9Gd1j-F59",
    "outputId": "a963b0d4-6894-4cdb-ff21-d061892c564e"
   },
   "outputs": [],
   "source": [
    "get_explanation_image(original_image,2,original_image_explanation)"
   ]
  },
  {
   "cell_type": "code",
   "execution_count": null,
   "metadata": {
    "colab": {
     "base_uri": "https://localhost:8080/",
     "height": 34
    },
    "colab_type": "code",
    "id": "Wu8tCs8l-bcp",
    "outputId": "44128bf1-3434-4b87-8160-99ecbfb5e190"
   },
   "outputs": [],
   "source": [
    "noisy_image.shape"
   ]
  },
  {
   "cell_type": "code",
   "execution_count": null,
   "metadata": {
    "colab": {
     "base_uri": "https://localhost:8080/",
     "height": 206
    },
    "colab_type": "code",
    "id": "WN27c8Lr-NCr",
    "outputId": "d109e454-795a-4274-c555-4138bfe2bba5"
   },
   "outputs": [],
   "source": [
    "get_explanation_image(np.reshape(noisy_image,(1,28,28,1)),2,noisy_image_explanation)"
   ]
  },
  {
   "cell_type": "code",
   "execution_count": null,
   "metadata": {
    "colab": {
     "base_uri": "https://localhost:8080/",
     "height": 391
    },
    "colab_type": "code",
    "id": "AMPNLxtE-h0P",
    "outputId": "12dd036d-95be-4d2d-9612-9b22d1284eaf"
   },
   "outputs": [],
   "source": [
    "mse1,s1 = compare_images(original_image.reshape(28,28),noisy_image.reshape(28,28),\"Image Difference\")"
   ]
  },
  {
   "cell_type": "code",
   "execution_count": null,
   "metadata": {
    "colab": {},
    "colab_type": "code",
    "id": "XRJpGmaa-tFO"
   },
   "outputs": [],
   "source": [
    "noisy_explanation = cv2.imread(noisy_image_explanation)"
   ]
  },
  {
   "cell_type": "code",
   "execution_count": null,
   "metadata": {
    "colab": {},
    "colab_type": "code",
    "id": "CZcNhDpU-9ga"
   },
   "outputs": [],
   "source": [
    "original_explanation = cv2.imread(original_image_explanation)"
   ]
  },
  {
   "cell_type": "code",
   "execution_count": null,
   "metadata": {
    "colab": {
     "base_uri": "https://localhost:8080/",
     "height": 391
    },
    "colab_type": "code",
    "id": "nBBwQMl9_FGL",
    "outputId": "24696b56-71fa-4016-eb08-cc1be735b66b"
   },
   "outputs": [],
   "source": [
    "mse2,s2= compare_images(noisy_explanation,original_explanation,\"Image Difference\")"
   ]
  },
  {
   "cell_type": "code",
   "execution_count": null,
   "metadata": {
    "colab": {},
    "colab_type": "code",
    "id": "82B_HDMi_O64"
   },
   "outputs": [],
   "source": [
    "#stability score for the current image\n",
    "# stability = change in the explanation / change in the input\n",
    "stability = mse2/mse1"
   ]
  },
  {
   "cell_type": "code",
   "execution_count": null,
   "metadata": {
    "colab": {
     "base_uri": "https://localhost:8080/",
     "height": 34
    },
    "colab_type": "code",
    "id": "5yFAQDC__p9U",
    "outputId": "c5431341-0853-49bf-f3dc-862a80871362"
   },
   "outputs": [],
   "source": [
    "stability"
   ]
  },
  {
   "cell_type": "code",
   "execution_count": null,
   "metadata": {},
   "outputs": [],
   "source": [
    "!pip install graphviz"
   ]
  },
  {
   "cell_type": "code",
   "execution_count": null,
   "metadata": {},
   "outputs": [],
   "source": []
  }
 ],
 "metadata": {
  "accelerator": "GPU",
  "colab": {
   "collapsed_sections": [],
   "name": "MNIST CNN Keras",
   "provenance": [],
   "version": "0.3.2"
  },
  "kernelspec": {
   "display_name": "Python 3",
   "language": "python",
   "name": "python3"
  },
  "language_info": {
   "codemirror_mode": {
    "name": "ipython",
    "version": 3
   },
   "file_extension": ".py",
   "mimetype": "text/x-python",
   "name": "python",
   "nbconvert_exporter": "python",
   "pygments_lexer": "ipython3",
   "version": "3.6.0"
  }
 },
 "nbformat": 4,
 "nbformat_minor": 1
}
