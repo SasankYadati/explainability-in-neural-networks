{
  "nbformat": 4,
  "nbformat_minor": 0,
  "metadata": {
    "colab": {
      "name": "Keras CNN for Tiny Image Net",
      "version": "0.3.2",
      "provenance": [],
      "collapsed_sections": []
    },
    "kernelspec": {
      "name": "python3",
      "display_name": "Python 3"
    },
    "accelerator": "GPU"
  },
  "cells": [
    {
      "metadata": {
        "id": "TVgHI3QTLRHl",
        "colab_type": "code",
        "outputId": "85cbfed1-81c6-4223-dcce-b411b373cd62",
        "colab": {
          "base_uri": "https://localhost:8080/",
          "height": 121
        }
      },
      "cell_type": "code",
      "source": [
        "from google.colab import drive\n",
        "drive.mount(\"/content/gdrive\")"
      ],
      "execution_count": 1,
      "outputs": [
        {
          "output_type": "stream",
          "text": [
            "Go to this URL in a browser: https://accounts.google.com/o/oauth2/auth?client_id=947318989803-6bn6qk8qdgf4n4g3pfee6491hc0brc4i.apps.googleusercontent.com&redirect_uri=urn%3Aietf%3Awg%3Aoauth%3A2.0%3Aoob&scope=email%20https%3A%2F%2Fwww.googleapis.com%2Fauth%2Fdocs.test%20https%3A%2F%2Fwww.googleapis.com%2Fauth%2Fdrive%20https%3A%2F%2Fwww.googleapis.com%2Fauth%2Fdrive.photos.readonly%20https%3A%2F%2Fwww.googleapis.com%2Fauth%2Fpeopleapi.readonly&response_type=code\n",
            "\n",
            "Enter your authorization code:\n",
            "··········\n",
            "Mounted at /content/gdrive\n"
          ],
          "name": "stdout"
        }
      ]
    },
    {
      "metadata": {
        "id": "sNa5dONMm8F4",
        "colab_type": "code",
        "colab": {}
      },
      "cell_type": "code",
      "source": [
        "#loading the dataset\n",
        "#the data is a pickle file which stores a list\n",
        "#the list has 2 elements : x and y"
      ],
      "execution_count": 0,
      "outputs": []
    },
    {
      "metadata": {
        "id": "pnqicRXBLUpx",
        "colab_type": "code",
        "colab": {}
      },
      "cell_type": "code",
      "source": [
        "import pickle"
      ],
      "execution_count": 0,
      "outputs": []
    },
    {
      "metadata": {
        "id": "62ZIq9YzLd1P",
        "colab_type": "code",
        "colab": {}
      },
      "cell_type": "code",
      "source": [
        "x,y = pickle.load(open(\"/content/gdrive/My Drive/8th Semester Project/data.pickle\",\"rb\"))"
      ],
      "execution_count": 0,
      "outputs": []
    },
    {
      "metadata": {
        "id": "ulAd4egFnFnc",
        "colab_type": "code",
        "colab": {}
      },
      "cell_type": "code",
      "source": [
        "#Checking if the number of samples is the same for both x and y"
      ],
      "execution_count": 0,
      "outputs": []
    },
    {
      "metadata": {
        "id": "betmVZwfQbFk",
        "colab_type": "code",
        "outputId": "e7439adc-ca94-489d-b155-5cff40d65538",
        "colab": {
          "base_uri": "https://localhost:8080/",
          "height": 34
        }
      },
      "cell_type": "code",
      "source": [
        "len(x)"
      ],
      "execution_count": 6,
      "outputs": [
        {
          "output_type": "execute_result",
          "data": {
            "text/plain": [
              "100000"
            ]
          },
          "metadata": {
            "tags": []
          },
          "execution_count": 6
        }
      ]
    },
    {
      "metadata": {
        "id": "_ZVTtPvxQcfv",
        "colab_type": "code",
        "outputId": "0c0be37e-7a46-48bd-ecb7-4a5552739708",
        "colab": {
          "base_uri": "https://localhost:8080/",
          "height": 34
        }
      },
      "cell_type": "code",
      "source": [
        "len(y)"
      ],
      "execution_count": 7,
      "outputs": [
        {
          "output_type": "execute_result",
          "data": {
            "text/plain": [
              "100000"
            ]
          },
          "metadata": {
            "tags": []
          },
          "execution_count": 7
        }
      ]
    },
    {
      "metadata": {
        "id": "9UlB8cOgnJce",
        "colab_type": "code",
        "colab": {}
      },
      "cell_type": "code",
      "source": [
        "assert len(x) == len(y)"
      ],
      "execution_count": 0,
      "outputs": []
    },
    {
      "metadata": {
        "id": "gSWbJPn2nMBt",
        "colab_type": "code",
        "colab": {}
      },
      "cell_type": "code",
      "source": [
        "#importing libraries\n",
        "#need sklearn to split the data into train and test"
      ],
      "execution_count": 0,
      "outputs": []
    },
    {
      "metadata": {
        "id": "1Bw4Za8vN02b",
        "colab_type": "code",
        "colab": {}
      },
      "cell_type": "code",
      "source": [
        "import sklearn\n",
        "import numpy as np"
      ],
      "execution_count": 0,
      "outputs": []
    },
    {
      "metadata": {
        "id": "I8LiljahN8KE",
        "colab_type": "code",
        "outputId": "092db81d-daf5-4792-ca46-d29a49120f5e",
        "colab": {
          "base_uri": "https://localhost:8080/",
          "height": 34
        }
      },
      "cell_type": "code",
      "source": [
        "import keras"
      ],
      "execution_count": 11,
      "outputs": [
        {
          "output_type": "stream",
          "text": [
            "Using TensorFlow backend.\n"
          ],
          "name": "stderr"
        }
      ]
    },
    {
      "metadata": {
        "id": "cYdI6KK_oA65",
        "colab_type": "code",
        "colab": {}
      },
      "cell_type": "code",
      "source": [
        "#some images have only one channel \n",
        "#so need to convert them into 3\n",
        "#use sklearn for this"
      ],
      "execution_count": 0,
      "outputs": []
    },
    {
      "metadata": {
        "id": "fvYnjw-PZLSV",
        "colab_type": "code",
        "colab": {}
      },
      "cell_type": "code",
      "source": [
        "from skimage.color import gray2rgb"
      ],
      "execution_count": 0,
      "outputs": []
    },
    {
      "metadata": {
        "id": "W-E8hU-CQzld",
        "colab_type": "code",
        "colab": {}
      },
      "cell_type": "code",
      "source": [
        "for i in range(len(x)):\n",
        "  if(x[i].shape !=(64,64,3)):\n",
        "    x[i] = gray2rgb(x[i])"
      ],
      "execution_count": 0,
      "outputs": []
    },
    {
      "metadata": {
        "id": "1-Fqufk7oHKy",
        "colab_type": "code",
        "colab": {}
      },
      "cell_type": "code",
      "source": [
        "#checking if all images have three channels"
      ],
      "execution_count": 0,
      "outputs": []
    },
    {
      "metadata": {
        "id": "u8nNUeeAZTDX",
        "colab_type": "code",
        "colab": {}
      },
      "cell_type": "code",
      "source": [
        "error = 0"
      ],
      "execution_count": 0,
      "outputs": []
    },
    {
      "metadata": {
        "id": "YjeMQh2cZQhn",
        "colab_type": "code",
        "colab": {}
      },
      "cell_type": "code",
      "source": [
        "for i in range(len(x)):\n",
        "  if(x[i].shape !=(64,64,3)):\n",
        "    error+=1"
      ],
      "execution_count": 0,
      "outputs": []
    },
    {
      "metadata": {
        "id": "WTQAal3iPw67",
        "colab_type": "code",
        "outputId": "8b2b8a99-d272-4fed-c7f9-9ce9adfd35bd",
        "colab": {
          "base_uri": "https://localhost:8080/",
          "height": 34
        }
      },
      "cell_type": "code",
      "source": [
        "error"
      ],
      "execution_count": 18,
      "outputs": [
        {
          "output_type": "execute_result",
          "data": {
            "text/plain": [
              "0"
            ]
          },
          "metadata": {
            "tags": []
          },
          "execution_count": 18
        }
      ]
    },
    {
      "metadata": {
        "id": "IVxRILcb375W",
        "colab_type": "code",
        "colab": {}
      },
      "cell_type": "code",
      "source": [
        "#data augmentation"
      ],
      "execution_count": 0,
      "outputs": []
    },
    {
      "metadata": {
        "id": "-B9Yrdrp4b76",
        "colab_type": "code",
        "colab": {}
      },
      "cell_type": "code",
      "source": [
        "import random\n",
        "import skimage as sk\n",
        "from skimage import transform\n",
        "from skimage import util"
      ],
      "execution_count": 0,
      "outputs": []
    },
    {
      "metadata": {
        "id": "F6t9AyRL39sa",
        "colab_type": "code",
        "colab": {}
      },
      "cell_type": "code",
      "source": [
        "#Type 1 : Horizontal Flip"
      ],
      "execution_count": 0,
      "outputs": []
    },
    {
      "metadata": {
        "id": "bU3lWc5Q4BSR",
        "colab_type": "code",
        "colab": {}
      },
      "cell_type": "code",
      "source": [
        "def horizontal_flip(image_array):\n",
        "    # horizontal flip doesn't need skimage, it's easy as flipping the image array of pixels !\n",
        "    return image_array[:, ::-1]"
      ],
      "execution_count": 0,
      "outputs": []
    },
    {
      "metadata": {
        "id": "AyIXf10o4L5M",
        "colab_type": "code",
        "colab": {}
      },
      "cell_type": "code",
      "source": [
        "#Type 2 : Random Noise"
      ],
      "execution_count": 0,
      "outputs": []
    },
    {
      "metadata": {
        "id": "aWCSXzxr4N04",
        "colab_type": "code",
        "colab": {}
      },
      "cell_type": "code",
      "source": [
        "def random_noise(image_array):\n",
        "  return sk.util.random_noise(image_array)"
      ],
      "execution_count": 0,
      "outputs": []
    },
    {
      "metadata": {
        "id": "vdK7ZS9o4SM3",
        "colab_type": "code",
        "colab": {}
      },
      "cell_type": "code",
      "source": [
        "#Type 3 : Random Rotation"
      ],
      "execution_count": 0,
      "outputs": []
    },
    {
      "metadata": {
        "id": "Tfta2O6t4WWF",
        "colab_type": "code",
        "colab": {}
      },
      "cell_type": "code",
      "source": [
        "def random_rotation(image_array):\n",
        "    # pick a random degree of rotation between 25% on the left and 25% on the right\n",
        "    random_degree = random.uniform(-25, 25)\n",
        "    return sk.transform.rotate(image_array, random_degree)"
      ],
      "execution_count": 0,
      "outputs": []
    },
    {
      "metadata": {
        "id": "FJqhy6PH4UEM",
        "colab_type": "code",
        "colab": {}
      },
      "cell_type": "code",
      "source": [
        "#Transform Example"
      ],
      "execution_count": 0,
      "outputs": []
    },
    {
      "metadata": {
        "id": "GUJlIwCT4WPf",
        "colab_type": "code",
        "colab": {}
      },
      "cell_type": "code",
      "source": [
        "image = x[0]"
      ],
      "execution_count": 0,
      "outputs": []
    },
    {
      "metadata": {
        "id": "Di8mxV4E4ZFW",
        "colab_type": "code",
        "outputId": "deb99f0d-f25d-4d7b-96dc-7a83108b313e",
        "colab": {
          "base_uri": "https://localhost:8080/",
          "height": 34
        }
      },
      "cell_type": "code",
      "source": [
        "image.shape"
      ],
      "execution_count": 29,
      "outputs": [
        {
          "output_type": "execute_result",
          "data": {
            "text/plain": [
              "(64, 64, 3)"
            ]
          },
          "metadata": {
            "tags": []
          },
          "execution_count": 29
        }
      ]
    },
    {
      "metadata": {
        "id": "wyXNG2Vr4ez3",
        "colab_type": "code",
        "colab": {}
      },
      "cell_type": "code",
      "source": [
        "import matplotlib.pyplot as plt"
      ],
      "execution_count": 0,
      "outputs": []
    },
    {
      "metadata": {
        "id": "rwpX3Vrf4ac6",
        "colab_type": "code",
        "outputId": "cde2b59d-3f32-4681-fe7b-bb386d511493",
        "colab": {
          "base_uri": "https://localhost:8080/",
          "height": 366
        }
      },
      "cell_type": "code",
      "source": [
        "plt.imshow(image)"
      ],
      "execution_count": 31,
      "outputs": [
        {
          "output_type": "execute_result",
          "data": {
            "text/plain": [
              "<matplotlib.image.AxesImage at 0x7ff691ee7dd8>"
            ]
          },
          "metadata": {
            "tags": []
          },
          "execution_count": 31
        },
        {
          "output_type": "display_data",
          "data": {
            "image/png": "[encoded data removed]",
            "text/plain": [
              "<Figure size 576x396 with 1 Axes>"
            ]
          },
          "metadata": {
            "tags": []
          }
        }
      ]
    },
    {
      "metadata": {
        "id": "KMMmTTSG4kqt",
        "colab_type": "code",
        "outputId": "169adf8c-1020-4a7f-f572-6b46b35d9fb8",
        "colab": {
          "base_uri": "https://localhost:8080/",
          "height": 34
        }
      },
      "cell_type": "code",
      "source": [
        "y[0]"
      ],
      "execution_count": 32,
      "outputs": [
        {
          "output_type": "execute_result",
          "data": {
            "text/plain": [
              "0"
            ]
          },
          "metadata": {
            "tags": []
          },
          "execution_count": 32
        }
      ]
    },
    {
      "metadata": {
        "id": "4Jzuz3Nl4mat",
        "colab_type": "code",
        "outputId": "fd319e59-e6fe-4544-9f78-0fb7e25c2a51",
        "colab": {
          "base_uri": "https://localhost:8080/",
          "height": 366
        }
      },
      "cell_type": "code",
      "source": [
        "#Horizontal flip\n",
        "\n",
        "image_flipped = horizontal_flip(image)\n",
        "\n",
        "plt.imshow(image_flipped)"
      ],
      "execution_count": 33,
      "outputs": [
        {
          "output_type": "execute_result",
          "data": {
            "text/plain": [
              "<matplotlib.image.AxesImage at 0x7ff68fe796d8>"
            ]
          },
          "metadata": {
            "tags": []
          },
          "execution_count": 33
        },
        {
          "output_type": "display_data",
          "data": {
            "image/png": "[encoded data removed]",
            "text/plain": [
              "<Figure size 576x396 with 1 Axes>"
            ]
          },
          "metadata": {
            "tags": []
          }
        }
      ]
    },
    {
      "metadata": {
        "id": "epFHdw1N6LDh",
        "colab_type": "code",
        "outputId": "59383e1b-049f-4087-ad78-e21aa8e70b21",
        "colab": {
          "base_uri": "https://localhost:8080/",
          "height": 34
        }
      },
      "cell_type": "code",
      "source": [
        "image_flipped.shape"
      ],
      "execution_count": 34,
      "outputs": [
        {
          "output_type": "execute_result",
          "data": {
            "text/plain": [
              "(64, 64, 3)"
            ]
          },
          "metadata": {
            "tags": []
          },
          "execution_count": 34
        }
      ]
    },
    {
      "metadata": {
        "id": "m9FexFlv4yEi",
        "colab_type": "code",
        "outputId": "dd718843-53e1-405b-8153-b9c0850a8833",
        "colab": {
          "base_uri": "https://localhost:8080/",
          "height": 366
        }
      },
      "cell_type": "code",
      "source": [
        "#Random Noise\n",
        "\n",
        "image_noise = random_noise(image)\n",
        "\n",
        "plt.imshow(image_noise)"
      ],
      "execution_count": 35,
      "outputs": [
        {
          "output_type": "execute_result",
          "data": {
            "text/plain": [
              "<matplotlib.image.AxesImage at 0x7ff68fddfa90>"
            ]
          },
          "metadata": {
            "tags": []
          },
          "execution_count": 35
        },
        {
          "output_type": "display_data",
          "data": {
            "image/png": "[encoded data removed]",
            "text/plain": [
              "<Figure size 576x396 with 1 Axes>"
            ]
          },
          "metadata": {
            "tags": []
          }
        }
      ]
    },
    {
      "metadata": {
        "id": "5PzxAy0j6M-9",
        "colab_type": "code",
        "outputId": "687d990a-8cb4-4bac-e13b-d70df08f58ee",
        "colab": {
          "base_uri": "https://localhost:8080/",
          "height": 34
        }
      },
      "cell_type": "code",
      "source": [
        "image_noise.shape"
      ],
      "execution_count": 36,
      "outputs": [
        {
          "output_type": "execute_result",
          "data": {
            "text/plain": [
              "(64, 64, 3)"
            ]
          },
          "metadata": {
            "tags": []
          },
          "execution_count": 36
        }
      ]
    },
    {
      "metadata": {
        "id": "dices5RK4_ae",
        "colab_type": "code",
        "outputId": "2b61b562-6fea-4d30-b518-5be8834ca206",
        "colab": {
          "base_uri": "https://localhost:8080/",
          "height": 366
        }
      },
      "cell_type": "code",
      "source": [
        "#Random Rotation\n",
        "\n",
        "image_rotated = random_rotation(image)\n",
        "\n",
        "plt.imshow(image_rotated)"
      ],
      "execution_count": 37,
      "outputs": [
        {
          "output_type": "execute_result",
          "data": {
            "text/plain": [
              "<matplotlib.image.AxesImage at 0x7ff68fdc09b0>"
            ]
          },
          "metadata": {
            "tags": []
          },
          "execution_count": 37
        },
        {
          "output_type": "display_data",
          "data": {
            "image/png": "[encoded data removed]",
            "text/plain": [
              "<Figure size 576x396 with 1 Axes>"
            ]
          },
          "metadata": {
            "tags": []
          }
        }
      ]
    },
    {
      "metadata": {
        "id": "i43nukFm6O9_",
        "colab_type": "code",
        "outputId": "c80df092-f5d4-4acc-fa44-44577d69070a",
        "colab": {
          "base_uri": "https://localhost:8080/",
          "height": 34
        }
      },
      "cell_type": "code",
      "source": [
        "image_rotated.shape"
      ],
      "execution_count": 38,
      "outputs": [
        {
          "output_type": "execute_result",
          "data": {
            "text/plain": [
              "(64, 64, 3)"
            ]
          },
          "metadata": {
            "tags": []
          },
          "execution_count": 38
        }
      ]
    },
    {
      "metadata": {
        "id": "TSSdjCaOpbi3",
        "colab_type": "code",
        "outputId": "fc471211-f8e3-49ea-e87c-cbd6e41d95cd",
        "colab": {
          "base_uri": "https://localhost:8080/",
          "height": 34
        }
      },
      "cell_type": "code",
      "source": [
        "len(x)"
      ],
      "execution_count": 39,
      "outputs": [
        {
          "output_type": "execute_result",
          "data": {
            "text/plain": [
              "100000"
            ]
          },
          "metadata": {
            "tags": []
          },
          "execution_count": 39
        }
      ]
    },
    {
      "metadata": {
        "id": "E_QDhxW_7rUN",
        "colab_type": "code",
        "colab": {}
      },
      "cell_type": "code",
      "source": [
        "from keras.preprocessing.image import ImageDataGenerator"
      ],
      "execution_count": 0,
      "outputs": []
    },
    {
      "metadata": {
        "id": "ktVgkf1g7WRX",
        "colab_type": "code",
        "colab": {}
      },
      "cell_type": "code",
      "source": [
        "datagen = ImageDataGenerator(\n",
        "    featurewise_center=True,\n",
        "    featurewise_std_normalization=True,\n",
        "    rotation_range=20,\n",
        "    width_shift_range=0.2,\n",
        "    height_shift_range=0.2,\n",
        "    horizontal_flip=True)"
      ],
      "execution_count": 0,
      "outputs": []
    },
    {
      "metadata": {
        "id": "j_MgHoin5fbh",
        "colab_type": "code",
        "outputId": "cbb56bd5-139a-46bd-e703-e75b969ebaf8",
        "colab": {
          "base_uri": "https://localhost:8080/",
          "height": 1697
        }
      },
      "cell_type": "code",
      "source": [
        "for i in range(100000):\n",
        "  img = x[i]\n",
        "  op = y[i]\n",
        "  img_r = datagen.random_transform(img)\n",
        "  x.append(img_r)\n",
        "  y.append(op)\n",
        "  if(i%1000==0):\n",
        "    print(\"Done for : \",i,\"/100000\")"
      ],
      "execution_count": 42,
      "outputs": [
        {
          "output_type": "stream",
          "text": [
            "Done for :  0 /100000\n",
            "Done for :  1000 /100000\n",
            "Done for :  2000 /100000\n",
            "Done for :  3000 /100000\n",
            "Done for :  4000 /100000\n",
            "Done for :  5000 /100000\n",
            "Done for :  6000 /100000\n",
            "Done for :  7000 /100000\n",
            "Done for :  8000 /100000\n",
            "Done for :  9000 /100000\n",
            "Done for :  10000 /100000\n",
            "Done for :  11000 /100000\n",
            "Done for :  12000 /100000\n",
            "Done for :  13000 /100000\n",
            "Done for :  14000 /100000\n",
            "Done for :  15000 /100000\n",
            "Done for :  16000 /100000\n",
            "Done for :  17000 /100000\n",
            "Done for :  18000 /100000\n",
            "Done for :  19000 /100000\n",
            "Done for :  20000 /100000\n",
            "Done for :  21000 /100000\n",
            "Done for :  22000 /100000\n",
            "Done for :  23000 /100000\n",
            "Done for :  24000 /100000\n",
            "Done for :  25000 /100000\n",
            "Done for :  26000 /100000\n",
            "Done for :  27000 /100000\n",
            "Done for :  28000 /100000\n",
            "Done for :  29000 /100000\n",
            "Done for :  30000 /100000\n",
            "Done for :  31000 /100000\n",
            "Done for :  32000 /100000\n",
            "Done for :  33000 /100000\n",
            "Done for :  34000 /100000\n",
            "Done for :  35000 /100000\n",
            "Done for :  36000 /100000\n",
            "Done for :  37000 /100000\n",
            "Done for :  38000 /100000\n",
            "Done for :  39000 /100000\n",
            "Done for :  40000 /100000\n",
            "Done for :  41000 /100000\n",
            "Done for :  42000 /100000\n",
            "Done for :  43000 /100000\n",
            "Done for :  44000 /100000\n",
            "Done for :  45000 /100000\n",
            "Done for :  46000 /100000\n",
            "Done for :  47000 /100000\n",
            "Done for :  48000 /100000\n",
            "Done for :  49000 /100000\n",
            "Done for :  50000 /100000\n",
            "Done for :  51000 /100000\n",
            "Done for :  52000 /100000\n",
            "Done for :  53000 /100000\n",
            "Done for :  54000 /100000\n",
            "Done for :  55000 /100000\n",
            "Done for :  56000 /100000\n",
            "Done for :  57000 /100000\n",
            "Done for :  58000 /100000\n",
            "Done for :  59000 /100000\n",
            "Done for :  60000 /100000\n",
            "Done for :  61000 /100000\n",
            "Done for :  62000 /100000\n",
            "Done for :  63000 /100000\n",
            "Done for :  64000 /100000\n",
            "Done for :  65000 /100000\n",
            "Done for :  66000 /100000\n",
            "Done for :  67000 /100000\n",
            "Done for :  68000 /100000\n",
            "Done for :  69000 /100000\n",
            "Done for :  70000 /100000\n",
            "Done for :  71000 /100000\n",
            "Done for :  72000 /100000\n",
            "Done for :  73000 /100000\n",
            "Done for :  74000 /100000\n",
            "Done for :  75000 /100000\n",
            "Done for :  76000 /100000\n",
            "Done for :  77000 /100000\n",
            "Done for :  78000 /100000\n",
            "Done for :  79000 /100000\n",
            "Done for :  80000 /100000\n",
            "Done for :  81000 /100000\n",
            "Done for :  82000 /100000\n",
            "Done for :  83000 /100000\n",
            "Done for :  84000 /100000\n",
            "Done for :  85000 /100000\n",
            "Done for :  86000 /100000\n",
            "Done for :  87000 /100000\n",
            "Done for :  88000 /100000\n",
            "Done for :  89000 /100000\n",
            "Done for :  90000 /100000\n",
            "Done for :  91000 /100000\n",
            "Done for :  92000 /100000\n",
            "Done for :  93000 /100000\n",
            "Done for :  94000 /100000\n",
            "Done for :  95000 /100000\n",
            "Done for :  96000 /100000\n",
            "Done for :  97000 /100000\n",
            "Done for :  98000 /100000\n",
            "Done for :  99000 /100000\n"
          ],
          "name": "stdout"
        }
      ]
    },
    {
      "metadata": {
        "id": "T7doXI3K6T3L",
        "colab_type": "code",
        "outputId": "ac627d43-19b2-4de6-845d-0230d2ceaedf",
        "colab": {
          "base_uri": "https://localhost:8080/",
          "height": 34
        }
      },
      "cell_type": "code",
      "source": [
        "len(x)"
      ],
      "execution_count": 43,
      "outputs": [
        {
          "output_type": "execute_result",
          "data": {
            "text/plain": [
              "200000"
            ]
          },
          "metadata": {
            "tags": []
          },
          "execution_count": 43
        }
      ]
    },
    {
      "metadata": {
        "id": "4i8elRm76Ve8",
        "colab_type": "code",
        "outputId": "f755fa02-5322-4f40-89f3-71691b38daf4",
        "colab": {
          "base_uri": "https://localhost:8080/",
          "height": 34
        }
      },
      "cell_type": "code",
      "source": [
        "len(y)"
      ],
      "execution_count": 44,
      "outputs": [
        {
          "output_type": "execute_result",
          "data": {
            "text/plain": [
              "200000"
            ]
          },
          "metadata": {
            "tags": []
          },
          "execution_count": 44
        }
      ]
    },
    {
      "metadata": {
        "id": "__N5g_376W8k",
        "colab_type": "code",
        "colab": {}
      },
      "cell_type": "code",
      "source": [
        "for i in range(len(x)):\n",
        "  if(x[i].shape !=(64,64,3)):\n",
        "    error+=1"
      ],
      "execution_count": 0,
      "outputs": []
    },
    {
      "metadata": {
        "id": "AuFTiz3x6cGt",
        "colab_type": "code",
        "outputId": "e181fd24-8c5e-425c-b555-148a5fd34e6a",
        "colab": {
          "base_uri": "https://localhost:8080/",
          "height": 34
        }
      },
      "cell_type": "code",
      "source": [
        "error"
      ],
      "execution_count": 46,
      "outputs": [
        {
          "output_type": "execute_result",
          "data": {
            "text/plain": [
              "0"
            ]
          },
          "metadata": {
            "tags": []
          },
          "execution_count": 46
        }
      ]
    },
    {
      "metadata": {
        "id": "NFM1pvPK6jBB",
        "colab_type": "code",
        "colab": {}
      },
      "cell_type": "code",
      "source": [
        "#Checking size of each class"
      ],
      "execution_count": 0,
      "outputs": []
    },
    {
      "metadata": {
        "id": "XqESVZSR6l8-",
        "colab_type": "code",
        "colab": {}
      },
      "cell_type": "code",
      "source": [
        "size = {}"
      ],
      "execution_count": 0,
      "outputs": []
    },
    {
      "metadata": {
        "id": "blF7Hsrw6nef",
        "colab_type": "code",
        "colab": {}
      },
      "cell_type": "code",
      "source": [
        "for i in range(len(x)):\n",
        "  if(y[i] not in size):\n",
        "    size[y[i]] = 1\n",
        "  else:\n",
        "    size[y[i]] += 1"
      ],
      "execution_count": 0,
      "outputs": []
    },
    {
      "metadata": {
        "id": "2VOLXa0t6rHL",
        "colab_type": "code",
        "outputId": "8e3e607f-48bf-4af8-e394-1adcb227018f",
        "colab": {
          "base_uri": "https://localhost:8080/",
          "height": 34
        }
      },
      "cell_type": "code",
      "source": [
        "set(size.values())"
      ],
      "execution_count": 50,
      "outputs": [
        {
          "output_type": "execute_result",
          "data": {
            "text/plain": [
              "{1000}"
            ]
          },
          "metadata": {
            "tags": []
          },
          "execution_count": 50
        }
      ]
    },
    {
      "metadata": {
        "id": "SfiTw6DzoJ1n",
        "colab_type": "code",
        "colab": {}
      },
      "cell_type": "code",
      "source": [
        "#converting y into one hot encoded vectors"
      ],
      "execution_count": 0,
      "outputs": []
    },
    {
      "metadata": {
        "id": "9PzAINeiQO3a",
        "colab_type": "code",
        "colab": {}
      },
      "cell_type": "code",
      "source": [
        "y = keras.utils.to_categorical(y, num_classes=200, dtype='float32')"
      ],
      "execution_count": 0,
      "outputs": []
    },
    {
      "metadata": {
        "id": "jfT9SFH5RwG8",
        "colab_type": "code",
        "colab": {}
      },
      "cell_type": "code",
      "source": [
        "#pickle.dump([x,y],open(\"/content/gdrive/My Drive/8th Semester Project/data_1.pickle\",\"wb\"))"
      ],
      "execution_count": 0,
      "outputs": []
    },
    {
      "metadata": {
        "id": "4lEiUNqCoMoQ",
        "colab_type": "code",
        "colab": {}
      },
      "cell_type": "code",
      "source": [
        "#Train and Test Split"
      ],
      "execution_count": 0,
      "outputs": []
    },
    {
      "metadata": {
        "id": "Y4xrHw6nODFk",
        "colab_type": "code",
        "colab": {}
      },
      "cell_type": "code",
      "source": [
        "import sklearn\n",
        "from sklearn.model_selection import train_test_split"
      ],
      "execution_count": 0,
      "outputs": []
    },
    {
      "metadata": {
        "id": "GRup_blXOGZ8",
        "colab_type": "code",
        "colab": {}
      },
      "cell_type": "code",
      "source": [
        "x_train, x_test, y_train, y_test = train_test_split(x, y, test_size=0.15)"
      ],
      "execution_count": 0,
      "outputs": []
    },
    {
      "metadata": {
        "id": "zcq1Lz5PQ_0f",
        "colab_type": "code",
        "colab": {}
      },
      "cell_type": "code",
      "source": [
        "x_train = np.reshape(x_train,(-1,64,64,3))"
      ],
      "execution_count": 0,
      "outputs": []
    },
    {
      "metadata": {
        "id": "Lt2YbJatRD94",
        "colab_type": "code",
        "colab": {}
      },
      "cell_type": "code",
      "source": [
        "x_test = np.reshape(x_test,(-1,64,64,3))"
      ],
      "execution_count": 0,
      "outputs": []
    },
    {
      "metadata": {
        "id": "g8Ip0I2NL4Lp",
        "colab_type": "code",
        "colab": {
          "base_uri": "https://localhost:8080/",
          "height": 34
        },
        "outputId": "73bc99b6-ef85-4c99-e758-20548ee4b929"
      },
      "cell_type": "code",
      "source": [
        "len(x_train)"
      ],
      "execution_count": 59,
      "outputs": [
        {
          "output_type": "execute_result",
          "data": {
            "text/plain": [
              "170000"
            ]
          },
          "metadata": {
            "tags": []
          },
          "execution_count": 59
        }
      ]
    },
    {
      "metadata": {
        "id": "spJ9vdFtoTSc",
        "colab_type": "code",
        "colab": {}
      },
      "cell_type": "code",
      "source": [
        "#Checking an image"
      ],
      "execution_count": 0,
      "outputs": []
    },
    {
      "metadata": {
        "id": "6MBt9RonX5Y4",
        "colab_type": "code",
        "outputId": "d87242dc-8007-49cd-8ae4-25b059c4e532",
        "colab": {
          "base_uri": "https://localhost:8080/",
          "height": 366
        }
      },
      "cell_type": "code",
      "source": [
        "plt.imshow(x_train[0])"
      ],
      "execution_count": 61,
      "outputs": [
        {
          "output_type": "execute_result",
          "data": {
            "text/plain": [
              "<matplotlib.image.AxesImage at 0x7ff68d6bc470>"
            ]
          },
          "metadata": {
            "tags": []
          },
          "execution_count": 61
        },
        {
          "output_type": "display_data",
          "data": {
            "image/png": "[encoded data removed]",
            "text/plain": [
              "<Figure size 576x396 with 1 Axes>"
            ]
          },
          "metadata": {
            "tags": []
          }
        }
      ]
    },
    {
      "metadata": {
        "id": "EqJ_cz_CX9w6",
        "colab_type": "code",
        "outputId": "380a0bc8-56d9-4960-cc20-f97d4065a1ab",
        "colab": {
          "base_uri": "https://localhost:8080/",
          "height": 34
        }
      },
      "cell_type": "code",
      "source": [
        "np.argmax(y_train[0])"
      ],
      "execution_count": 62,
      "outputs": [
        {
          "output_type": "execute_result",
          "data": {
            "text/plain": [
              "28"
            ]
          },
          "metadata": {
            "tags": []
          },
          "execution_count": 62
        }
      ]
    },
    {
      "metadata": {
        "id": "L5iCPF4AOPIU",
        "colab_type": "code",
        "colab": {}
      },
      "cell_type": "code",
      "source": [
        "assert len(x_train)==len(y_train) and len(x_test)==len(y_test)"
      ],
      "execution_count": 0,
      "outputs": []
    },
    {
      "metadata": {
        "id": "Sj3Yn37UOVwq",
        "colab_type": "code",
        "colab": {
          "base_uri": "https://localhost:8080/",
          "height": 34
        },
        "outputId": "bc8a603a-3dc0-4314-dd03-568dcb0f848e"
      },
      "cell_type": "code",
      "source": [
        "x_train[0].shape"
      ],
      "execution_count": 64,
      "outputs": [
        {
          "output_type": "execute_result",
          "data": {
            "text/plain": [
              "(64, 64, 3)"
            ]
          },
          "metadata": {
            "tags": []
          },
          "execution_count": 64
        }
      ]
    },
    {
      "metadata": {
        "id": "MUULDphhOg2U",
        "colab_type": "code",
        "colab": {
          "base_uri": "https://localhost:8080/",
          "height": 218
        },
        "outputId": "601433d9-2d30-408c-c2f5-3dcccab02fee"
      },
      "cell_type": "code",
      "source": [
        "y_train[0]"
      ],
      "execution_count": 65,
      "outputs": [
        {
          "output_type": "execute_result",
          "data": {
            "text/plain": [
              "array([0., 0., 0., 0., 0., 0., 0., 0., 0., 0., 0., 0., 0., 0., 0., 0., 0.,\n",
              "       0., 0., 0., 0., 0., 0., 0., 0., 0., 0., 0., 1., 0., 0., 0., 0., 0.,\n",
              "       0., 0., 0., 0., 0., 0., 0., 0., 0., 0., 0., 0., 0., 0., 0., 0., 0.,\n",
              "       0., 0., 0., 0., 0., 0., 0., 0., 0., 0., 0., 0., 0., 0., 0., 0., 0.,\n",
              "       0., 0., 0., 0., 0., 0., 0., 0., 0., 0., 0., 0., 0., 0., 0., 0., 0.,\n",
              "       0., 0., 0., 0., 0., 0., 0., 0., 0., 0., 0., 0., 0., 0., 0., 0., 0.,\n",
              "       0., 0., 0., 0., 0., 0., 0., 0., 0., 0., 0., 0., 0., 0., 0., 0., 0.,\n",
              "       0., 0., 0., 0., 0., 0., 0., 0., 0., 0., 0., 0., 0., 0., 0., 0., 0.,\n",
              "       0., 0., 0., 0., 0., 0., 0., 0., 0., 0., 0., 0., 0., 0., 0., 0., 0.,\n",
              "       0., 0., 0., 0., 0., 0., 0., 0., 0., 0., 0., 0., 0., 0., 0., 0., 0.,\n",
              "       0., 0., 0., 0., 0., 0., 0., 0., 0., 0., 0., 0., 0., 0., 0., 0., 0.,\n",
              "       0., 0., 0., 0., 0., 0., 0., 0., 0., 0., 0., 0., 0.], dtype=float32)"
            ]
          },
          "metadata": {
            "tags": []
          },
          "execution_count": 65
        }
      ]
    },
    {
      "metadata": {
        "id": "TRDUl2lzog8w",
        "colab_type": "code",
        "colab": {}
      },
      "cell_type": "code",
      "source": [
        "#making the CNN Model"
      ],
      "execution_count": 0,
      "outputs": []
    },
    {
      "metadata": {
        "id": "6OwkIQDfOkmI",
        "colab_type": "code",
        "colab": {}
      },
      "cell_type": "code",
      "source": [
        "from keras.models import Sequential"
      ],
      "execution_count": 0,
      "outputs": []
    },
    {
      "metadata": {
        "id": "cSizAcmrlkzd",
        "colab_type": "code",
        "colab": {}
      },
      "cell_type": "code",
      "source": [
        "from keras import regularizers"
      ],
      "execution_count": 0,
      "outputs": []
    },
    {
      "metadata": {
        "id": "ysaKZk-zOo8c",
        "colab_type": "code",
        "colab": {}
      },
      "cell_type": "code",
      "source": [
        "from keras.layers import Conv2D\n",
        "from keras.layers import MaxPooling2D\n",
        "from keras.layers import Dense, Dropout, Flatten"
      ],
      "execution_count": 0,
      "outputs": []
    },
    {
      "metadata": {
        "id": "46W8LoEAOrMY",
        "colab_type": "code",
        "colab": {}
      },
      "cell_type": "code",
      "source": [
        "batch_size = 512\n",
        "num_classes = 200\n",
        "number_of_epochs = 100"
      ],
      "execution_count": 0,
      "outputs": []
    },
    {
      "metadata": {
        "id": "ZLTpLzrZOsuq",
        "colab_type": "code",
        "colab": {}
      },
      "cell_type": "code",
      "source": [
        "model = Sequential()\n",
        "\n",
        "model.add(Conv2D(32, (3, 3), input_shape=(64,64,3), padding='same',activation='relu'))\n",
        "model.add(Conv2D(32, (3, 3), activation='relu', padding='same'))\n",
        "model.add(MaxPooling2D(pool_size=(2, 2), strides=(2, 2)))\n",
        "\n",
        "model.add(Conv2D(64, (3, 3), activation='relu', padding='same'))\n",
        "model.add(Conv2D(64, (3, 3), activation='relu', padding='same'))\n",
        "model.add(MaxPooling2D(pool_size=(2, 2), strides=(2, 2)))\n",
        "\n",
        "model.add(Conv2D(128, (3, 3), activation='relu', padding='same'))\n",
        "model.add(Conv2D(128, (3, 3), activation='relu', padding='same'))\n",
        "model.add(Conv2D(128, (3, 3), activation='relu', padding='same'))\n",
        "model.add(MaxPooling2D(pool_size=(2, 2), strides=(2, 2)))\n",
        "\n",
        "model.add(Conv2D(256, (3, 3), activation='relu', padding='same'))\n",
        "model.add(Conv2D(256, (3, 3), activation='relu', padding='same'))\n",
        "model.add(Conv2D(256, (3, 3), activation='relu', padding='same'))\n",
        "\n",
        "model.add(Flatten())\n",
        "\n",
        "model.add(Dense(1024, activation='relu', kernel_regularizer=regularizers.l2(0.01)))\n",
        "model.add(Dropout(0.40))\n",
        "\n",
        "model.add(Dense(512, activation='relu', kernel_regularizer=regularizers.l2(0.01)))\n",
        "model.add(Dropout(0.35))\n",
        "\n",
        "model.add(Dense(200, activation='softmax' ))\n",
        "\n",
        "model.compile(loss=keras.losses.categorical_crossentropy,optimizer=keras.optimizers.Adadelta(),metrics=['accuracy'])"
      ],
      "execution_count": 0,
      "outputs": []
    },
    {
      "metadata": {
        "id": "558VvC--V12g",
        "colab_type": "code",
        "outputId": "b0dd9fbb-a150-4f33-ff63-5fdd22672a2c",
        "colab": {
          "base_uri": "https://localhost:8080/",
          "height": 773
        }
      },
      "cell_type": "code",
      "source": [
        "model.summary()"
      ],
      "execution_count": 72,
      "outputs": [
        {
          "output_type": "stream",
          "text": [
            "_________________________________________________________________\n",
            "Layer (type)                 Output Shape              Param #   \n",
            "=================================================================\n",
            "conv2d_1 (Conv2D)            (None, 64, 64, 32)        896       \n",
            "_________________________________________________________________\n",
            "conv2d_2 (Conv2D)            (None, 64, 64, 32)        9248      \n",
            "_________________________________________________________________\n",
            "max_pooling2d_1 (MaxPooling2 (None, 32, 32, 32)        0         \n",
            "_________________________________________________________________\n",
            "conv2d_3 (Conv2D)            (None, 32, 32, 64)        18496     \n",
            "_________________________________________________________________\n",
            "conv2d_4 (Conv2D)            (None, 32, 32, 64)        36928     \n",
            "_________________________________________________________________\n",
            "max_pooling2d_2 (MaxPooling2 (None, 16, 16, 64)        0         \n",
            "_________________________________________________________________\n",
            "conv2d_5 (Conv2D)            (None, 16, 16, 128)       73856     \n",
            "_________________________________________________________________\n",
            "conv2d_6 (Conv2D)            (None, 16, 16, 128)       147584    \n",
            "_________________________________________________________________\n",
            "conv2d_7 (Conv2D)            (None, 16, 16, 128)       147584    \n",
            "_________________________________________________________________\n",
            "max_pooling2d_3 (MaxPooling2 (None, 8, 8, 128)         0         \n",
            "_________________________________________________________________\n",
            "conv2d_8 (Conv2D)            (None, 8, 8, 256)         295168    \n",
            "_________________________________________________________________\n",
            "conv2d_9 (Conv2D)            (None, 8, 8, 256)         590080    \n",
            "_________________________________________________________________\n",
            "conv2d_10 (Conv2D)           (None, 8, 8, 256)         590080    \n",
            "_________________________________________________________________\n",
            "flatten_1 (Flatten)          (None, 16384)             0         \n",
            "_________________________________________________________________\n",
            "dense_1 (Dense)              (None, 1024)              16778240  \n",
            "_________________________________________________________________\n",
            "dropout_1 (Dropout)          (None, 1024)              0         \n",
            "_________________________________________________________________\n",
            "dense_2 (Dense)              (None, 512)               524800    \n",
            "_________________________________________________________________\n",
            "dropout_2 (Dropout)          (None, 512)               0         \n",
            "_________________________________________________________________\n",
            "dense_3 (Dense)              (None, 200)               102600    \n",
            "=================================================================\n",
            "Total params: 19,315,560\n",
            "Trainable params: 19,315,560\n",
            "Non-trainable params: 0\n",
            "_________________________________________________________________\n"
          ],
          "name": "stdout"
        }
      ]
    },
    {
      "metadata": {
        "id": "h0yJ48H-OwGz",
        "colab_type": "code",
        "outputId": "962812cd-1c8f-4904-9629-8885726d7e98",
        "colab": {
          "base_uri": "https://localhost:8080/",
          "height": 34
        }
      },
      "cell_type": "code",
      "source": [
        "np.array([1,2,3])"
      ],
      "execution_count": 73,
      "outputs": [
        {
          "output_type": "execute_result",
          "data": {
            "text/plain": [
              "array([1, 2, 3])"
            ]
          },
          "metadata": {
            "tags": []
          },
          "execution_count": 73
        }
      ]
    },
    {
      "metadata": {
        "id": "Hu7_V9AjWH5P",
        "colab_type": "code",
        "colab": {}
      },
      "cell_type": "code",
      "source": [
        "saver = keras.callbacks.ModelCheckpoint(\"/content/gdrive/My Drive/8th Semester Project/weights.{epoch:02d}-{val_loss:.2f}.hdf5\", monitor='val_loss', verbose=0, save_best_only=False, save_weights_only=False, mode='auto', period=1)"
      ],
      "execution_count": 0,
      "outputs": []
    },
    {
      "metadata": {
        "id": "yQiCiWECW6WP",
        "colab_type": "code",
        "colab": {}
      },
      "cell_type": "code",
      "source": [
        "early_stop = keras.callbacks.EarlyStopping(monitor='val_loss', min_delta=0, patience=0, verbose=0, mode='auto', baseline=None, restore_best_weights=False)"
      ],
      "execution_count": 0,
      "outputs": []
    },
    {
      "metadata": {
        "id": "XkEcOsd4OvOf",
        "colab_type": "code",
        "outputId": "e75e9630-8a95-439e-dcae-0977bb385204",
        "colab": {
          "base_uri": "https://localhost:8080/",
          "height": 1814
        }
      },
      "cell_type": "code",
      "source": [
        "model.fit(x_train, y_train,batch_size=batch_size,epochs=number_of_epochs,verbose=1,validation_data=(x_test, y_test))"
      ],
      "execution_count": 0,
      "outputs": [
        {
          "output_type": "stream",
          "text": [
            "Train on 170000 samples, validate on 30000 samples\n",
            "Epoch 1/100\n",
            "170000/170000 [==============================] - 170s 1ms/step - loss: 7.5793 - acc: 0.0048 - val_loss: 5.2990 - val_acc: 0.0045\n",
            "Epoch 2/100\n",
            "170000/170000 [==============================] - 160s 942us/step - loss: 5.2986 - acc: 0.0051 - val_loss: 5.2981 - val_acc: 0.0087\n",
            "Epoch 3/100\n",
            "170000/170000 [==============================] - 160s 944us/step - loss: 5.2828 - acc: 0.0071 - val_loss: 5.1637 - val_acc: 0.0090\n",
            "Epoch 4/100\n",
            "170000/170000 [==============================] - 160s 942us/step - loss: 5.1777 - acc: 0.0101 - val_loss: 5.1907 - val_acc: 0.0085\n",
            "Epoch 5/100\n",
            "170000/170000 [==============================] - 160s 941us/step - loss: 5.1375 - acc: 0.0128 - val_loss: 5.1157 - val_acc: 0.0154\n",
            "Epoch 6/100\n",
            "170000/170000 [==============================] - 160s 941us/step - loss: 5.0897 - acc: 0.0164 - val_loss: 5.1105 - val_acc: 0.0146\n",
            "Epoch 7/100\n",
            "170000/170000 [==============================] - 160s 941us/step - loss: 5.0418 - acc: 0.0206 - val_loss: 5.1516 - val_acc: 0.0163\n",
            "Epoch 8/100\n",
            "170000/170000 [==============================] - 160s 940us/step - loss: 4.9741 - acc: 0.0256 - val_loss: 4.9466 - val_acc: 0.0268\n",
            "Epoch 9/100\n",
            "170000/170000 [==============================] - 160s 940us/step - loss: 4.8944 - acc: 0.0309 - val_loss: 4.9735 - val_acc: 0.0290\n",
            "Epoch 10/100\n",
            "170000/170000 [==============================] - 160s 939us/step - loss: 4.8264 - acc: 0.0364 - val_loss: 4.9911 - val_acc: 0.0347\n",
            "Epoch 11/100\n",
            "170000/170000 [==============================] - 160s 940us/step - loss: 4.7650 - acc: 0.0428 - val_loss: 4.8662 - val_acc: 0.0301\n",
            "Epoch 12/100\n",
            "170000/170000 [==============================] - 160s 940us/step - loss: 4.7109 - acc: 0.0482 - val_loss: 4.8290 - val_acc: 0.0359\n",
            "Epoch 13/100\n",
            "170000/170000 [==============================] - 160s 940us/step - loss: 4.6596 - acc: 0.0524 - val_loss: 5.2349 - val_acc: 0.0447\n",
            "Epoch 14/100\n",
            "170000/170000 [==============================] - 160s 940us/step - loss: 4.6103 - acc: 0.0591 - val_loss: 4.8741 - val_acc: 0.0394\n",
            "Epoch 15/100\n",
            "170000/170000 [==============================] - 160s 940us/step - loss: 4.5636 - acc: 0.0632 - val_loss: 5.0722 - val_acc: 0.0448\n",
            "Epoch 16/100\n",
            "170000/170000 [==============================] - 160s 939us/step - loss: 4.5169 - acc: 0.0681 - val_loss: 5.2670 - val_acc: 0.0426\n",
            "Epoch 17/100\n",
            "170000/170000 [==============================] - 160s 940us/step - loss: 4.4730 - acc: 0.0730 - val_loss: 4.4998 - val_acc: 0.0737\n",
            "Epoch 18/100\n",
            "170000/170000 [==============================] - 160s 939us/step - loss: 4.4321 - acc: 0.0769 - val_loss: 4.6631 - val_acc: 0.0588\n",
            "Epoch 19/100\n",
            "170000/170000 [==============================] - 160s 939us/step - loss: 4.4016 - acc: 0.0814 - val_loss: 4.7084 - val_acc: 0.0562\n",
            "Epoch 20/100\n",
            "170000/170000 [==============================] - 160s 939us/step - loss: 4.3561 - acc: 0.0865 - val_loss: 4.6187 - val_acc: 0.0662\n",
            "Epoch 21/100\n",
            "170000/170000 [==============================] - 160s 939us/step - loss: 4.3215 - acc: 0.0891 - val_loss: 4.7039 - val_acc: 0.0736\n",
            "Epoch 22/100\n",
            "170000/170000 [==============================] - 160s 939us/step - loss: 4.2848 - acc: 0.0940 - val_loss: 4.5956 - val_acc: 0.0754\n",
            "Epoch 23/100\n",
            "170000/170000 [==============================] - 160s 939us/step - loss: 4.2552 - acc: 0.0974 - val_loss: 4.6375 - val_acc: 0.0751\n",
            "Epoch 24/100\n",
            "170000/170000 [==============================] - 160s 939us/step - loss: 4.2200 - acc: 0.1015 - val_loss: 4.3410 - val_acc: 0.1105\n",
            "Epoch 25/100\n",
            "170000/170000 [==============================] - 160s 938us/step - loss: 4.1896 - acc: 0.1051 - val_loss: 4.6380 - val_acc: 0.0719\n",
            "Epoch 26/100\n",
            "170000/170000 [==============================] - 160s 939us/step - loss: 4.1471 - acc: 0.1092 - val_loss: 4.5727 - val_acc: 0.0918\n",
            "Epoch 27/100\n",
            "170000/170000 [==============================] - 160s 938us/step - loss: 4.1267 - acc: 0.1129 - val_loss: 4.5570 - val_acc: 0.0976\n",
            "Epoch 28/100\n",
            "170000/170000 [==============================] - 160s 939us/step - loss: 4.0830 - acc: 0.1192 - val_loss: 4.3349 - val_acc: 0.1039\n",
            "Epoch 29/100\n",
            "170000/170000 [==============================] - 160s 939us/step - loss: 4.0573 - acc: 0.1216 - val_loss: 4.3363 - val_acc: 0.1087\n",
            "Epoch 30/100\n",
            "170000/170000 [==============================] - 160s 938us/step - loss: 4.0167 - acc: 0.1275 - val_loss: 4.1742 - val_acc: 0.1221\n",
            "Epoch 31/100\n",
            "170000/170000 [==============================] - 159s 938us/step - loss: 3.9822 - acc: 0.1313 - val_loss: 4.3030 - val_acc: 0.1109\n",
            "Epoch 32/100\n",
            "170000/170000 [==============================] - 159s 938us/step - loss: 3.9505 - acc: 0.1358 - val_loss: 4.3985 - val_acc: 0.1275\n",
            "Epoch 33/100\n",
            "170000/170000 [==============================] - 159s 937us/step - loss: 3.9099 - acc: 0.1404 - val_loss: 4.4000 - val_acc: 0.1012\n",
            "Epoch 34/100\n",
            "170000/170000 [==============================] - 160s 939us/step - loss: 3.8677 - acc: 0.1459 - val_loss: 5.2704 - val_acc: 0.1043\n",
            "Epoch 35/100\n",
            "170000/170000 [==============================] - 159s 938us/step - loss: 3.8223 - acc: 0.1529 - val_loss: 4.9174 - val_acc: 0.1063\n",
            "Epoch 36/100\n",
            "170000/170000 [==============================] - 159s 938us/step - loss: 3.7855 - acc: 0.1581 - val_loss: 4.2391 - val_acc: 0.1466\n",
            "Epoch 37/100\n",
            "170000/170000 [==============================] - 160s 939us/step - loss: 3.7551 - acc: 0.1616 - val_loss: 4.0526 - val_acc: 0.1540\n",
            "Epoch 38/100\n",
            "170000/170000 [==============================] - 159s 938us/step - loss: 3.7182 - acc: 0.1667 - val_loss: 4.5695 - val_acc: 0.1146\n",
            "Epoch 39/100\n",
            "170000/170000 [==============================] - 160s 939us/step - loss: 3.6729 - acc: 0.1711 - val_loss: 5.1490 - val_acc: 0.1177\n",
            "Epoch 40/100\n",
            "170000/170000 [==============================] - 160s 941us/step - loss: 3.6336 - acc: 0.1770 - val_loss: 4.6723 - val_acc: 0.1165\n",
            "Epoch 41/100\n",
            "170000/170000 [==============================] - 160s 939us/step - loss: 3.6038 - acc: 0.1799 - val_loss: 4.2803 - val_acc: 0.1440\n",
            "Epoch 42/100\n",
            "170000/170000 [==============================] - 160s 939us/step - loss: 3.5699 - acc: 0.1845 - val_loss: 4.5481 - val_acc: 0.1220\n",
            "Epoch 43/100\n",
            "170000/170000 [==============================] - 160s 939us/step - loss: 3.5178 - acc: 0.1921 - val_loss: 4.5123 - val_acc: 0.1364\n",
            "Epoch 44/100\n",
            "170000/170000 [==============================] - 160s 939us/step - loss: 3.5049 - acc: 0.1929 - val_loss: 4.6472 - val_acc: 0.1223\n",
            "Epoch 45/100\n",
            "170000/170000 [==============================] - 159s 938us/step - loss: 3.4737 - acc: 0.1981 - val_loss: 4.3034 - val_acc: 0.1505\n",
            "Epoch 46/100\n",
            "170000/170000 [==============================] - 159s 938us/step - loss: 3.4475 - acc: 0.2020 - val_loss: 4.5375 - val_acc: 0.1392\n",
            "Epoch 47/100\n",
            "170000/170000 [==============================] - 159s 938us/step - loss: 3.4100 - acc: 0.2059 - val_loss: 4.2477 - val_acc: 0.1545\n",
            "Epoch 48/100\n",
            "170000/170000 [==============================] - 159s 937us/step - loss: 3.3910 - acc: 0.2078 - val_loss: 4.8102 - val_acc: 0.1518\n",
            "Epoch 49/100\n",
            "170000/170000 [==============================] - 159s 938us/step - loss: 3.3634 - acc: 0.2131 - val_loss: 5.0367 - val_acc: 0.1411\n",
            "Epoch 50/100\n",
            "170000/170000 [==============================] - 160s 938us/step - loss: 3.3237 - acc: 0.2164 - val_loss: 4.4008 - val_acc: 0.1498\n",
            "Epoch 51/100\n",
            "170000/170000 [==============================] - 159s 938us/step - loss: 3.3123 - acc: 0.2216 - val_loss: 4.9968 - val_acc: 0.1328\n",
            "Epoch 52/100\n",
            "170000/170000 [==============================] - 159s 938us/step - loss: 3.2694 - acc: 0.2243 - val_loss: 5.4447 - val_acc: 0.0942\n",
            "Epoch 53/100\n",
            "125440/170000 [=====================>........] - ETA: 39s - loss: 3.2269 - acc: 0.2322"
          ],
          "name": "stdout"
        }
      ]
    },
    {
      "metadata": {
        "id": "lW6HqW237ccw",
        "colab_type": "code",
        "colab": {}
      },
      "cell_type": "code",
      "source": [
        "model.save('/content/gdrive/My Drive/8th Semester Project/my_model_added_reg.h5')"
      ],
      "execution_count": 0,
      "outputs": []
    },
    {
      "metadata": {
        "id": "q7Bq0vg48aWo",
        "colab_type": "code",
        "colab": {}
      },
      "cell_type": "code",
      "source": [
        ""
      ],
      "execution_count": 0,
      "outputs": []
    }
  ]
}