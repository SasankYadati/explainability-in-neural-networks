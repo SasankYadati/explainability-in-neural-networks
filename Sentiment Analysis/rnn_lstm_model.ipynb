{
 "cells": [
  {
   "cell_type": "code",
   "execution_count": 1,
   "metadata": {},
   "outputs": [],
   "source": [
    "  '''\n",
    "Build a LSTM model to perform sentiment analysis on IMDB dataset.\n",
    "Save the model to the disk for further analysis.\n",
    "'''\n",
    "import os\n",
    "os.environ['TF_CPP_MIN_LOG_LEVEL'] = '3'\n",
    "import tensorflow as tf\n",
    "from tensorflow import keras\n",
    "import numpy as np\n"
   ]
  },
  {
   "cell_type": "code",
   "execution_count": 2,
   "metadata": {},
   "outputs": [],
   "source": [
    "VOCAB_SIZE = 10000\n",
    "PAD_VALUE = 0\n",
    "NUM_EPOCHS = 50\n",
    "BATCH_SIZE = 64\n",
    "LEARNING_RATE = 1e-3\n",
    "MAX_SEQ_LEN = 256\n",
    "WORD_VEC_DIMS = 50\n",
    "LSTM_UNITS = 64\n",
    "word_index = {}\n",
    "reverse_word_index = {}"
   ]
  },
  {
   "cell_type": "code",
   "execution_count": 3,
   "metadata": {},
   "outputs": [],
   "source": [
    "input_seq = tf.placeholder(tf.int32, [None, MAX_SEQ_LEN], name='input_seq')\n",
    "target_class = tf.placeholder(tf.float32, [None, 1], name='target_class')"
   ]
  },
  {
   "cell_type": "code",
   "execution_count": 4,
   "metadata": {},
   "outputs": [],
   "source": [
    "def loadData():\n",
    "    imdb = keras.datasets.imdb\n",
    "\n",
    "    (train_data, train_labels), (test_data, test_labels) = imdb.load_data(num_words=VOCAB_SIZE)\n",
    "\n",
    "    train_labels = np.reshape(train_labels, (train_labels.shape[0], 1))\n",
    "    test_labels = np.reshape(test_labels, (test_labels.shape[0], 1))\n",
    "\n",
    "    valid_data = train_data[0:5000]\n",
    "    valid_labels = train_labels[0:5000]\n",
    "\n",
    "    train_data = train_data[5000:]\n",
    "    train_labels = train_labels[5000:]\n",
    "\n",
    "    return imdb, train_data, train_labels, valid_data, valid_labels, test_data, test_labels"
   ]
  },
  {
   "cell_type": "code",
   "execution_count": 5,
   "metadata": {},
   "outputs": [],
   "source": [
    "def decodeExampleText(imdb, text):\n",
    "    '''\n",
    "    for given text, returns decoded form.\n",
    "    numbers=>words\n",
    "    '''\n",
    "    global word_index\n",
    "    global reverse_word_index\n",
    "    word_index = imdb.get_word_index()\n",
    "    # The first indices are reserved\n",
    "    word_index = {k:(v+3) for k,v in word_index.items()} \n",
    "    word_index[\"<PAD>\"] = PAD_VALUE\n",
    "    word_index[\"<START>\"] = 1\n",
    "    word_index[\"<UNK>\"] = 2  # unknown\n",
    "    word_index[\"<UNUSED>\"] = 3\n",
    "\n",
    "    reverse_word_index = dict([(value, key) for (key, value) in word_index.items()])\n",
    "\n",
    "    return ' '.join([reverse_word_index.get(i, '?') for i in text])"
   ]
  },
  {
   "cell_type": "code",
   "execution_count": 6,
   "metadata": {},
   "outputs": [],
   "source": [
    "def preprocessData(train_data, valid_data, test_data):\n",
    "    '''\n",
    "    pad the arrays so they all have the same length,\n",
    "    then create an integer tensor of shape max_length * num_reviews.\n",
    "    we can use an embedding layer capable of handling this shape as the first layer in our network.\n",
    "    '''\n",
    "\n",
    "    train_data = keras.preprocessing.sequence.pad_sequences(train_data, value=PAD_VALUE, padding='post', maxlen=MAX_SEQ_LEN)\n",
    "    valid_data = keras.preprocessing.sequence.pad_sequences(valid_data, value=PAD_VALUE, padding='post', maxlen=MAX_SEQ_LEN)\n",
    "    test_data = keras.preprocessing.sequence.pad_sequences(test_data, value=PAD_VALUE, padding='post', maxlen=MAX_SEQ_LEN)\n",
    "    \n",
    "    train_data = np.reshape(train_data, (train_data.shape[0], MAX_SEQ_LEN))\n",
    "    valid_data = np.reshape(valid_data, (valid_data.shape[0], MAX_SEQ_LEN))\n",
    "    test_data = np.reshape(test_data, (test_data.shape[0], MAX_SEQ_LEN))\n",
    "\n",
    "    return train_data, valid_data, test_data"
   ]
  },
  {
   "cell_type": "code",
   "execution_count": 7,
   "metadata": {},
   "outputs": [],
   "source": [
    "def buildModel():\n",
    "    '''\n",
    "    returns output, cost and optimizer as tensor ops.\n",
    "    '''\n",
    "    # embedding layer\n",
    "    word_vec = tf.Variable(tf.truncated_normal([VOCAB_SIZE, WORD_VEC_DIMS]), dtype=tf.float32, name='Word-Vectors')\n",
    "    input_vec = tf.nn.embedding_lookup(word_vec, input_seq)\n",
    "\n",
    "    # rnn lstm layer\n",
    "    rnn_cell = tf.nn.rnn_cell.LSTMCell(LSTM_UNITS)\n",
    "    rnn_cell = tf.contrib.rnn.DropoutWrapper(cell=rnn_cell, output_keep_prob=0.5)\n",
    "\n",
    "    # finally, the rnn put together\n",
    "    output, _ = tf.nn.dynamic_rnn(rnn_cell, input_vec, dtype=tf.float32)\n",
    "    \n",
    "    output = tf.layers.flatten(output)\n",
    "\n",
    "    output = tf.layers.dense(output, 32)\n",
    "    output = tf.nn.relu(output)\n",
    "\n",
    "    output = tf.layers.dense(output, 1)\n",
    "    output = tf.nn.sigmoid(output)\n",
    "    # prediction = tf.constant(output, name='prediction')\n",
    "\n",
    "    train_summaries = []\n",
    "    valid_summaries = []\n",
    "\n",
    "    loss = tf.losses.sigmoid_cross_entropy(target_class, output)\n",
    "    train_summaries.append(tf.summary.scalar('Training-Loss', loss))\n",
    "    valid_summaries.append(tf.summary.scalar('Validation-Loss', loss))\n",
    "\n",
    "    optimizer = tf.train.AdamOptimizer(LEARNING_RATE).minimize(loss)\n",
    "\n",
    "    # a list of metrics to measure accuracy, precision, recall, f1-score\n",
    "    metrics = []\n",
    "\n",
    "    round_output = tf.round(output)\n",
    "    \n",
    "    accuracy = tf.metrics.accuracy(target_class, round_output, name='Accuracy')\n",
    "    train_summaries.append(tf.summary.scalar('Training-Accuracy', accuracy[0]))\n",
    "    valid_summaries.append(tf.summary.scalar('Validation-Accuracy', accuracy[0]))\n",
    "\n",
    "    precision = tf.metrics.precision(target_class, round_output, name='Precision')\n",
    "    train_summaries.append(tf.summary.scalar('Training-Precision', precision[0]))\n",
    "    valid_summaries.append(tf.summary.scalar('Validation-Precision', precision[0]))\n",
    "\n",
    "    recall = tf.metrics.recall(target_class, round_output, name='Recall')\n",
    "    train_summaries.append(tf.summary.scalar('Training-Recall', recall[0]))\n",
    "    valid_summaries.append(tf.summary.scalar('Validation-Recall', recall[0]))\n",
    "\n",
    "    metrics.append(accuracy)\n",
    "    metrics.append(precision)\n",
    "    metrics.append(recall)\n",
    "\n",
    "    return optimizer, loss, output, metrics, train_summaries, valid_summaries"
   ]
  },
  {
   "cell_type": "code",
   "execution_count": 8,
   "metadata": {},
   "outputs": [
    {
     "name": "stdout",
     "output_type": "stream",
     "text": [
      "Epoch 0\n",
      "Training: Acc - 0.5343049168586731 | Prec - 0.6982543468475342 | Rec - 0.11273276060819626\n",
      "Validation: Acc - 0.5618494749069214 | Prec - 0.7408307790756226 | Rec - 0.1838202029466629\n",
      "Epoch 1\n",
      "Training: Acc - 0.5927066802978516 | Prec - 0.7641863226890564 | Rec - 0.2645968496799469\n",
      "Validation: Acc - 0.6389281153678894 | Prec - 0.8032258152961731 | Rec - 0.36475759744644165\n",
      "Epoch 2\n",
      "Training: Acc - 0.6719136834144592 | Prec - 0.8196855783462524 | Rec - 0.4385366439819336\n",
      "Validation: Acc - 0.6987544894218445 | Prec - 0.8390759229660034 | Rec - 0.4896153509616852\n",
      "Epoch 3\n",
      "Training: Acc - 0.7199364900588989 | Prec - 0.8489757180213928 | Rec - 0.5333247184753418\n",
      "Validation: Acc - 0.7387403249740601 | Prec - 0.8558861613273621 | Rec - 0.5724132657051086\n",
      "Epoch 4\n",
      "Training: Acc - 0.7547988295555115 | Prec - 0.862516462802887 | Rec - 0.6047955751419067\n",
      "Validation: Acc - 0.7685362100601196 | Prec - 0.8701761960983276 | Rec - 0.6298059821128845\n",
      "Epoch 5\n",
      "Training: Acc - 0.7804973721504211 | Prec - 0.8759953379631042 | Rec - 0.6522725224494934\n",
      "Validation: Acc - 0.7909013032913208 | Prec - 0.8826270699501038 | Rec - 0.6697964668273926\n",
      "Epoch 6\n",
      "Training: Acc - 0.8000973463058472 | Prec - 0.8874277472496033 | Rec - 0.6863052845001221\n",
      "Validation: Acc - 0.807380199432373 | Prec - 0.8932700753211975 | Rec - 0.6970789432525635\n",
      "Epoch 7\n",
      "Training: Acc - 0.8144970536231995 | Prec - 0.8976373076438904 | Rec - 0.7089711427688599\n",
      "Validation: Acc - 0.8207327127456665 | Prec - 0.9022115468978882 | Rec - 0.7184486985206604\n",
      "Epoch 8\n",
      "Training: Acc - 0.8266554474830627 | Prec - 0.9054601788520813 | Rec - 0.728574812412262\n",
      "Validation: Acc - 0.8302002549171448 | Prec - 0.9090496301651001 | Rec - 0.7328972816467285\n",
      "Epoch 9\n",
      "Training: Acc - 0.8346731662750244 | Prec - 0.9118346571922302 | Rec - 0.7401463389396667\n",
      "Validation: Acc - 0.8395947813987732 | Prec - 0.9149042963981628 | Rec - 0.7479847073554993\n",
      "Epoch 10\n",
      "Training: Acc - 0.8438277244567871 | Prec - 0.9167007803916931 | Rec - 0.7555968165397644\n",
      "Validation: Acc - 0.8481419086456299 | Prec - 0.9190768003463745 | Rec - 0.7627119421958923\n",
      "Epoch 11\n",
      "Training: Acc - 0.8518390655517578 | Prec - 0.9203717708587646 | Rec - 0.7695816159248352\n",
      "Validation: Acc - 0.8555299639701843 | Prec - 0.9226526618003845 | Rec - 0.7753736972808838\n",
      "Epoch 12\n",
      "Training: Acc - 0.8588165640830994 | Prec - 0.9240756630897522 | Rec - 0.7811717391014099\n",
      "Validation: Acc - 0.8620148301124573 | Prec - 0.9260982871055603 | Rec - 0.7861083745956421\n",
      "Epoch 13\n",
      "Training: Acc - 0.8647907972335815 | Prec - 0.9272944927215576 | Rec - 0.7909844517707825\n",
      "Validation: Acc - 0.8677147626876831 | Prec - 0.9290246963500977 | Rec - 0.7955890893936157\n",
      "Epoch 14\n",
      "Training: Acc - 0.870154857635498 | Prec - 0.9299459457397461 | Rec - 0.7999845743179321\n",
      "Validation: Acc - 0.8727117776870728 | Prec - 0.9315536022186279 | Rec - 0.8038948774337769\n",
      "Epoch 15\n",
      "Training: Acc - 0.8749193549156189 | Prec - 0.932483434677124 | Rec - 0.8077584505081177\n",
      "Validation: Acc - 0.8773485422134399 | Prec - 0.9337906241416931 | Rec - 0.8116768598556519\n",
      "Epoch 16\n",
      "Training: Acc - 0.8794072866439819 | Prec - 0.9344021677970886 | Rec - 0.8155220150947571\n",
      "Validation: Acc - 0.8815665245056152 | Prec - 0.9355923533439636 | Rec - 0.8189621567726135\n",
      "Epoch 17\n",
      "Training: Acc - 0.8834367394447327 | Prec - 0.9362020492553711 | Rec - 0.8223903179168701\n",
      "Validation: Acc - 0.885433554649353 | Prec - 0.9373917579650879 | Rec - 0.8254702687263489\n",
      "Epoch 18\n",
      "Training: Acc - 0.8871088624000549 | Prec - 0.9380093216896057 | Rec - 0.8284605741500854\n",
      "Validation: Acc - 0.8889334797859192 | Prec - 0.9389743208885193 | Rec - 0.8313882350921631\n",
      "Epoch 19\n",
      "Training: Acc - 0.8904215693473816 | Prec - 0.9393283724784851 | Rec - 0.8342342972755432\n",
      "Validation: Acc - 0.8921061158180237 | Prec - 0.940220057964325 | Rec - 0.8369284868240356\n",
      "Epoch 20\n",
      "Training: Acc - 0.8934950232505798 | Prec - 0.9405646324157715 | Rec - 0.8395652174949646\n",
      "Validation: Acc - 0.8950494527816772 | Prec - 0.9413955211639404 | Rec - 0.8420364260673523\n",
      "Epoch 21\n",
      "Training: Acc - 0.896291196346283 | Prec - 0.9417293667793274 | Rec - 0.8443636298179626\n",
      "Validation: Acc - 0.8976781368255615 | Prec - 0.9423255920410156 | Rec - 0.8467101454734802\n",
      "Epoch 22\n",
      "Training: Acc - 0.8988381624221802 | Prec - 0.9424961805343628 | Rec - 0.8490243554115295\n",
      "Validation: Acc - 0.9001976251602173 | Prec - 0.9433238506317139 | Rec - 0.8510728478431702\n",
      "Epoch 23\n",
      "Training: Acc - 0.901272177696228 | Prec - 0.9437004923820496 | Rec - 0.8529908061027527\n",
      "Validation: Acc - 0.9025238752365112 | Prec - 0.9443342685699463 | Rec - 0.8550030589103699\n",
      "Epoch 24\n",
      "Training: Acc - 0.903509795665741 | Prec - 0.9445168972015381 | Rec - 0.8569263815879822\n",
      "Validation: Acc - 0.9045255780220032 | Prec - 0.9447231292724609 | Rec - 0.8588699698448181\n",
      "Epoch 25\n",
      "Training: Acc - 0.9053932428359985 | Prec - 0.9446311593055725 | Rec - 0.8608205914497375\n",
      "Validation: Acc - 0.9065169095993042 | Prec - 0.9452745318412781 | Rec - 0.8625448346138\n",
      "Epoch 26\n",
      "Training: Acc - 0.9073671698570251 | Prec - 0.9455154538154602 | Rec - 0.8641151785850525\n",
      "Validation: Acc - 0.9084246754646301 | Prec - 0.9461540579795837 | Rec - 0.8657010197639465\n",
      "Epoch 27\n",
      "Training: Acc - 0.9091859459877014 | Prec - 0.9463863968849182 | Rec - 0.8670884370803833\n",
      "Validation: Acc - 0.9101526141166687 | Prec - 0.946903645992279 | Rec - 0.8686037063598633\n",
      "Epoch 28\n",
      "Training: Acc - 0.9108619093894958 | Prec - 0.9469906687736511 | Rec - 0.8700281381607056\n",
      "Validation: Acc - 0.9117646813392639 | Prec - 0.9475758075714111 | Rec - 0.8713362216949463\n",
      "Epoch 29\n",
      "Training: Acc - 0.9124255776405334 | Prec - 0.947842538356781 | Rec - 0.8724714517593384\n",
      "Validation: Acc - 0.9132912755012512 | Prec - 0.9483955502510071 | Rec - 0.8737322688102722\n",
      "Epoch 30\n",
      "Training: Acc - 0.913889467716217 | Prec - 0.9486187100410461 | Rec - 0.874777615070343\n",
      "Validation: Acc - 0.9147175550460815 | Prec - 0.9491100907325745 | Rec - 0.8760208487510681\n",
      "Epoch 31\n",
      "Training: Acc - 0.9152913689613342 | Prec - 0.9492747187614441 | Rec - 0.8770732283592224\n",
      "Validation: Acc - 0.9161067008972168 | Prec - 0.9497586488723755 | Rec - 0.8782958388328552\n",
      "Epoch 32\n",
      "Training: Acc - 0.9166554808616638 | Prec - 0.9498879313468933 | Rec - 0.8793303370475769\n",
      "Validation: Acc - 0.9173957705497742 | Prec - 0.95036780834198 | Rec - 0.8803972005844116\n",
      "Epoch 33\n",
      "Training: Acc - 0.9178801774978638 | Prec - 0.9505571722984314 | Rec - 0.8812326192855835\n",
      "Validation: Acc - 0.9183633923530579 | Prec - 0.9510115385055542 | Rec - 0.8817813992500305\n",
      "Epoch 34\n",
      "Training: Acc - 0.9188064932823181 | Prec - 0.9513581991195679 | Rec - 0.882366955280304\n",
      "Validation: Acc - 0.9194584488868713 | Prec - 0.951805591583252 | Rec - 0.8832790851593018\n",
      "Epoch 35\n",
      "Training: Acc - 0.9199089407920837 | Prec - 0.9520390033721924 | Rec - 0.8839956521987915\n",
      "Validation: Acc - 0.9202929735183716 | Prec - 0.9524513483047485 | Rec - 0.8843778371810913\n",
      "Epoch 36\n",
      "Training: Acc - 0.9206354022026062 | Prec - 0.9527489542961121 | Rec - 0.8847999572753906\n",
      "Validation: Acc - 0.9212630987167358 | Prec - 0.9531527757644653 | Rec - 0.8857046365737915\n",
      "Epoch 37\n",
      "Training: Acc - 0.9216954112052917 | Prec - 0.953332781791687 | Rec - 0.8864362239837646\n",
      "Validation: Acc - 0.922270655632019 | Prec - 0.9537240266799927 | Rec - 0.8872425556182861\n",
      "Epoch 38\n",
      "Training: Acc - 0.9226349592208862 | Prec - 0.9539101123809814 | Rec - 0.8878238797187805\n",
      "Validation: Acc - 0.9232121109962463 | Prec - 0.9542945623397827 | Rec - 0.8886406421661377\n",
      "Epoch 39\n",
      "Training: Acc - 0.9236001372337341 | Prec - 0.9544775485992432 | Rec - 0.8892744779586792\n",
      "Validation: Acc - 0.9241838455200195 | Prec - 0.9548266530036926 | Rec - 0.8901407122612\n",
      "Epoch 40\n",
      "Training: Acc - 0.9245687127113342 | Prec - 0.9549325704574585 | Rec - 0.8908462524414062\n",
      "Validation: Acc - 0.9251096248626709 | Prec - 0.9552817940711975 | Rec - 0.8916219472885132\n",
      "Epoch 41\n",
      "Training: Acc - 0.9254680275917053 | Prec - 0.9554253816604614 | Rec - 0.8922324776649475\n",
      "Validation: Acc - 0.9260072112083435 | Prec - 0.9557489156723022 | Rec - 0.8930302858352661\n",
      "Epoch 42\n",
      "Training: Acc - 0.9263505935668945 | Prec - 0.955833911895752 | Rec - 0.8936688899993896\n",
      "Validation: Acc - 0.9267789125442505 | Prec - 0.9561630487442017 | Rec - 0.8942274451255798\n",
      "Epoch 43\n",
      "Training: Acc - 0.9270651340484619 | Prec - 0.9563509225845337 | Rec - 0.8946400880813599\n",
      "Validation: Acc - 0.9275539517402649 | Prec - 0.956669270992279 | Rec - 0.8953365683555603\n",
      "Epoch 44\n"
     ]
    },
    {
     "name": "stdout",
     "output_type": "stream",
     "text": [
      "Training: Acc - 0.9278790950775146 | Prec - 0.956805408000946 | Rec - 0.8958834409713745\n",
      "Validation: Acc - 0.9283509254455566 | Prec - 0.9571118950843811 | Rec - 0.8965560793876648\n",
      "Epoch 45\n",
      "Training: Acc - 0.9286542534828186 | Prec - 0.9572244882583618 | Rec - 0.8970809578895569\n",
      "Validation: Acc - 0.9291238188743591 | Prec - 0.9575051069259644 | Rec - 0.8977749347686768\n",
      "Epoch 46\n",
      "Training: Acc - 0.9294171333312988 | Prec - 0.957561194896698 | Rec - 0.8983362913131714\n",
      "Validation: Acc - 0.9298571348190308 | Prec - 0.9577893018722534 | Rec - 0.8990216851234436\n",
      "Epoch 47\n",
      "Training: Acc - 0.9301323890686035 | Prec - 0.9577506184577942 | Rec - 0.8996420502662659\n",
      "Validation: Acc - 0.9305700063705444 | Prec - 0.9580284357070923 | Rec - 0.9002712368965149\n",
      "Epoch 48\n",
      "Training: Acc - 0.9308295845985413 | Prec - 0.958109438419342 | Rec - 0.90073561668396\n",
      "Validation: Acc - 0.9312582612037659 | Prec - 0.9583607316017151 | Rec - 0.901373028755188\n",
      "Epoch 49\n",
      "Training: Acc - 0.9315206408500671 | Prec - 0.9583725929260254 | Rec - 0.9019138813018799\n",
      "Validation: Acc - 0.931934118270874 | Prec - 0.9586247801780701 | Rec - 0.9025182127952576\n"
     ]
    }
   ],
   "source": [
    "imdb, train_x, train_y, valid_x, valid_y, test_x, test_y = loadData()\n",
    "train_x, valid_x, test_x = preprocessData(train_x, valid_x, test_x)\n",
    "\n",
    "optimizer, loss, output, metrics, train_summaries, valid_summaries = buildModel()\n",
    "\n",
    "num_batches = train_x.shape[0] // BATCH_SIZE\n",
    "\n",
    "initializer_g = tf.global_variables_initializer()\n",
    "initializer_l = tf.local_variables_initializer()\n",
    "\n",
    "sess = tf.Session()\n",
    "\n",
    "# sess = tf_debug.LocalCLIDebugWrapperSession(sess)\n",
    "# writer = tf.summary.FileWriter(logdir='LOGS/', graph=sess.graph)\n",
    "# saver = tf.train.Saver()\n",
    "# merged = tf.summary.merge_all()\n",
    "\n",
    "sess.run([initializer_g, initializer_l])\n",
    "\n",
    "for epoch in range(NUM_EPOCHS):\n",
    "    print(\"Epoch {}\".format(epoch))\n",
    "\n",
    "    for batch in range(0, num_batches):\n",
    "        l = batch*BATCH_SIZE\n",
    "        r = min((batch+1)*BATCH_SIZE, train_x.shape[0]-1)\n",
    "\n",
    "        batch_x = train_x[l:r]\n",
    "        batch_y = train_y[l:r]\n",
    "\n",
    "        _, _, _, _ = sess.run([optimizer] + metrics, {input_seq: batch_x, target_class: batch_y})\n",
    "\n",
    "    # log summaries every epoch\n",
    "    _, acc_train, prec_train, rec_train = sess.run([train_summaries]+metrics, {input_seq: train_x, target_class: train_y})\n",
    "    _, acc_valid, prec_valid, rec_valid = sess.run([valid_summaries]+metrics, {input_seq: valid_x, target_class: valid_y})\n",
    "\n",
    "    # print metrics\n",
    "    print(\"Training: Acc - {} | Prec - {} | Rec - {}\".format(acc_train[0], prec_train[0], rec_train[0]))\n",
    "    print(\"Validation: Acc - {} | Prec - {} | Rec - {}\".format(acc_valid[0], prec_valid[0], rec_valid[0]))\n",
    "\n",
    "# for t_summ in training_summary:\n",
    "# writer.add_summary(t_summ, epoch)\n",
    "# for v_summ in validation_summary:\n",
    "# writer.add_summary(v_summ, epoch)\n",
    "\n",
    "# saver.save(sess, 'trained-models/rnn-lstm-model')\n",
    "# writer.close()"
   ]
  },
  {
   "cell_type": "code",
   "execution_count": 53,
   "metadata": {},
   "outputs": [],
   "source": [
    "from lime.lime_text import LimeTextExplainer\n",
    "class_names = ['negative','positive']\n",
    "explainer = LimeTextExplainer(class_names=class_names, split_expression=r'\\s+')"
   ]
  },
  {
   "cell_type": "code",
   "execution_count": 54,
   "metadata": {},
   "outputs": [],
   "source": [
    "def make_prediction(strings):\n",
    "    '''\n",
    "    takes a list of d strings \n",
    "    and outputs a (d, k) numpy array with prediction probabilities, \n",
    "    where k is the numb/er of classes\n",
    "    '''\n",
    "    # convert d strings into shape (d,MAX_SEQ_LEN)\n",
    "    global word_index\n",
    "    for j in range(0,len(strings)):\n",
    "        strings[j] = strings[j].split(' ')\n",
    "        for i in range(0,len(strings[j])):\n",
    "            if strings[j][i] in word_index.keys():\n",
    "                strings[j][i] = word_index[strings[j][i]]\n",
    "            else:\n",
    "                strings[j][i] = word_index[\"<UNK>\"]\n",
    "    strings = np.array(strings)\n",
    "    print(strings.shape)\n",
    "    # calculate the output\n",
    "    pred = sess.run(output, {input_seq: strings})\n",
    "    \n",
    "    # reshape it into (d,NUM_CLASSES) corresponding to d output probability distributions\n",
    "    pred = pred.tolist()\n",
    "    for i in range(0, len(pred)):\n",
    "        pred[i].insert(0,1-pred[i][0])\n",
    "    \n",
    "    return np.array(pred)\n"
   ]
  },
  {
   "cell_type": "code",
   "execution_count": 55,
   "metadata": {},
   "outputs": [
    {
     "name": "stdout",
     "output_type": "stream",
     "text": [
      "(10, 256)\n",
      "(5000, 256)\n"
     ]
    },
    {
     "name": "stderr",
     "output_type": "stream",
     "text": [
      "c:\\users\\sai sasank y\\appdata\\local\\programs\\python\\python36\\lib\\re.py:212: FutureWarning: split() requires a non-empty pattern match.\n",
      "  return _compile(pattern, flags).split(string, maxsplit)\n"
     ]
    },
    {
     "name": "stdout",
     "output_type": "stream",
     "text": [
      "(5000, 256)\n"
     ]
    },
    {
     "name": "stderr",
     "output_type": "stream",
     "text": [
      "c:\\users\\sai sasank y\\appdata\\local\\programs\\python\\python36\\lib\\re.py:212: FutureWarning: split() requires a non-empty pattern match.\n",
      "  return _compile(pattern, flags).split(string, maxsplit)\n"
     ]
    },
    {
     "name": "stdout",
     "output_type": "stream",
     "text": [
      "(5000, 256)\n"
     ]
    },
    {
     "name": "stderr",
     "output_type": "stream",
     "text": [
      "c:\\users\\sai sasank y\\appdata\\local\\programs\\python\\python36\\lib\\re.py:212: FutureWarning: split() requires a non-empty pattern match.\n",
      "  return _compile(pattern, flags).split(string, maxsplit)\n"
     ]
    },
    {
     "name": "stdout",
     "output_type": "stream",
     "text": [
      "(5000, 256)\n"
     ]
    },
    {
     "name": "stderr",
     "output_type": "stream",
     "text": [
      "c:\\users\\sai sasank y\\appdata\\local\\programs\\python\\python36\\lib\\re.py:212: FutureWarning: split() requires a non-empty pattern match.\n",
      "  return _compile(pattern, flags).split(string, maxsplit)\n"
     ]
    },
    {
     "name": "stdout",
     "output_type": "stream",
     "text": [
      "(5000, 256)\n"
     ]
    },
    {
     "name": "stderr",
     "output_type": "stream",
     "text": [
      "c:\\users\\sai sasank y\\appdata\\local\\programs\\python\\python36\\lib\\re.py:212: FutureWarning: split() requires a non-empty pattern match.\n",
      "  return _compile(pattern, flags).split(string, maxsplit)\n"
     ]
    },
    {
     "name": "stdout",
     "output_type": "stream",
     "text": [
      "(5000, 256)\n"
     ]
    },
    {
     "name": "stderr",
     "output_type": "stream",
     "text": [
      "c:\\users\\sai sasank y\\appdata\\local\\programs\\python\\python36\\lib\\re.py:212: FutureWarning: split() requires a non-empty pattern match.\n",
      "  return _compile(pattern, flags).split(string, maxsplit)\n"
     ]
    },
    {
     "name": "stdout",
     "output_type": "stream",
     "text": [
      "(5000, 256)\n"
     ]
    },
    {
     "name": "stderr",
     "output_type": "stream",
     "text": [
      "c:\\users\\sai sasank y\\appdata\\local\\programs\\python\\python36\\lib\\re.py:212: FutureWarning: split() requires a non-empty pattern match.\n",
      "  return _compile(pattern, flags).split(string, maxsplit)\n"
     ]
    },
    {
     "name": "stdout",
     "output_type": "stream",
     "text": [
      "(5000, 256)\n"
     ]
    },
    {
     "name": "stderr",
     "output_type": "stream",
     "text": [
      "c:\\users\\sai sasank y\\appdata\\local\\programs\\python\\python36\\lib\\re.py:212: FutureWarning: split() requires a non-empty pattern match.\n",
      "  return _compile(pattern, flags).split(string, maxsplit)\n"
     ]
    },
    {
     "name": "stdout",
     "output_type": "stream",
     "text": [
      "(5000, 256)\n"
     ]
    },
    {
     "name": "stderr",
     "output_type": "stream",
     "text": [
      "c:\\users\\sai sasank y\\appdata\\local\\programs\\python\\python36\\lib\\re.py:212: FutureWarning: split() requires a non-empty pattern match.\n",
      "  return _compile(pattern, flags).split(string, maxsplit)\n"
     ]
    },
    {
     "name": "stdout",
     "output_type": "stream",
     "text": [
      "(5000, 256)\n"
     ]
    }
   ],
   "source": [
    "import random\n",
    "NUM_SAMPLES = 10\n",
    "strings_to_explain = []\n",
    "correct_op = []\n",
    "for i in range(0,NUM_SAMPLES):\n",
    "    rand_ind = random.randint(0,train_x.shape[0]-1)\n",
    "    sample_x = train_x[rand_ind]\n",
    "    sample_y = train_y[rand_ind]\n",
    "    \n",
    "    sample_x  = decodeExampleText(imdb, sample_x)\n",
    "    \n",
    "    strings_to_explain.append(sample_x)\n",
    "    correct_op.append(sample_y)\n",
    "\n",
    "strings = list(strings_to_explain)\n",
    "pred = make_prediction(strings)  \n",
    "\n",
    "# for i in range(0,len(strings_to_explain)):\n",
    "#     print(strings_to_explain[i])\n",
    "#     print(pred[i])\n",
    "#     print(\"------------------------------------------------------------------\")\n"
   ]
  },
  {
   "cell_type": "code",
   "execution_count": 60,
   "metadata": {},
   "outputs": [
    {
     "name": "stderr",
     "output_type": "stream",
     "text": [
      "c:\\users\\sai sasank y\\appdata\\local\\programs\\python\\python36\\lib\\re.py:212: FutureWarning: split() requires a non-empty pattern match.\n",
      "  return _compile(pattern, flags).split(string, maxsplit)\n"
     ]
    },
    {
     "name": "stdout",
     "output_type": "stream",
     "text": [
      "(5000, 256)\n"
     ]
    },
    {
     "name": "stderr",
     "output_type": "stream",
     "text": [
      "c:\\users\\sai sasank y\\appdata\\local\\programs\\python\\python36\\lib\\re.py:212: FutureWarning: split() requires a non-empty pattern match.\n",
      "  return _compile(pattern, flags).split(string, maxsplit)\n"
     ]
    },
    {
     "name": "stdout",
     "output_type": "stream",
     "text": [
      "(5000, 256)\n"
     ]
    },
    {
     "name": "stderr",
     "output_type": "stream",
     "text": [
      "c:\\users\\sai sasank y\\appdata\\local\\programs\\python\\python36\\lib\\re.py:212: FutureWarning: split() requires a non-empty pattern match.\n",
      "  return _compile(pattern, flags).split(string, maxsplit)\n"
     ]
    },
    {
     "name": "stdout",
     "output_type": "stream",
     "text": [
      "(5000, 256)\n"
     ]
    },
    {
     "name": "stderr",
     "output_type": "stream",
     "text": [
      "c:\\users\\sai sasank y\\appdata\\local\\programs\\python\\python36\\lib\\re.py:212: FutureWarning: split() requires a non-empty pattern match.\n",
      "  return _compile(pattern, flags).split(string, maxsplit)\n"
     ]
    },
    {
     "name": "stdout",
     "output_type": "stream",
     "text": [
      "(5000, 256)\n"
     ]
    },
    {
     "name": "stderr",
     "output_type": "stream",
     "text": [
      "c:\\users\\sai sasank y\\appdata\\local\\programs\\python\\python36\\lib\\re.py:212: FutureWarning: split() requires a non-empty pattern match.\n",
      "  return _compile(pattern, flags).split(string, maxsplit)\n"
     ]
    },
    {
     "name": "stdout",
     "output_type": "stream",
     "text": [
      "(5000, 256)\n"
     ]
    },
    {
     "name": "stderr",
     "output_type": "stream",
     "text": [
      "c:\\users\\sai sasank y\\appdata\\local\\programs\\python\\python36\\lib\\re.py:212: FutureWarning: split() requires a non-empty pattern match.\n",
      "  return _compile(pattern, flags).split(string, maxsplit)\n"
     ]
    },
    {
     "name": "stdout",
     "output_type": "stream",
     "text": [
      "(5000, 256)\n"
     ]
    },
    {
     "name": "stderr",
     "output_type": "stream",
     "text": [
      "c:\\users\\sai sasank y\\appdata\\local\\programs\\python\\python36\\lib\\re.py:212: FutureWarning: split() requires a non-empty pattern match.\n",
      "  return _compile(pattern, flags).split(string, maxsplit)\n"
     ]
    },
    {
     "name": "stdout",
     "output_type": "stream",
     "text": [
      "(5000, 256)\n"
     ]
    },
    {
     "name": "stderr",
     "output_type": "stream",
     "text": [
      "c:\\users\\sai sasank y\\appdata\\local\\programs\\python\\python36\\lib\\re.py:212: FutureWarning: split() requires a non-empty pattern match.\n",
      "  return _compile(pattern, flags).split(string, maxsplit)\n"
     ]
    },
    {
     "name": "stdout",
     "output_type": "stream",
     "text": [
      "(5000, 256)\n"
     ]
    },
    {
     "name": "stderr",
     "output_type": "stream",
     "text": [
      "c:\\users\\sai sasank y\\appdata\\local\\programs\\python\\python36\\lib\\re.py:212: FutureWarning: split() requires a non-empty pattern match.\n",
      "  return _compile(pattern, flags).split(string, maxsplit)\n"
     ]
    },
    {
     "name": "stdout",
     "output_type": "stream",
     "text": [
      "(5000, 256)\n"
     ]
    },
    {
     "name": "stderr",
     "output_type": "stream",
     "text": [
      "c:\\users\\sai sasank y\\appdata\\local\\programs\\python\\python36\\lib\\re.py:212: FutureWarning: split() requires a non-empty pattern match.\n",
      "  return _compile(pattern, flags).split(string, maxsplit)\n"
     ]
    },
    {
     "name": "stdout",
     "output_type": "stream",
     "text": [
      "(5000, 256)\n"
     ]
    },
    {
     "data": {
      "image/png": "[encoded data removed]",
      "text/plain": [
       "<Figure size 432x288 with 1 Axes>"
      ]
     },
     "metadata": {
      "needs_background": "light"
     },
     "output_type": "display_data"
    },
    {
     "data": {
      "image/png": "[encoded data removed]",
      "text/plain": [
       "<Figure size 432x288 with 1 Axes>"
      ]
     },
     "metadata": {
      "needs_background": "light"
     },
     "output_type": "display_data"
    },
    {
     "data": {
      "image/png": "[encoded data removed]",
      "text/plain": [
       "<Figure size 432x288 with 1 Axes>"
      ]
     },
     "metadata": {
      "needs_background": "light"
     },
     "output_type": "display_data"
    },
    {
     "data": {
      "image/png": "[encoded data removed]",
      "text/plain": [
       "<Figure size 432x288 with 1 Axes>"
      ]
     },
     "metadata": {
      "needs_background": "light"
     },
     "output_type": "display_data"
    },
    {
     "data": {
      "image/png": "[encoded data removed]",
      "text/plain": [
       "<Figure size 432x288 with 1 Axes>"
      ]
     },
     "metadata": {
      "needs_background": "light"
     },
     "output_type": "display_data"
    },
    {
     "data": {
      "image/png": "[encoded data removed]",
      "text/plain": [
       "<Figure size 432x288 with 1 Axes>"
      ]
     },
     "metadata": {
      "needs_background": "light"
     },
     "output_type": "display_data"
    },
    {
     "data": {
      "image/png": "[encoded data removed]",
      "text/plain": [
       "<Figure size 432x288 with 1 Axes>"
      ]
     },
     "metadata": {
      "needs_background": "light"
     },
     "output_type": "display_data"
    },
    {
     "data": {
      "image/png": "[encoded data removed]",
      "text/plain": [
       "<Figure size 432x288 with 1 Axes>"
      ]
     },
     "metadata": {
      "needs_background": "light"
     },
     "output_type": "display_data"
    },
    {
     "data": {
      "image/png": "[encoded data removed]",
      "text/plain": [
       "<Figure size 432x288 with 1 Axes>"
      ]
     },
     "metadata": {
      "needs_background": "light"
     },
     "output_type": "display_data"
    },
    {
     "data": {
      "image/png": "[encoded data removed]",
      "text/plain": [
       "<Figure size 432x288 with 1 Axes>"
      ]
     },
     "metadata": {
      "needs_background": "light"
     },
     "output_type": "display_data"
    }
   ],
   "source": [
    "import matplotlib\n",
    "%matplotlib inline\n",
    "\n",
    "for text in strings_to_explain:\n",
    "    exp = explainer.explain_instance(text, make_prediction)\n",
    "    fig = exp.as_pyplot_figure()"
   ]
  },
  {
   "cell_type": "code",
   "execution_count": null,
   "metadata": {},
   "outputs": [],
   "source": []
  }
 ],
 "metadata": {
  "kernelspec": {
   "display_name": "Python 3",
   "language": "python",
   "name": "python3"
  },
  "language_info": {
   "codemirror_mode": {
    "name": "ipython",
    "version": 3
   },
   "file_extension": ".py",
   "mimetype": "text/x-python",
   "name": "python",
   "nbconvert_exporter": "python",
   "pygments_lexer": "ipython3",
   "version": "3.6.0"
  }
 },
 "nbformat": 4,
 "nbformat_minor": 2
}
