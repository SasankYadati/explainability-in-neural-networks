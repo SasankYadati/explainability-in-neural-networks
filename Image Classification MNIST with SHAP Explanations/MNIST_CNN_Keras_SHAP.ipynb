{
  "nbformat": 4,
  "nbformat_minor": 0,
  "metadata": {
    "colab": {
      "name": "MNIST CNN Keras",
      "version": "0.3.2",
      "provenance": [],
      "collapsed_sections": []
    },
    "kernelspec": {
      "name": "python3",
      "display_name": "Python 3"
    },
    "accelerator": "GPU"
  },
  "cells": [
    {
      "metadata": {
        "id": "ghusoD2aTE85",
        "colab_type": "code",
        "colab": {
          "base_uri": "https://localhost:8080/",
          "height": 34
        },
        "outputId": "2d2eb0de-981d-4043-c053-02986653f8ca"
      },
      "cell_type": "code",
      "source": [
        "import keras"
      ],
      "execution_count": 1,
      "outputs": [
        {
          "output_type": "stream",
          "text": [
            "Using TensorFlow backend.\n"
          ],
          "name": "stderr"
        }
      ]
    },
    {
      "metadata": {
        "id": "V-HoQ1x9a0YV",
        "colab_type": "code",
        "colab": {}
      },
      "cell_type": "code",
      "source": [
        "#Using Keras and building a CNN Model and then getting explanations using SHAP"
      ],
      "execution_count": 0,
      "outputs": []
    },
    {
      "metadata": {
        "id": "WF3VyPRPXV2H",
        "colab_type": "code",
        "colab": {}
      },
      "cell_type": "code",
      "source": [
        "import numpy as np"
      ],
      "execution_count": 0,
      "outputs": []
    },
    {
      "metadata": {
        "id": "K_4zU497TMeA",
        "colab_type": "code",
        "colab": {}
      },
      "cell_type": "code",
      "source": [
        "from keras.datasets import mnist\n",
        "\n",
        "(train_x, train_y), (test_x, test_y) = mnist.load_data()"
      ],
      "execution_count": 0,
      "outputs": []
    },
    {
      "metadata": {
        "id": "HBDLNzxNTPOR",
        "colab_type": "code",
        "colab": {}
      },
      "cell_type": "code",
      "source": [
        "image = (train_x[0].reshape(28,28))"
      ],
      "execution_count": 0,
      "outputs": []
    },
    {
      "metadata": {
        "id": "on5NRdl5Tecn",
        "colab_type": "code",
        "colab": {}
      },
      "cell_type": "code",
      "source": [
        "import matplotlib.pyplot as plt"
      ],
      "execution_count": 0,
      "outputs": []
    },
    {
      "metadata": {
        "id": "ed6LXbw-Tf8U",
        "colab_type": "code",
        "colab": {
          "base_uri": "https://localhost:8080/",
          "height": 364
        },
        "outputId": "16c4495a-fd66-48f4-8200-6dfbc82c0f0e"
      },
      "cell_type": "code",
      "source": [
        "plt.imshow(image)"
      ],
      "execution_count": 6,
      "outputs": [
        {
          "output_type": "execute_result",
          "data": {
            "text/plain": [
              "<matplotlib.image.AxesImage at 0x7f6521371668>"
            ]
          },
          "metadata": {
            "tags": []
          },
          "execution_count": 6
        },
        {
          "output_type": "display_data",
          "data": {
            "image/png": "[encoded data removed]",
            "text/plain": [
              "<Figure size 576x396 with 1 Axes>"
            ]
          },
          "metadata": {
            "tags": []
          }
        }
      ]
    },
    {
      "metadata": {
        "id": "zVDZ1nQoThvO",
        "colab_type": "code",
        "colab": {
          "base_uri": "https://localhost:8080/",
          "height": 34
        },
        "outputId": "61e6c124-fd80-4350-c769-3e3b43a36eba"
      },
      "cell_type": "code",
      "source": [
        "train_x.shape"
      ],
      "execution_count": 7,
      "outputs": [
        {
          "output_type": "execute_result",
          "data": {
            "text/plain": [
              "(60000, 28, 28)"
            ]
          },
          "metadata": {
            "tags": []
          },
          "execution_count": 7
        }
      ]
    },
    {
      "metadata": {
        "id": "RAnt2X6GTxne",
        "colab_type": "code",
        "colab": {}
      },
      "cell_type": "code",
      "source": [
        "train_x = train_x.astype('float32')"
      ],
      "execution_count": 0,
      "outputs": []
    },
    {
      "metadata": {
        "id": "01a05fSZT5Ao",
        "colab_type": "code",
        "colab": {}
      },
      "cell_type": "code",
      "source": [
        "train_x/=255"
      ],
      "execution_count": 0,
      "outputs": []
    },
    {
      "metadata": {
        "id": "I4jF8E2xT9T0",
        "colab_type": "code",
        "colab": {}
      },
      "cell_type": "code",
      "source": [
        "image = (train_x[0].reshape(28,28))"
      ],
      "execution_count": 0,
      "outputs": []
    },
    {
      "metadata": {
        "id": "1MB6UZPLT_OI",
        "colab_type": "code",
        "colab": {
          "base_uri": "https://localhost:8080/",
          "height": 364
        },
        "outputId": "ea31418a-9502-403f-858f-76e507c40ca5"
      },
      "cell_type": "code",
      "source": [
        "plt.imshow(image)"
      ],
      "execution_count": 12,
      "outputs": [
        {
          "output_type": "execute_result",
          "data": {
            "text/plain": [
              "<matplotlib.image.AxesImage at 0x7f651f279320>"
            ]
          },
          "metadata": {
            "tags": []
          },
          "execution_count": 12
        },
        {
          "output_type": "display_data",
          "data": {
            "image/png": "[encoded data removed]",
            "text/plain": [
              "<Figure size 576x396 with 1 Axes>"
            ]
          },
          "metadata": {
            "tags": []
          }
        }
      ]
    },
    {
      "metadata": {
        "id": "AQLN6HYIUA09",
        "colab_type": "code",
        "colab": {}
      },
      "cell_type": "code",
      "source": [
        "test_x = test_x.astype('float32')"
      ],
      "execution_count": 0,
      "outputs": []
    },
    {
      "metadata": {
        "id": "BCWARkX3UE6i",
        "colab_type": "code",
        "colab": {}
      },
      "cell_type": "code",
      "source": [
        "test_x/=255"
      ],
      "execution_count": 0,
      "outputs": []
    },
    {
      "metadata": {
        "id": "1OaVer6tUQgh",
        "colab_type": "code",
        "colab": {}
      },
      "cell_type": "code",
      "source": [
        "from keras.utils import to_categorical"
      ],
      "execution_count": 0,
      "outputs": []
    },
    {
      "metadata": {
        "id": "i8FW0P67Uif2",
        "colab_type": "code",
        "colab": {}
      },
      "cell_type": "code",
      "source": [
        "train_y = to_categorical(train_y)"
      ],
      "execution_count": 0,
      "outputs": []
    },
    {
      "metadata": {
        "id": "tG0wF9NeUlTy",
        "colab_type": "code",
        "colab": {}
      },
      "cell_type": "code",
      "source": [
        "test_y = to_categorical(test_y)"
      ],
      "execution_count": 0,
      "outputs": []
    },
    {
      "metadata": {
        "id": "s2XhRF28Unf2",
        "colab_type": "code",
        "colab": {}
      },
      "cell_type": "code",
      "source": [
        "#CNN Model"
      ],
      "execution_count": 0,
      "outputs": []
    },
    {
      "metadata": {
        "id": "mFGyMOaTUvFT",
        "colab_type": "code",
        "colab": {}
      },
      "cell_type": "code",
      "source": [
        "#Let our model have three Convolutional Layers\n",
        "\n",
        "#The first layer will have 16 3X3 filters.\n",
        "#The second layer will have 32 3X3 filters.\n",
        "#The third layer will have 64 3X3 filters.\n",
        "\n",
        "#Each layer will have a corresponding bias term as well.\n",
        "\n",
        "#At the end of each layer we will have a max pooling layer performing the pooling operation\n",
        "#The pool will be done by a 2X2 filter.\n",
        "\n",
        "#We will then flatten the output from the last convolution layer to feed it as the input to the fully connected layer."
      ],
      "execution_count": 0,
      "outputs": []
    },
    {
      "metadata": {
        "id": "Mv10XXjEU0M7",
        "colab_type": "code",
        "colab": {}
      },
      "cell_type": "code",
      "source": [
        "from keras.models import Sequential"
      ],
      "execution_count": 0,
      "outputs": []
    },
    {
      "metadata": {
        "id": "N0mPJU6TVKFF",
        "colab_type": "code",
        "colab": {}
      },
      "cell_type": "code",
      "source": [
        "from keras.layers import Conv2D\n",
        "from keras.layers import MaxPooling2D\n",
        "from keras.layers import Dense, Dropout, Flatten"
      ],
      "execution_count": 0,
      "outputs": []
    },
    {
      "metadata": {
        "id": "jE3uGVDkVwXl",
        "colab_type": "code",
        "colab": {}
      },
      "cell_type": "code",
      "source": [
        "input_shape = train_x[0].shape"
      ],
      "execution_count": 0,
      "outputs": []
    },
    {
      "metadata": {
        "id": "DIIhQ_w2V1O0",
        "colab_type": "code",
        "colab": {
          "base_uri": "https://localhost:8080/",
          "height": 34
        },
        "outputId": "04075a08-b7a3-4d06-f98b-d17b92dd040a"
      },
      "cell_type": "code",
      "source": [
        "input_shape"
      ],
      "execution_count": 29,
      "outputs": [
        {
          "output_type": "execute_result",
          "data": {
            "text/plain": [
              "(28, 28)"
            ]
          },
          "metadata": {
            "tags": []
          },
          "execution_count": 29
        }
      ]
    },
    {
      "metadata": {
        "id": "NuBeuaysU9qV",
        "colab_type": "code",
        "colab": {}
      },
      "cell_type": "code",
      "source": [
        "batch_size = 128\n",
        "num_classes = 10\n",
        "number_of_epochs = 50"
      ],
      "execution_count": 0,
      "outputs": []
    },
    {
      "metadata": {
        "id": "GFWgVfkeU4rN",
        "colab_type": "code",
        "colab": {}
      },
      "cell_type": "code",
      "source": [
        "model = Sequential()"
      ],
      "execution_count": 0,
      "outputs": []
    },
    {
      "metadata": {
        "id": "1M7Nd4CpU6wk",
        "colab_type": "code",
        "colab": {}
      },
      "cell_type": "code",
      "source": [
        "model.add(Conv2D(16,kernel_size = (3,3),activation = 'relu', input_shape = (28,28,1)))"
      ],
      "execution_count": 0,
      "outputs": []
    },
    {
      "metadata": {
        "id": "U_xgNzdSV4GR",
        "colab_type": "code",
        "colab": {}
      },
      "cell_type": "code",
      "source": [
        "model.add(MaxPooling2D(pool_size=(2, 2)))"
      ],
      "execution_count": 0,
      "outputs": []
    },
    {
      "metadata": {
        "id": "LixVfdaJWLS7",
        "colab_type": "code",
        "colab": {}
      },
      "cell_type": "code",
      "source": [
        "model.add(Conv2D(32,kernel_size = (3,3),activation = 'relu'))"
      ],
      "execution_count": 0,
      "outputs": []
    },
    {
      "metadata": {
        "id": "1oC7-SDGWW3r",
        "colab_type": "code",
        "colab": {}
      },
      "cell_type": "code",
      "source": [
        "model.add(MaxPooling2D(pool_size=(2, 2)))"
      ],
      "execution_count": 0,
      "outputs": []
    },
    {
      "metadata": {
        "id": "eyL2MtvEWYCV",
        "colab_type": "code",
        "colab": {}
      },
      "cell_type": "code",
      "source": [
        "model.add(Conv2D(64,kernel_size = (3,3),activation = 'relu'))"
      ],
      "execution_count": 0,
      "outputs": []
    },
    {
      "metadata": {
        "id": "BKGFdoDtWdIb",
        "colab_type": "code",
        "colab": {}
      },
      "cell_type": "code",
      "source": [
        "model.add(MaxPooling2D(pool_size=(2, 2)))"
      ],
      "execution_count": 0,
      "outputs": []
    },
    {
      "metadata": {
        "id": "VN2B38WqWeNB",
        "colab_type": "code",
        "colab": {}
      },
      "cell_type": "code",
      "source": [
        "model.add(Dropout(0.25))\n",
        "model.add(Flatten())\n",
        "model.add(Dense(128, activation='relu'))\n",
        "model.add(Dropout(0.5))\n",
        "model.add(Dense(num_classes, activation='softmax'))"
      ],
      "execution_count": 0,
      "outputs": []
    },
    {
      "metadata": {
        "id": "BTavkt_qWr7W",
        "colab_type": "code",
        "colab": {}
      },
      "cell_type": "code",
      "source": [
        "model.compile(loss=keras.losses.categorical_crossentropy,optimizer=keras.optimizers.Adadelta(),metrics=['accuracy'])\n"
      ],
      "execution_count": 0,
      "outputs": []
    },
    {
      "metadata": {
        "id": "wNycO0N4XO0p",
        "colab_type": "code",
        "colab": {}
      },
      "cell_type": "code",
      "source": [
        "train_x = np.reshape(train_x,(-1,28,28,1))"
      ],
      "execution_count": 0,
      "outputs": []
    },
    {
      "metadata": {
        "id": "d7PguCYYXeaI",
        "colab_type": "code",
        "colab": {}
      },
      "cell_type": "code",
      "source": [
        "test_x = np.reshape(test_x,(-1,28,28,1))"
      ],
      "execution_count": 0,
      "outputs": []
    },
    {
      "metadata": {
        "id": "3Iujv-QeW66a",
        "colab_type": "code",
        "colab": {
          "base_uri": "https://localhost:8080/",
          "height": 1730
        },
        "outputId": "13fe3993-5349-4f30-ea8b-560ae85486b9"
      },
      "cell_type": "code",
      "source": [
        "model.fit(train_x, train_y,batch_size=batch_size,epochs=number_of_epochs,verbose=1,validation_data=(test_x, test_y))"
      ],
      "execution_count": 48,
      "outputs": [
        {
          "output_type": "stream",
          "text": [
            "Train on 60000 samples, validate on 10000 samples\n",
            "Epoch 1/50\n",
            "60000/60000 [==============================] - 7s 124us/step - loss: 0.6266 - acc: 0.7986 - val_loss: 0.1216 - val_acc: 0.9634\n",
            "Epoch 2/50\n",
            "60000/60000 [==============================] - 6s 94us/step - loss: 0.1954 - acc: 0.9429 - val_loss: 0.0812 - val_acc: 0.9735\n",
            "Epoch 3/50\n",
            "60000/60000 [==============================] - 6s 93us/step - loss: 0.1460 - acc: 0.9580 - val_loss: 0.0715 - val_acc: 0.9766\n",
            "Epoch 4/50\n",
            "60000/60000 [==============================] - 6s 94us/step - loss: 0.1238 - acc: 0.9651 - val_loss: 0.0643 - val_acc: 0.9794\n",
            "Epoch 5/50\n",
            "60000/60000 [==============================] - 6s 93us/step - loss: 0.1093 - acc: 0.9687 - val_loss: 0.0580 - val_acc: 0.9817\n",
            "Epoch 6/50\n",
            "60000/60000 [==============================] - 6s 95us/step - loss: 0.0971 - acc: 0.9728 - val_loss: 0.0614 - val_acc: 0.9814\n",
            "Epoch 7/50\n",
            "60000/60000 [==============================] - 6s 94us/step - loss: 0.0881 - acc: 0.9751 - val_loss: 0.0570 - val_acc: 0.9831\n",
            "Epoch 8/50\n",
            "60000/60000 [==============================] - 6s 94us/step - loss: 0.0831 - acc: 0.9762 - val_loss: 0.0570 - val_acc: 0.9836\n",
            "Epoch 9/50\n",
            "60000/60000 [==============================] - 6s 94us/step - loss: 0.0772 - acc: 0.9780 - val_loss: 0.0486 - val_acc: 0.9852\n",
            "Epoch 10/50\n",
            "60000/60000 [==============================] - 6s 95us/step - loss: 0.0735 - acc: 0.9789 - val_loss: 0.0577 - val_acc: 0.9836\n",
            "Epoch 11/50\n",
            "60000/60000 [==============================] - 6s 94us/step - loss: 0.0663 - acc: 0.9823 - val_loss: 0.0505 - val_acc: 0.9852\n",
            "Epoch 12/50\n",
            "60000/60000 [==============================] - 6s 94us/step - loss: 0.0636 - acc: 0.9812 - val_loss: 0.0550 - val_acc: 0.9842\n",
            "Epoch 13/50\n",
            "60000/60000 [==============================] - 6s 94us/step - loss: 0.0605 - acc: 0.9828 - val_loss: 0.0481 - val_acc: 0.9853\n",
            "Epoch 14/50\n",
            "60000/60000 [==============================] - 6s 93us/step - loss: 0.0594 - acc: 0.9829 - val_loss: 0.0492 - val_acc: 0.9860\n",
            "Epoch 15/50\n",
            "60000/60000 [==============================] - 6s 92us/step - loss: 0.0547 - acc: 0.9844 - val_loss: 0.0510 - val_acc: 0.9842\n",
            "Epoch 16/50\n",
            "60000/60000 [==============================] - 6s 94us/step - loss: 0.0523 - acc: 0.9852 - val_loss: 0.0569 - val_acc: 0.9856\n",
            "Epoch 17/50\n",
            "60000/60000 [==============================] - 6s 93us/step - loss: 0.0504 - acc: 0.9857 - val_loss: 0.0493 - val_acc: 0.9863\n",
            "Epoch 18/50\n",
            "60000/60000 [==============================] - 6s 93us/step - loss: 0.0501 - acc: 0.9859 - val_loss: 0.0502 - val_acc: 0.9858\n",
            "Epoch 19/50\n",
            "60000/60000 [==============================] - 6s 94us/step - loss: 0.0480 - acc: 0.9863 - val_loss: 0.0695 - val_acc: 0.9833\n",
            "Epoch 20/50\n",
            "60000/60000 [==============================] - 6s 94us/step - loss: 0.0472 - acc: 0.9861 - val_loss: 0.0589 - val_acc: 0.9826\n",
            "Epoch 21/50\n",
            "60000/60000 [==============================] - 6s 94us/step - loss: 0.0440 - acc: 0.9874 - val_loss: 0.0565 - val_acc: 0.9857\n",
            "Epoch 22/50\n",
            "60000/60000 [==============================] - 6s 94us/step - loss: 0.0429 - acc: 0.9874 - val_loss: 0.0481 - val_acc: 0.9860\n",
            "Epoch 23/50\n",
            "60000/60000 [==============================] - 6s 93us/step - loss: 0.0440 - acc: 0.9875 - val_loss: 0.0495 - val_acc: 0.9867\n",
            "Epoch 24/50\n",
            "60000/60000 [==============================] - 6s 94us/step - loss: 0.0415 - acc: 0.9878 - val_loss: 0.0558 - val_acc: 0.9868\n",
            "Epoch 25/50\n",
            "60000/60000 [==============================] - 6s 94us/step - loss: 0.0405 - acc: 0.9886 - val_loss: 0.0485 - val_acc: 0.9864\n",
            "Epoch 26/50\n",
            "60000/60000 [==============================] - 6s 94us/step - loss: 0.0414 - acc: 0.9883 - val_loss: 0.0568 - val_acc: 0.9858\n",
            "Epoch 27/50\n",
            "60000/60000 [==============================] - 6s 95us/step - loss: 0.0390 - acc: 0.9887 - val_loss: 0.0510 - val_acc: 0.9870\n",
            "Epoch 28/50\n",
            "60000/60000 [==============================] - 6s 94us/step - loss: 0.0377 - acc: 0.9889 - val_loss: 0.0509 - val_acc: 0.9875\n",
            "Epoch 29/50\n",
            "60000/60000 [==============================] - 6s 94us/step - loss: 0.0370 - acc: 0.9894 - val_loss: 0.0537 - val_acc: 0.9855\n",
            "Epoch 30/50\n",
            "60000/60000 [==============================] - 6s 94us/step - loss: 0.0361 - acc: 0.9896 - val_loss: 0.0516 - val_acc: 0.9865\n",
            "Epoch 31/50\n",
            "60000/60000 [==============================] - 6s 95us/step - loss: 0.0353 - acc: 0.9895 - val_loss: 0.0553 - val_acc: 0.9873\n",
            "Epoch 32/50\n",
            "60000/60000 [==============================] - 6s 94us/step - loss: 0.0350 - acc: 0.9900 - val_loss: 0.0514 - val_acc: 0.9859\n",
            "Epoch 33/50\n",
            "60000/60000 [==============================] - 6s 93us/step - loss: 0.0352 - acc: 0.9902 - val_loss: 0.0551 - val_acc: 0.9862\n",
            "Epoch 34/50\n",
            "60000/60000 [==============================] - 6s 94us/step - loss: 0.0325 - acc: 0.9908 - val_loss: 0.0574 - val_acc: 0.9858\n",
            "Epoch 35/50\n",
            "60000/60000 [==============================] - 6s 93us/step - loss: 0.0335 - acc: 0.9905 - val_loss: 0.0543 - val_acc: 0.9869\n",
            "Epoch 36/50\n",
            "60000/60000 [==============================] - 6s 93us/step - loss: 0.0321 - acc: 0.9906 - val_loss: 0.0488 - val_acc: 0.9873\n",
            "Epoch 37/50\n",
            "60000/60000 [==============================] - 6s 94us/step - loss: 0.0326 - acc: 0.9910 - val_loss: 0.0553 - val_acc: 0.9871\n",
            "Epoch 38/50\n",
            "60000/60000 [==============================] - 6s 94us/step - loss: 0.0324 - acc: 0.9905 - val_loss: 0.0552 - val_acc: 0.9886\n",
            "Epoch 39/50\n",
            "60000/60000 [==============================] - 6s 93us/step - loss: 0.0319 - acc: 0.9910 - val_loss: 0.0503 - val_acc: 0.9884\n",
            "Epoch 40/50\n",
            "60000/60000 [==============================] - 6s 94us/step - loss: 0.0306 - acc: 0.9916 - val_loss: 0.0563 - val_acc: 0.9882\n",
            "Epoch 41/50\n",
            "60000/60000 [==============================] - 6s 93us/step - loss: 0.0310 - acc: 0.9913 - val_loss: 0.0573 - val_acc: 0.9871\n",
            "Epoch 42/50\n",
            "60000/60000 [==============================] - 6s 94us/step - loss: 0.0312 - acc: 0.9912 - val_loss: 0.0590 - val_acc: 0.9875\n",
            "Epoch 43/50\n",
            "60000/60000 [==============================] - 6s 93us/step - loss: 0.0299 - acc: 0.9916 - val_loss: 0.0608 - val_acc: 0.9874\n",
            "Epoch 44/50\n",
            "60000/60000 [==============================] - 6s 94us/step - loss: 0.0281 - acc: 0.9916 - val_loss: 0.0577 - val_acc: 0.9886\n",
            "Epoch 45/50\n",
            "60000/60000 [==============================] - 6s 94us/step - loss: 0.0304 - acc: 0.9911 - val_loss: 0.0574 - val_acc: 0.9875\n",
            "Epoch 46/50\n",
            "60000/60000 [==============================] - 6s 94us/step - loss: 0.0279 - acc: 0.9918 - val_loss: 0.0615 - val_acc: 0.9865\n",
            "Epoch 47/50\n",
            "60000/60000 [==============================] - 6s 95us/step - loss: 0.0276 - acc: 0.9923 - val_loss: 0.0617 - val_acc: 0.9875\n",
            "Epoch 48/50\n",
            "60000/60000 [==============================] - 6s 94us/step - loss: 0.0296 - acc: 0.9914 - val_loss: 0.0555 - val_acc: 0.9875\n",
            "Epoch 49/50\n",
            "60000/60000 [==============================] - 6s 94us/step - loss: 0.0281 - acc: 0.9917 - val_loss: 0.0567 - val_acc: 0.9879\n",
            "Epoch 50/50\n",
            "60000/60000 [==============================] - 6s 93us/step - loss: 0.0289 - acc: 0.9923 - val_loss: 0.0601 - val_acc: 0.9862\n"
          ],
          "name": "stdout"
        },
        {
          "output_type": "execute_result",
          "data": {
            "text/plain": [
              "<keras.callbacks.History at 0x7f651e7d2a90>"
            ]
          },
          "metadata": {
            "tags": []
          },
          "execution_count": 48
        }
      ]
    },
    {
      "metadata": {
        "id": "8EiNZgaNXKiO",
        "colab_type": "code",
        "colab": {}
      },
      "cell_type": "code",
      "source": [
        "test_loss, accuracy = model.evaluate(test_x,test_y,verbose = 0)"
      ],
      "execution_count": 0,
      "outputs": []
    },
    {
      "metadata": {
        "id": "x9oBf2F6YwPu",
        "colab_type": "code",
        "colab": {
          "base_uri": "https://localhost:8080/",
          "height": 34
        },
        "outputId": "317855c6-dac2-407a-be72-35e73f959cd8"
      },
      "cell_type": "code",
      "source": [
        "print(\"Accuracy is : \",accuracy)"
      ],
      "execution_count": 50,
      "outputs": [
        {
          "output_type": "stream",
          "text": [
            "Accuracy is :  0.9862\n"
          ],
          "name": "stdout"
        }
      ]
    },
    {
      "metadata": {
        "id": "ZkhW22FPYy7_",
        "colab_type": "code",
        "colab": {}
      },
      "cell_type": "code",
      "source": [
        "predictions = model.predict(test_x)"
      ],
      "execution_count": 0,
      "outputs": []
    },
    {
      "metadata": {
        "id": "DbE0smbWZFIn",
        "colab_type": "code",
        "colab": {}
      },
      "cell_type": "code",
      "source": [
        "predictions.shape\n",
        "\n",
        "predicted_values = [np.argmax(i) for i in predictions]\n",
        "\n",
        "actual_values = [np.argmax(i) for i in test_y]"
      ],
      "execution_count": 0,
      "outputs": []
    },
    {
      "metadata": {
        "id": "e3yy6BHfZG5A",
        "colab_type": "code",
        "colab": {}
      },
      "cell_type": "code",
      "source": [
        "from sklearn.metrics import f1_score"
      ],
      "execution_count": 0,
      "outputs": []
    },
    {
      "metadata": {
        "id": "eR3ZtBi8ZJR6",
        "colab_type": "code",
        "colab": {
          "base_uri": "https://localhost:8080/",
          "height": 34
        },
        "outputId": "aca279dd-1293-4a2b-90be-7ef24c25abb6"
      },
      "cell_type": "code",
      "source": [
        "f1score = f1_score(actual_values,predicted_values,average='weighted')\n",
        "\n",
        "print(\"F1 Score is : \",f1score)"
      ],
      "execution_count": 65,
      "outputs": [
        {
          "output_type": "stream",
          "text": [
            "F1 Score is :  0.9861924246653678\n"
          ],
          "name": "stdout"
        }
      ]
    },
    {
      "metadata": {
        "id": "KAcrX0IFZNvy",
        "colab_type": "code",
        "colab": {}
      },
      "cell_type": "code",
      "source": [
        "from sklearn.metrics import recall_score"
      ],
      "execution_count": 0,
      "outputs": []
    },
    {
      "metadata": {
        "id": "v6MgCj_taA_N",
        "colab_type": "code",
        "colab": {
          "base_uri": "https://localhost:8080/",
          "height": 34
        },
        "outputId": "1aac3b70-ac01-4999-f29a-6d78e665fde0"
      },
      "cell_type": "code",
      "source": [
        "recall = recall_score(actual_values,predicted_values,average = 'weighted')\n",
        "\n",
        "print(\"Recall Score is : \",recall)"
      ],
      "execution_count": 67,
      "outputs": [
        {
          "output_type": "stream",
          "text": [
            "Recall Score is :  0.9862\n"
          ],
          "name": "stdout"
        }
      ]
    },
    {
      "metadata": {
        "id": "2XB-ilTZaCQX",
        "colab_type": "code",
        "colab": {}
      },
      "cell_type": "code",
      "source": [
        "from sklearn.metrics import precision_score"
      ],
      "execution_count": 0,
      "outputs": []
    },
    {
      "metadata": {
        "id": "dBmvOmcjaDwd",
        "colab_type": "code",
        "colab": {
          "base_uri": "https://localhost:8080/",
          "height": 34
        },
        "outputId": "78aae01c-4103-4276-9eea-cc1baa6ff2fd"
      },
      "cell_type": "code",
      "source": [
        "precision = precision_score(actual_values,predicted_values,average = 'weighted')\n",
        "\n",
        "print(\"Precision Score is : \",precision)"
      ],
      "execution_count": 69,
      "outputs": [
        {
          "output_type": "stream",
          "text": [
            "Precision Score is :  0.9862355551878332\n"
          ],
          "name": "stdout"
        }
      ]
    },
    {
      "metadata": {
        "id": "Voob7ayZaFGi",
        "colab_type": "code",
        "colab": {}
      },
      "cell_type": "code",
      "source": [
        "#Explanation using SHAP"
      ],
      "execution_count": 0,
      "outputs": []
    },
    {
      "metadata": {
        "id": "_gquaHNqaHfM",
        "colab_type": "code",
        "colab": {
          "base_uri": "https://localhost:8080/",
          "height": 457
        },
        "outputId": "ffca8a0e-8717-4ac0-a9fd-58ac2ced4e1d"
      },
      "cell_type": "code",
      "source": [
        "!pip install shap"
      ],
      "execution_count": 71,
      "outputs": [
        {
          "output_type": "stream",
          "text": [
            "Requirement already satisfied: shap in /usr/local/lib/python3.6/dist-packages (0.27.0)\n",
            "Requirement already satisfied: matplotlib in /usr/local/lib/python3.6/dist-packages (from shap) (3.0.2)\n",
            "Requirement already satisfied: numpy in /usr/local/lib/python3.6/dist-packages (from shap) (1.14.6)\n",
            "Requirement already satisfied: scipy in /usr/local/lib/python3.6/dist-packages (from shap) (1.1.0)\n",
            "Requirement already satisfied: ipython in /usr/local/lib/python3.6/dist-packages (from shap) (5.5.0)\n",
            "Requirement already satisfied: tqdm in /usr/local/lib/python3.6/dist-packages (from shap) (4.28.1)\n",
            "Requirement already satisfied: scikit-learn in /usr/local/lib/python3.6/dist-packages (from shap) (0.20.2)\n",
            "Requirement already satisfied: pandas in /usr/local/lib/python3.6/dist-packages (from shap) (0.22.0)\n",
            "Requirement already satisfied: cycler>=0.10 in /usr/local/lib/python3.6/dist-packages (from matplotlib->shap) (0.10.0)\n",
            "Requirement already satisfied: python-dateutil>=2.1 in /usr/local/lib/python3.6/dist-packages (from matplotlib->shap) (2.5.3)\n",
            "Requirement already satisfied: kiwisolver>=1.0.1 in /usr/local/lib/python3.6/dist-packages (from matplotlib->shap) (1.0.1)\n",
            "Requirement already satisfied: pyparsing!=2.0.4,!=2.1.2,!=2.1.6,>=2.0.1 in /usr/local/lib/python3.6/dist-packages (from matplotlib->shap) (2.3.1)\n",
            "Requirement already satisfied: pexpect; sys_platform != \"win32\" in /usr/local/lib/python3.6/dist-packages (from ipython->shap) (4.6.0)\n",
            "Requirement already satisfied: traitlets>=4.2 in /usr/local/lib/python3.6/dist-packages (from ipython->shap) (4.3.2)\n",
            "Requirement already satisfied: prompt-toolkit<2.0.0,>=1.0.4 in /usr/local/lib/python3.6/dist-packages (from ipython->shap) (1.0.15)\n",
            "Requirement already satisfied: simplegeneric>0.8 in /usr/local/lib/python3.6/dist-packages (from ipython->shap) (0.8.1)\n",
            "Requirement already satisfied: decorator in /usr/local/lib/python3.6/dist-packages (from ipython->shap) (4.3.0)\n",
            "Requirement already satisfied: pygments in /usr/local/lib/python3.6/dist-packages (from ipython->shap) (2.1.3)\n",
            "Requirement already satisfied: pickleshare in /usr/local/lib/python3.6/dist-packages (from ipython->shap) (0.7.5)\n",
            "Requirement already satisfied: setuptools>=18.5 in /usr/local/lib/python3.6/dist-packages (from ipython->shap) (40.6.3)\n",
            "Requirement already satisfied: pytz>=2011k in /usr/local/lib/python3.6/dist-packages (from pandas->shap) (2018.9)\n",
            "Requirement already satisfied: six in /usr/local/lib/python3.6/dist-packages (from cycler>=0.10->matplotlib->shap) (1.11.0)\n",
            "Requirement already satisfied: ptyprocess>=0.5 in /usr/local/lib/python3.6/dist-packages (from pexpect; sys_platform != \"win32\"->ipython->shap) (0.6.0)\n",
            "Requirement already satisfied: ipython-genutils in /usr/local/lib/python3.6/dist-packages (from traitlets>=4.2->ipython->shap) (0.2.0)\n",
            "Requirement already satisfied: wcwidth in /usr/local/lib/python3.6/dist-packages (from prompt-toolkit<2.0.0,>=1.0.4->ipython->shap) (0.1.7)\n"
          ],
          "name": "stdout"
        }
      ]
    },
    {
      "metadata": {
        "id": "1PmqnVFuaV-8",
        "colab_type": "code",
        "colab": {}
      },
      "cell_type": "code",
      "source": [
        "import shap"
      ],
      "execution_count": 0,
      "outputs": []
    },
    {
      "metadata": {
        "id": "EwTU46oqaI91",
        "colab_type": "code",
        "colab": {}
      },
      "cell_type": "code",
      "source": [
        "background = train_x[np.random.choice(train_x.shape[0], 100, replace=False)]"
      ],
      "execution_count": 0,
      "outputs": []
    },
    {
      "metadata": {
        "id": "V7_4YDHDaRMk",
        "colab_type": "code",
        "colab": {}
      },
      "cell_type": "code",
      "source": [
        "explainer = shap.DeepExplainer(model, background)"
      ],
      "execution_count": 0,
      "outputs": []
    },
    {
      "metadata": {
        "id": "ZpjKEGzqaUyh",
        "colab_type": "code",
        "colab": {}
      },
      "cell_type": "code",
      "source": [
        "shap_values = explainer.shap_values(test_x[1:2])"
      ],
      "execution_count": 0,
      "outputs": []
    },
    {
      "metadata": {
        "id": "7zr8fg_XvYxb",
        "colab_type": "code",
        "colab": {}
      },
      "cell_type": "code",
      "source": [
        "labels = [str(i) for i in range(10)]"
      ],
      "execution_count": 0,
      "outputs": []
    },
    {
      "metadata": {
        "id": "Yaz8JlnivlR0",
        "colab_type": "code",
        "colab": {
          "base_uri": "https://localhost:8080/",
          "height": 34
        },
        "outputId": "622136f5-bab9-4693-d5ad-2474914726c0"
      },
      "cell_type": "code",
      "source": [
        "shap_values[0].shape[0]"
      ],
      "execution_count": 135,
      "outputs": [
        {
          "output_type": "execute_result",
          "data": {
            "text/plain": [
              "1"
            ]
          },
          "metadata": {
            "tags": []
          },
          "execution_count": 135
        }
      ]
    },
    {
      "metadata": {
        "id": "WT9iaKZavsb1",
        "colab_type": "code",
        "colab": {
          "base_uri": "https://localhost:8080/",
          "height": 34
        },
        "outputId": "af909f77-4476-464f-f815-3f8ba2680d46"
      },
      "cell_type": "code",
      "source": [
        "np.array(labels).shape"
      ],
      "execution_count": 131,
      "outputs": [
        {
          "output_type": "execute_result",
          "data": {
            "text/plain": [
              "(10,)"
            ]
          },
          "metadata": {
            "tags": []
          },
          "execution_count": 131
        }
      ]
    },
    {
      "metadata": {
        "id": "qvaUhVbTytGg",
        "colab_type": "code",
        "colab": {
          "base_uri": "https://localhost:8080/",
          "height": 54
        },
        "outputId": "543d0ec3-0ca1-4838-dd71-13d8543ca074"
      },
      "cell_type": "code",
      "source": [
        "import skimage.color\n",
        "\n",
        "try:\n",
        "    import matplotlib.pyplot as pl\n",
        "    import matplotlib\n",
        "    from matplotlib.colors import LinearSegmentedColormap\n",
        "\n",
        "    def lch2rgb(x):\n",
        "        return skimage.color.lab2rgb(skimage.color.lch2lab([[x]]))[0][0]\n",
        "\n",
        "    # define our colors using Lch\n",
        "    # note that we intentionally vary the lightness during interpolation so as to better\n",
        "    # enable the eye to see patterns (since patterns are most easily recognized through\n",
        "    # lightness variability)\n",
        "    blue_lch = [54., 70., 4.6588]\n",
        "    l_mid = 40.\n",
        "    red_lch = [54., 90., 0.35470565 + 2* np.pi]\n",
        "    gray_lch = [55., 0., 0.]\n",
        "    blue_rgb = lch2rgb(blue_lch)\n",
        "    red_rgb = lch2rgb(red_lch)\n",
        "    gray_rgb = lch2rgb(gray_lch)\n",
        "\n",
        "    # define a perceptually uniform color scale using the Lch color space\n",
        "    reds = []\n",
        "    greens = []\n",
        "    blues = []\n",
        "    alphas = []\n",
        "    nsteps = 100\n",
        "    l_vals = list(np.linspace(blue_lch[0], l_mid, nsteps/2)) + list(np.linspace(l_mid, red_lch[0], nsteps/2))\n",
        "    c_vals = np.linspace(blue_lch[1], red_lch[1], nsteps)\n",
        "    h_vals = np.linspace(blue_lch[2], red_lch[2], nsteps)\n",
        "    for pos,l,c,h in zip(np.linspace(0, 1, nsteps), l_vals, c_vals, h_vals):\n",
        "        lch = [l, c, h]\n",
        "        rgb = lch2rgb(lch)\n",
        "        reds.append((pos, rgb[0], rgb[0]))\n",
        "        greens.append((pos, rgb[1], rgb[1]))\n",
        "        blues.append((pos, rgb[2], rgb[2]))\n",
        "        alphas.append((pos, 1.0, 1.0))\n",
        "\n",
        "    red_blue = LinearSegmentedColormap('red_blue', {\n",
        "        \"red\": reds,\n",
        "        \"green\": greens,\n",
        "        \"blue\": blues,\n",
        "        \"alpha\": alphas\n",
        "    })\n",
        "    red_blue.set_bad(gray_rgb, 1.0)\n",
        "    red_blue.set_over(gray_rgb, 1.0)\n",
        "    red_blue.set_under(gray_rgb, 1.0) # \"under\" is incorrectly used instead of \"bad\" in the scatter plot\n",
        "\n",
        "    red_blue_no_bounds = LinearSegmentedColormap('red_blue_no_bounds', {\n",
        "        \"red\": reds,\n",
        "        \"green\": greens,\n",
        "        \"blue\": blues,\n",
        "        \"alpha\": alphas\n",
        "    })\n",
        "\n",
        "    # define a circular version of the color scale for categorical coloring\n",
        "    reds = []\n",
        "    greens = []\n",
        "    blues = []\n",
        "    alphas = []\n",
        "    nsteps = 100\n",
        "    c_vals = np.linspace(blue_lch[1], red_lch[1], nsteps)\n",
        "    h_vals = np.linspace(blue_lch[2], red_lch[2], nsteps)\n",
        "    for pos,c,h in zip(np.linspace(0, 0.5, nsteps), c_vals, h_vals):\n",
        "        lch = [blue_lch[0], c, h]\n",
        "        rgb = lch2rgb(lch)\n",
        "        reds.append((pos, rgb[0], rgb[0]))\n",
        "        greens.append((pos, rgb[1], rgb[1]))\n",
        "        blues.append((pos, rgb[2], rgb[2]))\n",
        "        alphas.append((pos, 1.0, 1.0))\n",
        "    c_vals = np.linspace(red_lch[1], blue_lch[1], nsteps)\n",
        "    h_vals = np.linspace(red_lch[2] - 2 * np.pi, blue_lch[2], nsteps)\n",
        "    for pos,c,h in zip(np.linspace(0.5, 1, nsteps), c_vals, h_vals):\n",
        "        lch = [blue_lch[0], c, h]\n",
        "        rgb = lch2rgb(lch)\n",
        "        reds.append((pos, rgb[0], rgb[0]))\n",
        "        greens.append((pos, rgb[1], rgb[1]))\n",
        "        blues.append((pos, rgb[2], rgb[2]))\n",
        "        alphas.append((pos, 1.0, 1.0))\n",
        "\n",
        "    red_blue_circle = LinearSegmentedColormap('red_blue_circle', {\n",
        "        \"red\": reds,\n",
        "        \"green\": greens,\n",
        "        \"blue\": blues,\n",
        "        \"alpha\": alphas\n",
        "    })\n",
        "\n",
        "    colors = []\n",
        "    for l in np.linspace(1, 0, 100):\n",
        "        colors.append((30./255, 136./255, 229./255,l))\n",
        "    for l in np.linspace(0, 1, 100):\n",
        "        colors.append((255./255, 13./255, 87./255,l))\n",
        "    red_transparent_blue = LinearSegmentedColormap.from_list(\"red_transparent_blue\", colors)\n",
        "\n",
        "    colors = []\n",
        "    for l in np.linspace(0, 1, 100):\n",
        "        colors.append((30./255, 136./255, 229./255,l))\n",
        "    transparent_blue = LinearSegmentedColormap.from_list(\"transparent_blue\", colors)\n",
        "\n",
        "    colors = []\n",
        "    for l in np.linspace(0, 1, 100):\n",
        "        colors.append((255./255, 13./255, 87./255,l))\n",
        "    transparent_red = LinearSegmentedColormap.from_list(\"transparent_red\", colors)\n",
        "\n",
        "\n",
        "except ImportError:\n",
        "    pass"
      ],
      "execution_count": 166,
      "outputs": [
        {
          "output_type": "stream",
          "text": [
            "/usr/local/lib/python3.6/dist-packages/ipykernel_launcher.py:29: DeprecationWarning: object of type <class 'float'> cannot be safely interpreted as an integer.\n"
          ],
          "name": "stderr"
        }
      ]
    },
    {
      "metadata": {
        "id": "AYruYvJOyMvX",
        "colab_type": "code",
        "colab": {}
      },
      "cell_type": "code",
      "source": [
        "def image_plot(shap_values, x, labels=None, show=True):\n",
        "    \"\"\" Plots SHAP values for image inputs.\n",
        "    \"\"\"\n",
        "\n",
        "    multi_output = True\n",
        "    if type(shap_values) != list:\n",
        "        multi_output = False\n",
        "        shap_values = [shap_values]\n",
        "\n",
        "    # make sure labels\n",
        "    if labels is not None:\n",
        "        assert labels.shape[0] == shap_values[0].shape[0], \"Labels must have same row count as shap_values arrays!\"\n",
        "        if multi_output:\n",
        "            assert labels.shape[1] == len(shap_values), \"Labels must have a column for each output in shap_values!\"\n",
        "        else:\n",
        "            assert len(labels.shape) == 1, \"Labels must be a vector for single output shap_values.\"\n",
        "\n",
        "    # plot our explanations\n",
        "    fig_size = np.array([3 * (len(shap_values) + 1), 2.5 * (x.shape[0] + 1)])\n",
        "    if fig_size[0] > 20:\n",
        "        fig_size *= 20 / fig_size[0]\n",
        "    fig, axes = plt.subplots(nrows=x.shape[0], ncols=len(shap_values) + 1, figsize=fig_size)\n",
        "    if len(axes.shape) == 1:\n",
        "        axes = axes.reshape(1,axes.size)\n",
        "    for row in range(x.shape[0]):\n",
        "        x_curr = x[row].copy()\n",
        "\n",
        "        # make sure\n",
        "        if len(x_curr.shape) == 3 and x_curr.shape[2] == 1:\n",
        "            x_curr = x_curr.reshape(x_curr.shape[:2])\n",
        "        if x_curr.max() > 1:\n",
        "            x_curr /= 255.\n",
        "\n",
        "        # get a grayscale version of the image\n",
        "        if len(x_curr.shape) == 3 and x_curr.shape[2] == 3:\n",
        "            x_curr_gray = (0.2989 * x_curr[:,:,0] + 0.5870 * x_curr[:,:,1] + 0.1140 * x_curr[:,:,2]) # rgb to gray\n",
        "        else:\n",
        "            x_curr_gray = x_curr\n",
        "\n",
        "        axes[row,0].imshow(x_curr, cmap=plt.get_cmap('gray'))\n",
        "        axes[row,0].axis('off')\n",
        "        if len(shap_values[0][row].shape) == 2:\n",
        "            abs_vals = np.stack([np.abs(shap_values[i]) for i in range(len(shap_values))], 0).flatten()\n",
        "        else:\n",
        "            abs_vals = np.stack([np.abs(shap_values[i].sum(-1)) for i in range(len(shap_values))], 0).flatten()\n",
        "        max_val = np.nanpercentile(abs_vals, 99.9)\n",
        "        for i in range(len(shap_values)):\n",
        "            if labels is not None:\n",
        "                axes[row,i+1].set_title(labels[row,i])\n",
        "            sv = shap_values[i][row] if len(shap_values[i][row].shape) == 2 else shap_values[i][row].sum(-1)\n",
        "            axes[row,i+1].imshow(x_curr_gray, cmap=plt.get_cmap('gray'), alpha=0.15, extent=(-1, sv.shape[0], sv.shape[1], -1))\n",
        "            im = axes[row,i+1].imshow(sv, cmap=red_transparent_blue, vmin=-max_val, vmax=max_val)\n",
        "            axes[row,i+1].axis('off')\n",
        "    cb = fig.colorbar(im, ax=np.ravel(axes).tolist(), label=\"SHAP value\", orientation=\"horizontal\", aspect=fig_size[0]/0.2)\n",
        "    cb.outline.set_visible(False)\n",
        "    if show:\n",
        "        plt.show()\n",
        "    \n",
        "    return fig,axes"
      ],
      "execution_count": 0,
      "outputs": []
    },
    {
      "metadata": {
        "id": "3LbHOOQwafPh",
        "colab_type": "code",
        "colab": {
          "base_uri": "https://localhost:8080/",
          "height": 206
        },
        "outputId": "11bfb12b-0e8e-4ce7-f2e6-8d553d4ec871"
      },
      "cell_type": "code",
      "source": [
        "fig,axes = image_plot(shap_values, -test_x[1:2])"
      ],
      "execution_count": 229,
      "outputs": [
        {
          "output_type": "display_data",
          "data": {
            "image/png": "[encoded data removed]",
            "text/plain": [
              "<Figure size 1440x218.182 with 12 Axes>"
            ]
          },
          "metadata": {
            "tags": []
          }
        }
      ]
    },
    {
      "metadata": {
        "id": "kZMEKH8GyKX7",
        "colab_type": "code",
        "colab": {}
      },
      "cell_type": "code",
      "source": [
        "axes_from_fig = fig.get_axes()"
      ],
      "execution_count": 0,
      "outputs": []
    },
    {
      "metadata": {
        "id": "tX8WQP1I7Fzb",
        "colab_type": "code",
        "colab": {}
      },
      "cell_type": "code",
      "source": [
        "extent = ax.get_window_extent().transformed(fig.dpi_scale_trans.inverted())"
      ],
      "execution_count": 0,
      "outputs": []
    },
    {
      "metadata": {
        "id": "ZrYszaHF7Ktz",
        "colab_type": "code",
        "colab": {}
      },
      "cell_type": "code",
      "source": [
        "fig.savefig('ax2_figure.png', bbox_inches=extent)"
      ],
      "execution_count": 0,
      "outputs": []
    },
    {
      "metadata": {
        "id": "r2WUwNPn7zfF",
        "colab_type": "code",
        "colab": {}
      },
      "cell_type": "code",
      "source": [
        "def get_explanation_image(x,output_label,outputFileName):\n",
        "  shap_values = explainer.shap_values(test_x[1:2])\n",
        "  fig,axes = image_plot(shap_values, -x)\n",
        "  axes_from_fig = fig.get_axes()\n",
        "  extent = ax.get_window_extent().transformed(fig.dpi_scale_trans.inverted())\n",
        "  fig.savefig(outputFileName, bbox_inches=extent)  "
      ],
      "execution_count": 0,
      "outputs": []
    },
    {
      "metadata": {
        "id": "SrIc3-_Z8XTo",
        "colab_type": "code",
        "colab": {}
      },
      "cell_type": "code",
      "source": [
        "def add_noise(image):\n",
        "  row,col = image.shape\n",
        "  s_vs_p = 0.5\n",
        "  amount = 0.01\n",
        "  out = np.copy(image)\n",
        "  # Salt mode\n",
        "  num_salt = np.ceil(amount * image.size * s_vs_p)\n",
        "  coords = [np.random.randint(0, i - 1, int(num_salt))\n",
        "          for i in image.shape]\n",
        "  out[coords] = 1\n",
        "\n",
        "  # Pepper mode\n",
        "  num_pepper = np.ceil(amount* image.size * (1. - s_vs_p))\n",
        "  coords = [np.random.randint(0, i - 1, int(num_pepper))\n",
        "          for i in image.shape]\n",
        "  out[coords] = 0\n",
        "  return out"
      ],
      "execution_count": 0,
      "outputs": []
    },
    {
      "metadata": {
        "id": "7gYgPnXP8uY9",
        "colab_type": "code",
        "colab": {}
      },
      "cell_type": "code",
      "source": [
        "from skimage.measure import structural_similarity as ssim\n",
        "import cv2"
      ],
      "execution_count": 0,
      "outputs": []
    },
    {
      "metadata": {
        "id": "EOKsSW8a8x1H",
        "colab_type": "code",
        "colab": {}
      },
      "cell_type": "code",
      "source": [
        "def mse(imageA, imageB):\n",
        "\t# the 'Mean Squared Error' between the two images is the\n",
        "\t# sum of the squared difference between the two images;\n",
        "\t# NOTE: the two images must have the same dimension\n",
        "\terr = np.sum((imageA.astype(\"float\") - imageB.astype(\"float\")) ** 2)\n",
        "\terr /= float(imageA.shape[0] * imageA.shape[1])\n",
        "\t\n",
        "\t# return the MSE, the lower the error, the more \"similar\"\n",
        "\t# the two images are\n",
        "\treturn err\n",
        "\n",
        "def compare_images(imageA, imageB, title):\n",
        "  # compute the mean squared error and structural similarity\n",
        "  # index for the images\n",
        "  m = mse(imageA, imageB)\n",
        "  s = ssim(imageA, imageB,multichannel=True)\n",
        "\n",
        "  # setup the figure\n",
        "  fig = plt.figure(title)\n",
        "  plt.suptitle(\"MSE: %.2f, SSIM: %.2f\" % (m, s))\n",
        "\n",
        "  # show first image\n",
        "  ax = fig.add_subplot(1, 2, 1)\n",
        "  plt.imshow(imageA, cmap = plt.cm.gray)\n",
        "  plt.axis(\"off\")\n",
        "\n",
        "  # show the second image\n",
        "  ax = fig.add_subplot(1, 2, 2)\n",
        "  plt.imshow(imageB, cmap = plt.cm.gray)\n",
        "  plt.axis(\"off\")\n",
        "\n",
        "  # show the images\n",
        "  plt.show() \n",
        "  return m,s"
      ],
      "execution_count": 0,
      "outputs": []
    },
    {
      "metadata": {
        "id": "wGH4VDq-80IY",
        "colab_type": "code",
        "colab": {}
      },
      "cell_type": "code",
      "source": [
        "original_image = test_x[1:2]"
      ],
      "execution_count": 0,
      "outputs": []
    },
    {
      "metadata": {
        "id": "Zdmr23Q19Hdw",
        "colab_type": "code",
        "colab": {
          "base_uri": "https://localhost:8080/",
          "height": 34
        },
        "outputId": "8dabf0a7-37bd-48b8-d9f0-11fd8a92d6bd"
      },
      "cell_type": "code",
      "source": [
        "original_image.shape"
      ],
      "execution_count": 298,
      "outputs": [
        {
          "output_type": "execute_result",
          "data": {
            "text/plain": [
              "(1, 28, 28, 1)"
            ]
          },
          "metadata": {
            "tags": []
          },
          "execution_count": 298
        }
      ]
    },
    {
      "metadata": {
        "id": "5ZK3OPUM9KFb",
        "colab_type": "code",
        "colab": {}
      },
      "cell_type": "code",
      "source": [
        "noisy_image = add_noise(original_image.reshape(28,28))"
      ],
      "execution_count": 0,
      "outputs": []
    },
    {
      "metadata": {
        "id": "CzrE2M9J9Ov0",
        "colab_type": "code",
        "colab": {
          "base_uri": "https://localhost:8080/",
          "height": 364
        },
        "outputId": "1cd26492-f929-417f-be82-1a5263bd1237"
      },
      "cell_type": "code",
      "source": [
        "plt.imshow(noisy_image)"
      ],
      "execution_count": 300,
      "outputs": [
        {
          "output_type": "execute_result",
          "data": {
            "text/plain": [
              "<matplotlib.image.AxesImage at 0x7f64e89890b8>"
            ]
          },
          "metadata": {
            "tags": []
          },
          "execution_count": 300
        },
        {
          "output_type": "display_data",
          "data": {
            "image/png": "[encoded data removed]",
            "text/plain": [
              "<Figure size 576x396 with 1 Axes>"
            ]
          },
          "metadata": {
            "tags": []
          }
        }
      ]
    },
    {
      "metadata": {
        "id": "7USqg2vK9x3y",
        "colab_type": "code",
        "colab": {}
      },
      "cell_type": "code",
      "source": [
        "original_image_explanation = \"explanation_original.jpeg\"\n",
        "noisy_image_explanation = \"explanation_noisy_image.jpeg\""
      ],
      "execution_count": 0,
      "outputs": []
    },
    {
      "metadata": {
        "id": "WSc9Gd1j-F59",
        "colab_type": "code",
        "colab": {
          "base_uri": "https://localhost:8080/",
          "height": 206
        },
        "outputId": "a963b0d4-6894-4cdb-ff21-d061892c564e"
      },
      "cell_type": "code",
      "source": [
        "get_explanation_image(original_image,2,original_image_explanation)"
      ],
      "execution_count": 302,
      "outputs": [
        {
          "output_type": "display_data",
          "data": {
            "image/png": "[encoded data removed]",
            "text/plain": [
              "<Figure size 1440x218.182 with 12 Axes>"
            ]
          },
          "metadata": {
            "tags": []
          }
        }
      ]
    },
    {
      "metadata": {
        "id": "Wu8tCs8l-bcp",
        "colab_type": "code",
        "colab": {
          "base_uri": "https://localhost:8080/",
          "height": 34
        },
        "outputId": "44128bf1-3434-4b87-8160-99ecbfb5e190"
      },
      "cell_type": "code",
      "source": [
        "noisy_image.shape"
      ],
      "execution_count": 303,
      "outputs": [
        {
          "output_type": "execute_result",
          "data": {
            "text/plain": [
              "(28, 28)"
            ]
          },
          "metadata": {
            "tags": []
          },
          "execution_count": 303
        }
      ]
    },
    {
      "metadata": {
        "id": "WN27c8Lr-NCr",
        "colab_type": "code",
        "colab": {
          "base_uri": "https://localhost:8080/",
          "height": 206
        },
        "outputId": "d109e454-795a-4274-c555-4138bfe2bba5"
      },
      "cell_type": "code",
      "source": [
        "get_explanation_image(np.reshape(noisy_image,(1,28,28,1)),2,noisy_image_explanation)"
      ],
      "execution_count": 304,
      "outputs": [
        {
          "output_type": "display_data",
          "data": {
            "image/png": "[encoded data removed]",
            "text/plain": [
              "<Figure size 1440x218.182 with 12 Axes>"
            ]
          },
          "metadata": {
            "tags": []
          }
        }
      ]
    },
    {
      "metadata": {
        "id": "AMPNLxtE-h0P",
        "colab_type": "code",
        "colab": {
          "base_uri": "https://localhost:8080/",
          "height": 391
        },
        "outputId": "12dd036d-95be-4d2d-9612-9b22d1284eaf"
      },
      "cell_type": "code",
      "source": [
        "mse1,s1 = compare_images(original_image.reshape(28,28),noisy_image.reshape(28,28),\"Image Difference\")"
      ],
      "execution_count": 305,
      "outputs": [
        {
          "output_type": "stream",
          "text": [
            "/usr/local/lib/python3.6/dist-packages/skimage/measure/_structural_similarity.py:234: skimage_deprecation: Function ``structural_similarity`` is deprecated and will be removed in version 0.14. Use ``compare_ssim`` instead.\n",
            "  def structural_similarity(X, Y, win_size=None, gradient=False,\n"
          ],
          "name": "stderr"
        },
        {
          "output_type": "display_data",
          "data": {
            "image/png": "[encoded data removed]",
            "text/plain": [
              "<Figure size 576x396 with 2 Axes>"
            ]
          },
          "metadata": {
            "tags": []
          }
        }
      ]
    },
    {
      "metadata": {
        "id": "XRJpGmaa-tFO",
        "colab_type": "code",
        "colab": {}
      },
      "cell_type": "code",
      "source": [
        "noisy_explanation = cv2.imread(noisy_image_explanation)"
      ],
      "execution_count": 0,
      "outputs": []
    },
    {
      "metadata": {
        "id": "CZcNhDpU-9ga",
        "colab_type": "code",
        "colab": {}
      },
      "cell_type": "code",
      "source": [
        "original_explanation = cv2.imread(original_image_explanation)"
      ],
      "execution_count": 0,
      "outputs": []
    },
    {
      "metadata": {
        "id": "nBBwQMl9_FGL",
        "colab_type": "code",
        "colab": {
          "base_uri": "https://localhost:8080/",
          "height": 391
        },
        "outputId": "24696b56-71fa-4016-eb08-cc1be735b66b"
      },
      "cell_type": "code",
      "source": [
        "mse2,s2= compare_images(noisy_explanation,original_explanation,\"Image Difference\")"
      ],
      "execution_count": 308,
      "outputs": [
        {
          "output_type": "stream",
          "text": [
            "/usr/local/lib/python3.6/dist-packages/skimage/measure/_structural_similarity.py:234: skimage_deprecation: Function ``structural_similarity`` is deprecated and will be removed in version 0.14. Use ``compare_ssim`` instead.\n",
            "  def structural_similarity(X, Y, win_size=None, gradient=False,\n"
          ],
          "name": "stderr"
        },
        {
          "output_type": "display_data",
          "data": {
            "image/png": "[encoded data removed]",
            "text/plain": [
              "<Figure size 576x396 with 2 Axes>"
            ]
          },
          "metadata": {
            "tags": []
          }
        }
      ]
    },
    {
      "metadata": {
        "id": "82B_HDMi_O64",
        "colab_type": "code",
        "colab": {}
      },
      "cell_type": "code",
      "source": [
        "#stability score for the current image\n",
        "# stability = change in the explanation / change in the input\n",
        "stability = mse2/mse1"
      ],
      "execution_count": 0,
      "outputs": []
    },
    {
      "metadata": {
        "id": "5yFAQDC__p9U",
        "colab_type": "code",
        "colab": {
          "base_uri": "https://localhost:8080/",
          "height": 34
        },
        "outputId": "c5431341-0853-49bf-f3dc-862a80871362"
      },
      "cell_type": "code",
      "source": [
        "stability"
      ],
      "execution_count": 310,
      "outputs": [
        {
          "output_type": "execute_result",
          "data": {
            "text/plain": [
              "4889.2549478283745"
            ]
          },
          "metadata": {
            "tags": []
          },
          "execution_count": 310
        }
      ]
    }
  ]
}